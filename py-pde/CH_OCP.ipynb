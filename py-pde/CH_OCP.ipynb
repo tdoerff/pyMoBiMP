{
 "cells": [
  {
   "cell_type": "code",
   "execution_count": null,
   "metadata": {},
   "outputs": [],
   "source": [
    "import numpy as np\n",
    "import pde"
   ]
  },
  {
   "cell_type": "code",
   "execution_count": null,
   "metadata": {},
   "outputs": [],
   "source": [
    "print(dir(pde.pdes))"
   ]
  },
  {
   "cell_type": "code",
   "execution_count": null,
   "metadata": {},
   "outputs": [],
   "source": [
    "CHPDE = pde.pdes.DiffusionPDE"
   ]
  },
  {
   "cell_type": "code",
   "execution_count": null,
   "metadata": {},
   "outputs": [],
   "source": [
    "from pde import ScalarField\n",
    "\n",
    "class MyCahnHilliardPDE(pde.pdes.CahnHilliardPDE):\n",
    "\n",
    "    check_implementation = False\n",
    "\n",
    "    def __init__(self, *args, affinity=5.0, **kwargs):\n",
    "        super().__init__(*args, **kwargs)\n",
    "\n",
    "        self.affinity = affinity\n",
    "\n",
    "    def chemical_potential_f(self, u):\n",
    "\n",
    "        return np.log(u / (1 - u)) + self.affinity * u * (1 - u)\n",
    "\n",
    "    def mobility(self, u):\n",
    "        return 1.\n",
    "\n",
    "    def transformed_state(self, u):\n",
    "\n",
    "        return np.ln(u / (1 - u))\n",
    "\n",
    "    def physical_state(self, y):\n",
    "\n",
    "        return np.exp(y) / (1 + np.exp(y))\n",
    "\n",
    "    def du_dy(u, y):\n",
    "        return np.exp(-y) / u\n",
    "\n",
    "    def expression(self):\n",
    "        raise RuntimeError(\"'expression' should not be called.\")\n",
    "\n",
    "    def evolution_rate(self, state: pde.ScalarField, t: float = 0) -> pde.ScalarField:\n",
    "\n",
    "        assert isinstance(state, pde.ScalarField)\n",
    "\n",
    "        # The Neumann condition for mu translates into a Dirichlet condition\n",
    "        # for the flux.\n",
    "        bc_flux = [\"dirichlet\", {\"dirichlet\": self.bc_mu[1][\"neumann\"]}]\n",
    "\n",
    "        c = self.physical_state(state)\n",
    "\n",
    "        du_dy = self.du_dy(c, state)\n",
    "\n",
    "        c_laplace = c.laplace(bc=self.bc_c, label=\"evolution rate\", args={\"t\": t})\n",
    "\n",
    "        mu = self.chemical_potential_f(c) - self.interface_width * c_laplace\n",
    "\n",
    "        diff_flux = self.mobility(c) * mu.gradient(bc=self.bc_mu)\n",
    "\n",
    "        return -diff_flux.divergence(bc=bc_flux) / du_dy\n"
   ]
  },
  {
   "cell_type": "markdown",
   "metadata": {},
   "source": [
    "## Test the implementation\n",
    "\n",
    "Test the implementation against py-pde's CahnHilliardPDE."
   ]
  },
  {
   "cell_type": "code",
   "execution_count": null,
   "metadata": {},
   "outputs": [],
   "source": [
    "class ReferenceCHPDE(pde.pdes.CahnHilliardPDE):\n",
    "    pass"
   ]
  },
  {
   "cell_type": "code",
   "execution_count": null,
   "metadata": {},
   "outputs": [],
   "source": [
    "# Grid and initial data\n",
    "n_x = 50\n",
    "\n",
    "grid = pde.CartesianGrid(([0, 1],), n_x, periodic=[True, ])\n",
    "\n",
    "x = grid.axes_coords[0]\n",
    "\n",
    "field = pde.ScalarField(grid, 0.5 + 0.01 * np.sin(x * 2 * np.pi))\n",
    "\n",
    "field.plot()"
   ]
  },
  {
   "cell_type": "code",
   "execution_count": null,
   "metadata": {},
   "outputs": [],
   "source": [
    "ref_pde = pde.pdes.CahnHilliardPDE()\n",
    "\n",
    "solver = pde.solvers.CrankNicolsonSolver(ref_pde, explicit_fraction=0.5)\n",
    "\n",
    "result = ref_pde.solve(\n",
    "    field,\n",
    "    t_range=1.0,\n",
    "    dt=1e-5,\n",
    "    solver=\"scipy\",\n",
    "    adaptive=True,\n",
    ")\n",
    "\n",
    "result.plot()"
   ]
  },
  {
   "cell_type": "code",
   "execution_count": null,
   "metadata": {},
   "outputs": [],
   "source": [
    "class MyDiffusionPDE(MyCahnHilliardPDE):\n",
    "\n",
    "    def __init__(self, *args, **kwargs):\n",
    "        super().__init__(*args, interface_width=0., affinity=None, **kwargs)\n",
    "\n",
    "    def chemical_potential_f(self, u):\n",
    "        return u\n",
    "\n",
    "    # def transformed_state(self, u):\n",
    "\n",
    "    #     return u\n",
    "\n",
    "    # def physical_state(self, y):\n",
    "\n",
    "    #     return y\n",
    "\n",
    "    # def du_dy(u, y):\n",
    "    #     return 1."
   ]
  },
  {
   "cell_type": "code",
   "execution_count": null,
   "metadata": {},
   "outputs": [],
   "source": [
    "grid = pde.SphericalSymGrid(1., 50)"
   ]
  },
  {
   "cell_type": "code",
   "execution_count": null,
   "metadata": {},
   "outputs": [],
   "source": [
    "field = pde.ScalarField(grid, 0.4 + 0.01 * np.random.random(50))"
   ]
  },
  {
   "cell_type": "code",
   "execution_count": null,
   "metadata": {},
   "outputs": [],
   "source": [
    "q_dot = 1.\n",
    "\n",
    "bc_c = [\"neumann\", \"neumann\"]\n",
    "bc_mu = [\"neumann\", {\"neumann\": q_dot}]\n",
    "\n",
    "bc_diff = [{\"dirichlet\": 1.}, {\"dirichlet\": -0.}]\n",
    "\n",
    "eq = MyCahnHilliardPDE(affinity=5, interface_width=1., bc_mu=bc_mu, bc_c=bc_c)\n",
    "# eq = pde.pdes.DiffusionPDE(bc=bc_diff)"
   ]
  },
  {
   "cell_type": "code",
   "execution_count": null,
   "metadata": {},
   "outputs": [],
   "source": [
    "result = eq.solve(field, t_range=1.0, dt=1e-5)"
   ]
  },
  {
   "cell_type": "code",
   "execution_count": null,
   "metadata": {},
   "outputs": [],
   "source": [
    "result.plot()"
   ]
  },
  {
   "cell_type": "code",
   "execution_count": null,
   "metadata": {},
   "outputs": [],
   "source": [
    "result"
   ]
  },
  {
   "cell_type": "code",
   "execution_count": null,
   "metadata": {},
   "outputs": [],
   "source": []
  }
 ],
 "metadata": {
  "kernelspec": {
   "display_name": "base",
   "language": "python",
   "name": "python3"
  },
  "language_info": {
   "codemirror_mode": {
    "name": "ipython",
    "version": 3
   },
   "file_extension": ".py",
   "mimetype": "text/x-python",
   "name": "python",
   "nbconvert_exporter": "python",
   "pygments_lexer": "ipython3",
   "version": "3.11.5"
  }
 },
 "nbformat": 4,
 "nbformat_minor": 2
}
