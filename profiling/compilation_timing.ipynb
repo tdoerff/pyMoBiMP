{
 "cells": [
  {
   "cell_type": "code",
   "execution_count": 30,
   "metadata": {},
   "outputs": [],
   "source": [
    "import dolfinx as dfx\n",
    "from mpi4py.MPI import COMM_WORLD as comm\n",
    "import ufl"
   ]
  },
  {
   "cell_type": "markdown",
   "metadata": {},
   "source": [
    "## Mesh and function space"
   ]
  },
  {
   "cell_type": "code",
   "execution_count": 31,
   "metadata": {},
   "outputs": [],
   "source": [
    "# Mesh\n",
    "n_elem = 16\n",
    "mesh = dfx.mesh.create_unit_interval(comm, n_elem)\n",
    "\n",
    "# Elements\n",
    "num_particles = 96\n",
    "\n",
    "elem1 = ufl.FiniteElement(\"Lagrange\", mesh.ufl_cell(), 1)\n",
    "\n",
    "elem_c = elem1\n",
    "elem_mu = elem1\n",
    "\n",
    "multi_particle_element = ufl.MixedElement(\n",
    "    [\n",
    "        [\n",
    "            elem_c,\n",
    "        ]\n",
    "        * num_particles,\n",
    "        [\n",
    "            elem_mu,\n",
    "        ]\n",
    "        * num_particles,\n",
    "    ]\n",
    ")\n",
    "\n",
    "# Function space\n",
    "V = dfx.fem.FunctionSpace(mesh, multi_particle_element)\n",
    "V_c = dfx.fem.FunctionSpace(mesh, elem_c)"
   ]
  },
  {
   "cell_type": "markdown",
   "metadata": {},
   "source": [
    "## Grid info and function"
   ]
  },
  {
   "cell_type": "code",
   "execution_count": 32,
   "metadata": {},
   "outputs": [],
   "source": [
    "coords = ufl.SpatialCoordinate(mesh)\n",
    "r2 = ufl.dot(coords, coords)\n",
    "\n",
    "u = dfx.fem.Function(V)"
   ]
  },
  {
   "cell_type": "code",
   "execution_count": 33,
   "metadata": {},
   "outputs": [],
   "source": [
    "c, mu = u.split()\n",
    "\n",
    "cs = c.split()\n",
    "\n",
    "c0 = dfx.fem.Function(V_c)\n",
    "c1 = dfx.fem.Function(V_c)"
   ]
  },
  {
   "cell_type": "markdown",
   "metadata": {},
   "source": [
    "## Timing\n",
    "\n",
    "Compare compilation of every individual particle form vs. replacing expresion in prototype."
   ]
  },
  {
   "cell_type": "code",
   "execution_count": 34,
   "metadata": {},
   "outputs": [
    {
     "name": "stdout",
     "output_type": "stream",
     "text": [
      "1.22 s ± 14.4 ms per loop (mean ± std. dev. of 7 runs, 1 loop each)\n"
     ]
    }
   ],
   "source": [
    "%%timeit\n",
    "cs_forms = [dfx.fem.form(3 * r2 * c_ * ufl.dx) for c_ in cs]"
   ]
  },
  {
   "cell_type": "code",
   "execution_count": 35,
   "metadata": {},
   "outputs": [
    {
     "name": "stdout",
     "output_type": "stream",
     "text": [
      "1.22 s ± 12.1 ms per loop (mean ± std. dev. of 7 runs, 1 loop each)\n"
     ]
    }
   ],
   "source": [
    "%%timeit\n",
    "\n",
    "c_form_prototype = 3 * r2 * c0 * ufl.dx\n",
    "\n",
    "cs_forms = [dfx.fem.form(ufl.replace(c_form_prototype, {c0: c_})) for c_ in cs]"
   ]
  }
 ],
 "metadata": {
  "kernelspec": {
   "display_name": "fenicsx-env1",
   "language": "python",
   "name": "python3"
  },
  "language_info": {
   "codemirror_mode": {
    "name": "ipython",
    "version": 3
   },
   "file_extension": ".py",
   "mimetype": "text/x-python",
   "name": "python",
   "nbconvert_exporter": "python",
   "pygments_lexer": "ipython3",
   "version": "3.12.4"
  }
 },
 "nbformat": 4,
 "nbformat_minor": 2
}
