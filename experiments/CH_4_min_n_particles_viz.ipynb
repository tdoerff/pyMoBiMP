{
 "cells": [
  {
   "cell_type": "code",
   "execution_count": null,
   "metadata": {},
   "outputs": [],
   "source": [
    "%load_ext autoreload\n",
    "%autoreload 2"
   ]
  },
  {
   "cell_type": "code",
   "execution_count": null,
   "metadata": {},
   "outputs": [],
   "source": [
    "import h5py\n",
    "\n",
    "%matplotlib widget\n",
    "from matplotlib import pyplot as plt\n",
    "# plt.style.use('fivethirtyeight')\n",
    "\n",
    "from mpi4py import MPI\n",
    "\n",
    "import numpy as np\n",
    "\n",
    "from pyMoBiMP.fenicsx_utils import read_data\n",
    "\n",
    "from pyMoBiMP.gmsh_utils import dfx_spherical_mesh\n",
    "\n",
    "from pyMoBiMP.plotting_utils import (\n",
    "    add_arrow,\n",
    "    plot_charging_cycle,\n",
    "    plot_time_sequence,\n",
    "    PyvistaAnimation,\n",
    "    animate_time_series)\n",
    "\n",
    "comm_world = MPI.COMM_WORLD"
   ]
  },
  {
   "cell_type": "markdown",
   "metadata": {},
   "source": [
    "## Read in the data"
   ]
  },
  {
   "cell_type": "code",
   "execution_count": null,
   "metadata": {},
   "outputs": [],
   "source": [
    "filename = \"../simulation_output/CH_4_min_10_particles\"\n",
    "\n",
    "num_particles, t, x_data, u_data, rt_data = read_data(filename)"
   ]
  },
  {
   "cell_type": "code",
   "execution_count": null,
   "metadata": {},
   "outputs": [],
   "source": [
    "[plot_time_sequence((x_data, t, u_data[:, i_part, :, :]), lambda y: np.exp(y) / (1 + np.exp(y))) \n",
    " for i_part in range(num_particles)]\n",
    "\n",
    "plt.show()"
   ]
  },
  {
   "cell_type": "code",
   "execution_count": null,
   "metadata": {},
   "outputs": [],
   "source": [
    "mu_1_bc = u_data[:, 0, 1, -1]\n",
    "mu_2_bc = u_data[:, 1, 1, -1]\n",
    "\n",
    "mu_diff = mu_1_bc - mu_2_bc\n",
    "\n",
    "plt.figure()\n",
    "\n",
    "plt.plot(t, mu_diff)\n",
    "\n",
    "plt.show()\n",
    "\n",
    "print(np.abs(mu_1_bc).max())\n",
    "print(np.abs(mu_2_bc).max())\n",
    "print(np.abs(u_data[:, 0, 1, -1] - u_data[:, 1, 1, -1]).max())"
   ]
  },
  {
   "cell_type": "code",
   "execution_count": null,
   "metadata": {},
   "outputs": [],
   "source": [
    "import dolfinx as dfx\n",
    "import os\n",
    "\n",
    "mesh_file = \"mesh_3d.xdmf\"\n",
    "\n",
    "try:\n",
    "    print(f\">>> Read mesh from {mesh_file}\")\n",
    "    with dfx.io.XDMFFile(comm_world, mesh_file, \"r\") as file:\n",
    "        mesh_3d = file.read_mesh()\n",
    "\n",
    "except (RuntimeError, FileNotFoundError) as e:\n",
    "    print(e)\n",
    "\n",
    "    mesh_3d, _, _ = dfx_spherical_mesh(comm_world, resolution=0.1, optimize=False)\n",
    "\n",
    "    print(f\">>> Write mesh to {mesh_file}\")\n",
    "    with dfx.io.XDMFFile(comm_world, mesh_file, \"w\") as file:\n",
    "        file.write_mesh(mesh_3d)"
   ]
  },
  {
   "cell_type": "code",
   "execution_count": null,
   "metadata": {},
   "outputs": [],
   "source": [
    "a = 1.5\n",
    "b = 0.2\n",
    "cc = 5.\n",
    "\n",
    "chem_pot = lambda q: np.log(q / (1 - q)) + a * (1 - 2 * q) + b * np.pi * cc * np.cos(np.pi * cc * q)\n",
    "\n",
    "rt_data_ = rt_data.copy()\n",
    "\n",
    "meshes = [mesh_3d, ] * num_particles\n",
    "\n",
    "anim = PyvistaAnimation(\n",
    "    (x_data, t, u_data[:, :, :, :]),\n",
    "    rt_data=rt_data_,\n",
    "    meshes=meshes,\n",
    "    c_of_y=lambda y: np.exp(y) / (1 + np.exp(y)),\n",
    "    f_of_q=chem_pot,\n",
    "    clim=[0.0, 1.0],\n",
    "    cmap=\"fire\",\n",
    "    clipped=True\n",
    ")\n",
    "\n",
    "widget = anim.get_slider_widget()"
   ]
  },
  {
   "cell_type": "code",
   "execution_count": null,
   "metadata": {},
   "outputs": [],
   "source": [
    "fig, ax = plt.subplots()\n",
    "\n",
    "def c_of_y(y):\n",
    "    return np.exp(y) / (np.exp(y) + 1)\n",
    "\n",
    "[ax.plot(t, c_of_y(u_data[:, i_part, 0, -1]), label=f\"particle_{i_part}\") for i_part in range(num_particles)]\n",
    "\n",
    "ax.legend()\n",
    "\n",
    "plt.show()"
   ]
  },
  {
   "cell_type": "code",
   "execution_count": null,
   "metadata": {},
   "outputs": [],
   "source": [
    "fig, ax = plt.subplots()\n",
    "\n",
    "def c_of_y(y):\n",
    "    return np.exp(y) / (np.exp(y) + 1)\n",
    "\n",
    "charges = 3 * np.trapz(c_of_y(u_data[:, :, 0, :]) * x_data[:, 0]**2, \n",
    "                  x_data[:, 0], axis=-1)\n",
    "\n",
    "total_charge = charges.sum(axis=1) / num_particles\n",
    "\n",
    "c_rate = (total_charge[2] - total_charge[0]) / t[2]\n",
    "\n",
    "plt.plot(t, total_charge, 'k', label='total charge')\n",
    "[plt.plot(t, charges[:, i_part], label=f\"charge_{i_part}\") for i_part in range(num_particles)]\n",
    "\n",
    "ax.legend()\n",
    "\n",
    "plt.show()"
   ]
  },
  {
   "cell_type": "code",
   "execution_count": null,
   "metadata": {},
   "outputs": [],
   "source": [
    "plt.figure()\n",
    "\n",
    "plt.plot((total_charge[2:] - total_charge[0]) / t[2:])\n",
    "\n",
    "plt.show()"
   ]
  },
  {
   "cell_type": "code",
   "execution_count": null,
   "metadata": {},
   "outputs": [],
   "source": [
    "plt.figure()\n",
    "\n",
    "plt.plot(rt_data[:, 0], rt_data[:, 1])\n",
    "\n",
    "plt.show()"
   ]
  }
 ],
 "metadata": {
  "kernelspec": {
   "display_name": "fenicsx-env",
   "language": "python",
   "name": "python3"
  },
  "language_info": {
   "codemirror_mode": {
    "name": "ipython",
    "version": 3
   },
   "file_extension": ".py",
   "mimetype": "text/x-python",
   "name": "python",
   "nbconvert_exporter": "python",
   "pygments_lexer": "ipython3",
   "version": "3.12.2"
  }
 },
 "nbformat": 4,
 "nbformat_minor": 2
}
