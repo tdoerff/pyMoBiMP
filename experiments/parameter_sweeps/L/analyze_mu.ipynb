{
 "cells": [
  {
   "cell_type": "code",
   "execution_count": null,
   "metadata": {},
   "outputs": [],
   "source": [
    "%load_ext autoreload\n",
    "%autoreload 2"
   ]
  },
  {
   "cell_type": "code",
   "execution_count": null,
   "metadata": {},
   "outputs": [],
   "source": [
    "import ipywidgets\n",
    "\n",
    "import numpy as np\n",
    "\n",
    "%matplotlib widget\n",
    "import matplotlib.pyplot as plt\n",
    "\n",
    "from pyMoBiMP.fenicsx_utils import read_data"
   ]
  },
  {
   "cell_type": "code",
   "execution_count": null,
   "metadata": {},
   "outputs": [],
   "source": [
    "num_particles, t, x_data, u_data, rt_data = read_data(\"1000000/simulation_output/output.xdmf\")"
   ]
  },
  {
   "cell_type": "code",
   "execution_count": null,
   "metadata": {},
   "outputs": [],
   "source": [
    "mu = u_data[:, :, 1, :]"
   ]
  },
  {
   "cell_type": "code",
   "execution_count": null,
   "metadata": {},
   "outputs": [],
   "source": [
    "fig, ax = plt.subplots()\n",
    "\n",
    "it_max = len(t)\n",
    "\n",
    "it_slider = ipywidgets.IntSlider(min=0, max=it_max - 1, step=1, value=0)\n",
    "\n",
    "def update(it):\n",
    "    ax.cla()\n",
    "\n",
    "    ax.set_ylim((0, 1.05 * num_particles))\n",
    "\n",
    "    ax.set_xlabel(\"mu\")\n",
    "    ax.set_ylabel(\"#particles\")\n",
    "\n",
    "    ax.hist(mu[it, :, -1], bins=np.linspace(mu[..., -1].min(), mu[..., -1].max(), 100))\n",
    "\n",
    "\n",
    "widget = ipywidgets.interact(update, it=it_slider)\n",
    "\n",
    "plt.show()"
   ]
  },
  {
   "cell_type": "code",
   "execution_count": null,
   "metadata": {},
   "outputs": [],
   "source": []
  }
 ],
 "metadata": {
  "kernelspec": {
   "display_name": "fenicsx-env1",
   "language": "python",
   "name": "python3"
  },
  "language_info": {
   "codemirror_mode": {
    "name": "ipython",
    "version": 3
   },
   "file_extension": ".py",
   "mimetype": "text/x-python",
   "name": "python",
   "nbconvert_exporter": "python",
   "pygments_lexer": "ipython3",
   "version": "3.12.4"
  }
 },
 "nbformat": 4,
 "nbformat_minor": 2
}
