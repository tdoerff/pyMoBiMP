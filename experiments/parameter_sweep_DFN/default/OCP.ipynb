{
 "cells": [
  {
   "cell_type": "code",
   "execution_count": 2,
   "metadata": {},
   "outputs": [],
   "source": [
    "%matplotlib widget\n",
    "from matplotlib import pyplot as plt\n",
    "\n",
    "import numpy as np"
   ]
  },
  {
   "cell_type": "code",
   "execution_count": 11,
   "metadata": {},
   "outputs": [],
   "source": [
    "data = np.loadtxt(\"output_rt.txt\")\n",
    "\n",
    "t = data[:, 0]\n",
    "q = data[:, 1]\n",
    "V = data[:, 2] * 0.0254\n",
    "\n",
    "dq = np.zeros_like(q)\n",
    "dq[1:] = np.diff(q) / np.diff(t)"
   ]
  },
  {
   "cell_type": "code",
   "execution_count": null,
   "metadata": {},
   "outputs": [],
   "source": [
    "fig = plt.figure(figsize=(5,3), tight_layout=True)\n",
    "\n",
    "eps = 1e-7\n",
    "\n",
    "plt.title(\"\")\n",
    "\n",
    "plt.plot(q[dq>eps], V[dq>eps], 'r')\n",
    "plt.plot(q[dq<0], V[dq<0], 'b')\n",
    "\n",
    "plt.ylabel(r\"Cell Voltage E\")\n",
    "plt.xlabel(r\"$x$ in Li${}_x$C${_6}$\")\n",
    "\n",
    "plt.show()"
   ]
  }
 ],
 "metadata": {
  "kernelspec": {
   "display_name": "fenicsx-env",
   "language": "python",
   "name": "python3"
  },
  "language_info": {
   "codemirror_mode": {
    "name": "ipython",
    "version": 3
   },
   "file_extension": ".py",
   "mimetype": "text/x-python",
   "name": "python",
   "nbconvert_exporter": "python",
   "pygments_lexer": "ipython3",
   "version": "3.10.14"
  }
 },
 "nbformat": 4,
 "nbformat_minor": 2
}
