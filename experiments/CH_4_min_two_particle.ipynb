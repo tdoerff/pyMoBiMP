{
 "cells": [
  {
   "cell_type": "code",
   "execution_count": null,
   "metadata": {},
   "outputs": [],
   "source": [
    "%load_ext autoreload\n",
    "%autoreload 2"
   ]
  },
  {
   "cell_type": "code",
   "execution_count": null,
   "metadata": {},
   "outputs": [],
   "source": [
    "import h5py\n",
    "\n",
    "%matplotlib widget\n",
    "from matplotlib import pyplot as plt\n",
    "# plt.style.use('fivethirtyeight')\n",
    "\n",
    "from mpi4py import MPI\n",
    "\n",
    "import numpy as np\n",
    "\n",
    "from pyMoBiMP.gmsh_utils import dfx_spherical_mesh\n",
    "\n",
    "from pyMoBiMP.plotting_utils import (\n",
    "    add_arrow,\n",
    "    plot_charging_cycle,\n",
    "    plot_time_sequence,\n",
    "    PyvistaAnimation,\n",
    "    animate_time_series)\n",
    "\n",
    "comm_world = MPI.COMM_WORLD"
   ]
  },
  {
   "cell_type": "markdown",
   "metadata": {},
   "source": [
    "## Read in the data"
   ]
  },
  {
   "cell_type": "code",
   "execution_count": null,
   "metadata": {},
   "outputs": [],
   "source": [
    "filename = \"../simulation_output/CH_4_min_2_particle.h5\"\n",
    "\n",
    "with h5py.File(filename, 'r') as f:\n",
    "    print(f[\"Function\"].keys())\n",
    "\n",
    "    # grid coordinates\n",
    "    x_data = f[\"Mesh/mesh/geometry\"][()]\n",
    "\n",
    "    t_keys = f[\"Function/y_0\"].keys()\n",
    "\n",
    "    # time steps (convert from string to float)\n",
    "    t = [float(t.replace(\"_\", \".\")) for t in t_keys]\n",
    "\n",
    "    # list of data stored as numpy arrays\n",
    "    u_data_1 = np.array([\n",
    "        (f[\"Function/y_0\"][u_key][()].squeeze(),\n",
    "         f[\"Function/mu_0\"][u_key][()].squeeze())\n",
    "        for u_key in t_keys])\n",
    "\n",
    "    u_data_2 = np.array([\n",
    "        (f[\"Function/y_1\"][u_key][()].squeeze(),\n",
    "         f[\"Function/mu_1\"][u_key][()].squeeze())\n",
    "        for u_key in t_keys])\n",
    "\n",
    "sorted_indx = np.argsort(t)\n",
    "\n",
    "t = np.array(t)[sorted_indx]\n",
    "u_data_1 = np.array(u_data_1)[sorted_indx]\n",
    "u_data_2 = np.array(u_data_2)[sorted_indx]\n",
    "\n",
    "rt_data  = np.loadtxt(\"../simulation_output/CH_4_min_2_particle_rt.txt\")"
   ]
  },
  {
   "cell_type": "code",
   "execution_count": null,
   "metadata": {},
   "outputs": [],
   "source": [
    "fig, ax = plot_time_sequence((x_data, t, u_data_1), lambda y: np.exp(y) / (1 + np.exp(y)))\n",
    "\n",
    "plt.show()"
   ]
  },
  {
   "cell_type": "markdown",
   "metadata": {},
   "source": []
  },
  {
   "cell_type": "code",
   "execution_count": null,
   "metadata": {},
   "outputs": [],
   "source": [
    "fig, ax = plot_time_sequence((x_data, t, u_data_2), lambda y: np.exp(y) / (1 + np.exp(y)))\n",
    "\n",
    "plt.show()"
   ]
  },
  {
   "cell_type": "code",
   "execution_count": null,
   "metadata": {},
   "outputs": [],
   "source": [
    "mu_1_bc = u_data_1[:, 1, -1]\n",
    "mu_2_bc = u_data_2[:, 1, -1]\n",
    "\n",
    "mu_diff = mu_1_bc - mu_2_bc\n",
    "\n",
    "plt.figure()\n",
    "\n",
    "plt.plot(t, mu_diff)\n",
    "\n",
    "plt.show()\n",
    "\n",
    "print(np.abs(mu_1_bc).max())\n",
    "print(np.abs(mu_2_bc).max())\n",
    "print(np.abs(u_data_1[:, 1, -1] - u_data_2[:, 1, -1]).max())"
   ]
  },
  {
   "cell_type": "code",
   "execution_count": null,
   "metadata": {},
   "outputs": [],
   "source": [
    "np.abs(u_data_2 - u_data_1).max()"
   ]
  },
  {
   "cell_type": "code",
   "execution_count": null,
   "metadata": {},
   "outputs": [],
   "source": [
    "mesh_3d, _, _ = dfx_spherical_mesh(comm_world, resolution=0.1, optimize=False)"
   ]
  },
  {
   "cell_type": "code",
   "execution_count": null,
   "metadata": {},
   "outputs": [],
   "source": [
    "a = 1.5\n",
    "b = 0.2\n",
    "cc = 5.\n",
    "\n",
    "chem_pot = lambda q: np.log(q / (1 - q)) + a * (1 - 2 * q) + b * np.pi * cc * np.cos(np.pi * cc * q)\n",
    "\n",
    "anim = PyvistaAnimation(\n",
    "    (x_data, t, u_data_1),\n",
    "    rt_data=rt_data,\n",
    "    mesh_3d=mesh_3d,\n",
    "    c_of_y=lambda y: np.exp(y) / (1 + np.exp(y)),\n",
    "    f_of_q=chem_pot,\n",
    "    res=1.0,\n",
    "    clim=[0.0, 1.0],\n",
    "    cmap=\"fire\",\n",
    ")\n",
    "\n",
    "widget = anim.get_slider_widget()"
   ]
  }
 ],
 "metadata": {
  "kernelspec": {
   "display_name": "fenicsx-env",
   "language": "python",
   "name": "python3"
  },
  "language_info": {
   "codemirror_mode": {
    "name": "ipython",
    "version": 3
   },
   "file_extension": ".py",
   "mimetype": "text/x-python",
   "name": "python",
   "nbconvert_exporter": "python",
   "pygments_lexer": "ipython3",
   "version": "3.12.2"
  }
 },
 "nbformat": 4,
 "nbformat_minor": 2
}
