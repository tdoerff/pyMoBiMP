{
 "cells": [
  {
   "cell_type": "code",
   "execution_count": null,
   "metadata": {},
   "outputs": [],
   "source": [
    "%load_ext autoreload\n",
    "%autoreload 2"
   ]
  },
  {
   "cell_type": "code",
   "execution_count": null,
   "metadata": {},
   "outputs": [],
   "source": [
    "\n",
    "import dolfinx as dfx\n",
    "\n",
    "from dolfinx.fem.petsc import NonlinearProblem\n",
    "\n",
    "%matplotlib widget\n",
    "from matplotlib import pyplot as plt\n",
    "# plt.style.use('fivethirtyeight')\n",
    "\n",
    "from mpi4py import MPI\n",
    "\n",
    "import numpy as np\n",
    "\n",
    "from pathlib import Path\n",
    "\n",
    "from petsc4py import PETSc\n",
    "\n",
    "import ufl\n",
    "\n",
    "from pyMoBiMP.cahn_hilliard_utils import (\n",
    "    cahn_hilliard_form,\n",
    "    charge_discharge_stop, \n",
    "    AnalyzeOCP,\n",
    "    y_of_c,\n",
    "    c_of_y,\n",
    "    populate_initial_data)\n",
    "\n",
    "from pyMoBiMP.fenicsx_utils import (evaluation_points_and_cells,\n",
    "                           get_mesh_spacing,\n",
    "                           time_stepping,\n",
    "                           NewtonSolver,\n",
    "                           Fenicx1DOutput,\n",
    "                           VTXOutput)\n",
    "\n",
    "from pyMoBiMP.gmsh_utils import dfx_spherical_mesh\n",
    "\n",
    "from pyMoBiMP.plotting_utils import (\n",
    "    add_arrow, \n",
    "    plot_charging_cycle, \n",
    "    plot_time_sequence,\n",
    "    animate_time_series)\n",
    "\n",
    "comm_world = MPI.COMM_WORLD"
   ]
  },
  {
   "cell_type": "code",
   "execution_count": null,
   "metadata": {},
   "outputs": [],
   "source": [
    "# Discretization\n",
    "# --------------\n",
    "\n",
    "# Set up the mesh\n",
    "n_elem = 128\n",
    "\n",
    "mesh = dfx.mesh.create_unit_interval(comm_world, n_elem)\n",
    "\n",
    "dx_cell = get_mesh_spacing(mesh)\n",
    "\n",
    "print(f\"Cell spacing: h = {dx_cell}\")\n",
    "\n",
    "# For later plotting use\n",
    "x = np.linspace(0, 1, 101)\n",
    "points_on_proc, cells = evaluation_points_and_cells(mesh, x)\n",
    "\n",
    "T = 2.  # ending time\n",
    "\n",
    "# Initial timestep size\n",
    "dt = dfx.fem.Constant(mesh, dx_cell * 0.01)"
   ]
  },
  {
   "cell_type": "code",
   "execution_count": null,
   "metadata": {},
   "outputs": [],
   "source": [
    "elem1 = ufl.FiniteElement(\"Lagrange\", mesh.ufl_cell(), 1)\n",
    "\n",
    "V = dfx.fem.FunctionSpace(mesh, elem1 * elem1)  # A mixed two-component function space"
   ]
  },
  {
   "cell_type": "code",
   "execution_count": null,
   "metadata": {},
   "outputs": [],
   "source": [
    "# The mixed-element functions\n",
    "u = dfx.fem.Function(V)\n",
    "u0 = dfx.fem.Function(V)"
   ]
  },
  {
   "cell_type": "code",
   "execution_count": null,
   "metadata": {},
   "outputs": [],
   "source": [
    "# Compute the chemical potential df/dc\n",
    "\n",
    "free_energy = lambda c, log: c * log(c) + (1 - c) * log(1 - c)\n",
    "\n",
    "fig, ax = plt.subplots()\n",
    "\n",
    "eps = 1e-3\n",
    "\n",
    "c_plot = np.linspace(eps, 1-eps, 200)\n",
    "\n",
    "ax.plot(c_plot, free_energy(c_plot, np.log))\n",
    "\n",
    "ax.set_xlabel(r\"$c$\")\n",
    "ax.set_ylabel(r\"$F(c)$\")\n",
    "\n",
    "plt.show()"
   ]
  },
  {
   "cell_type": "code",
   "execution_count": null,
   "metadata": {},
   "outputs": [],
   "source": [
    "# Experimental setup\n",
    "# ------------------\n",
    "\n",
    "# charging current\n",
    "I_charge = dfx.fem.Constant(mesh, 1.0)\n",
    "\n",
    "def experiment(t, u, I_charge):\n",
    "\n",
    "    return charge_discharge_stop(t, u, I_charge, c_of_y=lambda y: c_of_y(y),\n",
    "                                 stop_on_full=False, stop_at_empty=False, cycling=False)\n",
    "\n",
    "event_params = dict(I_charge=I_charge)"
   ]
  },
  {
   "cell_type": "code",
   "execution_count": null,
   "metadata": {},
   "outputs": [],
   "source": [
    "# The variational form\n",
    "# --------------------\n",
    "\n",
    "F = cahn_hilliard_form(\n",
    "    u,\n",
    "    u0,\n",
    "    dt,\n",
    "    free_energy=lambda c: free_energy(c, ufl.ln),\n",
    "    theta=0.75,\n",
    "    c_of_y=lambda y: c_of_y(y),\n",
    "    M=lambda c: 1. * c * (1 - c),\n",
    "    lam=0.00001,\n",
    "    **event_params\n",
    ")"
   ]
  },
  {
   "cell_type": "code",
   "execution_count": null,
   "metadata": {},
   "outputs": [],
   "source": [
    "# Initial data\n",
    "# ------------\n",
    "\n",
    "u_ini = dfx.fem.Function(V)\n",
    "\n",
    "# Constant\n",
    "c_ini_fun = lambda x: eps * np.ones_like(x[0])\n",
    "\n",
    "# Initial charge distribution.\n",
    "# c_ini_fun = lambda x: eps + 0.5 * np.sin(np.pi * x[0])\n",
    "\n",
    "populate_initial_data(u_ini, c_ini_fun, lambda c: free_energy(c, ufl.ln))\n",
    "\n",
    "W, _ = V.sub(0).collapse()\n",
    "\n",
    "c = dfx.fem.Function(W)\n",
    "c.interpolate(dfx.fem.Expression(c_of_y(u_ini.sub(0)), W.element.interpolation_points()))\n",
    "\n",
    "plt.figure()\n",
    "\n",
    "plt.plot(x, u_ini.sub(0).eval(points_on_proc, cells), label=\"y\")\n",
    "plt.plot(x, c.eval(points_on_proc, cells), label=\"c\")\n",
    "plt.plot(x, u_ini.sub(1).eval(points_on_proc, cells), label=r\"$\\mu$\")\n",
    "\n",
    "plt.legend()\n",
    "\n",
    "plt.show()"
   ]
  },
  {
   "cell_type": "code",
   "execution_count": null,
   "metadata": {},
   "outputs": [],
   "source": [
    "problem = NonlinearProblem(F, u)\n",
    "\n",
    "solver = NewtonSolver(comm_world, problem)"
   ]
  },
  {
   "cell_type": "code",
   "execution_count": null,
   "metadata": {},
   "outputs": [],
   "source": [
    "u.interpolate(u_ini)\n",
    "\n",
    "n_out = 51\n",
    "\n",
    "output_np = Fenicx1DOutput(u, np.linspace(0, T, n_out), x)\n",
    "\n",
    "rt_analysis = AnalyzeOCP(c_of_y = lambda y: c_of_y(y))\n",
    "\n",
    "time_stepping(\n",
    "    solver,\n",
    "    u,\n",
    "    u0,\n",
    "    T,\n",
    "    dt,\n",
    "    dt_increase=1.01,\n",
    "    dt_max=1e-3,\n",
    "    event_handler=experiment,\n",
    "    output=(output_np),\n",
    "    runtime_analysis=rt_analysis,\n",
    "    **event_params,\n",
    ")"
   ]
  },
  {
   "cell_type": "code",
   "execution_count": null,
   "metadata": {},
   "outputs": [],
   "source": [
    "fig, ax = plot_time_sequence(output_np, lambda y: np.exp(y) / (1 + np.exp(y)))\n",
    "\n",
    "plt.show()"
   ]
  },
  {
   "cell_type": "code",
   "execution_count": null,
   "metadata": {},
   "outputs": [],
   "source": [
    "from plotting_utils import PyvistaAnimation\n",
    "\n",
    "anim = PyvistaAnimation(\n",
    "    output_np,\n",
    "    c_of_y=lambda y: np.exp(y) / (np.exp(y) + 1),\n",
    "    res=0.1,\n",
    "    clim=[0.0, 1.0],\n",
    "    cmap=\"hot\",)\n",
    "\n",
    "widget = anim.get_slider_widget()\n",
    "\n",
    "anim.write_vtk_output(\"results/lin_diff.vtk\")"
   ]
  },
  {
   "cell_type": "code",
   "execution_count": null,
   "metadata": {},
   "outputs": [],
   "source": [
    "# anim_gif = PyvistaAnimation(\n",
    "#     output,\n",
    "#     c_of_y=lambda y: c_of_y(y, np.exp),\n",
    "#     res=0.1,\n",
    "#     clim=[0.0, 1.0],\n",
    "#     cmap=\"hot\",)\n",
    "\n",
    "# results_folder = Path(\"results\")\n",
    "# results_folder.mkdir(exist_ok=True, parents=True)\n",
    "\n",
    "# filename = results_folder / \"linear_diffusion.gif\"\n",
    "\n",
    "# anim_gif.get_gif_animation(filename)"
   ]
  },
  {
   "cell_type": "code",
   "execution_count": null,
   "metadata": {},
   "outputs": [],
   "source": [
    "fig, ax = plt.subplots()\n",
    "\n",
    "c = c_of_y(u.sub(0))\n",
    "mu = u.sub(1).eval(points_on_proc, cells)\n",
    "\n",
    "W = V.sub(1).collapse()[0]\n",
    "\n",
    "c = ufl.variable(c)\n",
    "dFdc = ufl.diff(free_energy(c, ufl.ln), c)\n",
    "\n",
    "chem_pot = dfx.fem.Function(W)\n",
    "chem_pot.interpolate(dfx.fem.Expression(dFdc, W.element.interpolation_points()))\n",
    "chem_pot = chem_pot.eval(points_on_proc, cells)\n",
    "\n",
    "ax.plot(x, mu)\n",
    "ax.plot(x, chem_pot)\n",
    "\n",
    "plt.show()"
   ]
  },
  {
   "cell_type": "code",
   "execution_count": null,
   "metadata": {},
   "outputs": [],
   "source": [
    "q, f_bar, mu_bc = np.array(rt_analysis.data).T\n",
    "t = rt_analysis.t\n",
    "\n",
    "fig, ax = plt.subplots()\n",
    "\n",
    "ax1 = ax.twinx()\n",
    "\n",
    "(p1,) = ax1.plot(t, q, '--', label=r\"$q$\")\n",
    "ax1.set_ylabel(r\"$q$\")\n",
    "\n",
    "(p2,) = ax.plot(t, mu_bc, label=r\"$\\left. \\mu \\right|_{\\partial \\omega_I}$\")\n",
    "(p3,) = ax.plot(t, f_bar, label=r\"$\\bar f$\")\n",
    "\n",
    "labs = [l.get_label() for l in [p1, p2, p3]]\n",
    "\n",
    "ax.legend([p1, p2, p3], labs, loc=\"lower right\")\n",
    "\n",
    "plt.show()"
   ]
  },
  {
   "cell_type": "code",
   "execution_count": null,
   "metadata": {},
   "outputs": [],
   "source": [
    "q, f_bar, mu_bc = np.array(rt_analysis.data).T\n",
    "\n",
    "eps = 1e-3\n",
    "\n",
    "a = 6/4\n",
    "b = 0.2\n",
    "c = 5.0\n",
    "\n",
    "free_energy = lambda q: np.log(q / (1 - q))\n",
    "chart = plot_charging_cycle([(I_charge.value, q, mu_bc)], lambda q: free_energy(q))"
   ]
  }
 ],
 "metadata": {
  "kernelspec": {
   "display_name": "fenicsx-env",
   "language": "python",
   "name": "python3"
  },
  "language_info": {
   "codemirror_mode": {
    "name": "ipython",
    "version": 3
   },
   "file_extension": ".py",
   "mimetype": "text/x-python",
   "name": "python",
   "nbconvert_exporter": "python",
   "pygments_lexer": "ipython3",
   "version": "3.12.2"
  }
 },
 "nbformat": 4,
 "nbformat_minor": 2
}
