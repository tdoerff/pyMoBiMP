{
 "cells": [
  {
   "cell_type": "code",
   "execution_count": null,
   "metadata": {},
   "outputs": [],
   "source": [
    "import dolfinx as dfx\n",
    "\n",
    "import gmsh\n",
    "import pygmsh\n",
    "\n",
    "import meshio\n",
    "\n",
    "%matplotlib widget\n",
    "import matplotlib.pyplot as plt\n",
    "\n",
    "from mpi4py import MPI\n",
    "\n",
    "import numpy as np"
   ]
  },
  {
   "cell_type": "code",
   "execution_count": null,
   "metadata": {},
   "outputs": [],
   "source": [
    "mesh_comm = MPI.COMM_WORLD\n",
    "\n",
    "model_rank = 0\n",
    "\n",
    "L = 1.\n",
    "\n",
    "resolution = 0.01\n",
    "\n",
    "# Initialize empty geometry using the build in kernel in GMSH\n",
    "geometry = pygmsh.geo.Geometry()\n",
    "# Fetch model we would like to add data to\n",
    "model = geometry.__enter__()\n",
    "\n",
    "# Add points with finer resolution on left side\n",
    "points = [model.add_point((0, 0, 0), mesh_size=resolution),\n",
    "          model.add_point((L, 0, 0), mesh_size=0.1 * resolution)]\n",
    "\n",
    "line = model.add_line(points[0], points[1])\n",
    "\n",
    "# Call gmsh kernel before add physical entities\n",
    "model.synchronize()\n",
    "\n",
    "model.add_physical([line], \"Volume\")\n",
    "\n",
    "geometry.generate_mesh(dim=2)\n",
    "gmsh.write(\"mesh.msh\")\n",
    "gmsh.clear()\n",
    "geometry.__exit__()\n"
   ]
  },
  {
   "cell_type": "code",
   "execution_count": null,
   "metadata": {},
   "outputs": [],
   "source": [
    "mesh_from_file = meshio.read(\"mesh.msh\")\n"
   ]
  },
  {
   "cell_type": "code",
   "execution_count": null,
   "metadata": {},
   "outputs": [],
   "source": [
    "def create_mesh(mesh, cell_type, prune_z=False):\n",
    "\n",
    "    cells = mesh.get_cells_type(cell_type)\n",
    "    cell_data = mesh.get_cell_data(\"gmsh:physical\", cell_type)\n",
    "\n",
    "    points = mesh.points[:, :2] if prune_z else mesh.points\n",
    "\n",
    "    out_mesh = meshio.Mesh(points=points, cells={cell_type: cells}, cell_data={\n",
    "                           \"name_to_read\": [cell_data]})\n",
    "    return out_mesh\n"
   ]
  },
  {
   "cell_type": "code",
   "execution_count": null,
   "metadata": {},
   "outputs": [],
   "source": [
    "line_mesh = create_mesh(mesh_from_file, \"line\", prune_z=True)\n",
    "meshio.write(\"line_mesh.xdmf\", line_mesh)"
   ]
  },
  {
   "cell_type": "code",
   "execution_count": null,
   "metadata": {},
   "outputs": [],
   "source": [
    "with dfx.io.XDMFFile(mesh_comm, \"line_mesh.xdmf\", 'r') as file:\n",
    "    mesh = file.read_mesh(name=\"Grid\")"
   ]
  },
  {
   "cell_type": "code",
   "execution_count": null,
   "metadata": {},
   "outputs": [],
   "source": [
    "V = dfx.fem.FunctionSpace(mesh, (\"CG\", 1))\n",
    "\n",
    "cells, types, x = dfx.plot.vtk_mesh(V)"
   ]
  },
  {
   "cell_type": "code",
   "execution_count": null,
   "metadata": {},
   "outputs": [],
   "source": [
    "plt.plot(x[:, 0], 'x')"
   ]
  }
 ],
 "metadata": {
  "kernelspec": {
   "display_name": "fenicsx-env1",
   "language": "python",
   "name": "python3"
  },
  "language_info": {
   "codemirror_mode": {
    "name": "ipython",
    "version": 3
   },
   "file_extension": ".py",
   "mimetype": "text/x-python",
   "name": "python",
   "nbconvert_exporter": "python",
   "pygments_lexer": "ipython3",
   "version": "3.12.2"
  }
 },
 "nbformat": 4,
 "nbformat_minor": 2
}
