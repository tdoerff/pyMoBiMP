{
 "cells": [
  {
   "cell_type": "markdown",
   "metadata": {},
   "source": [
    "# Demo on plotting and manipulating grids in Dolfinx"
   ]
  },
  {
   "cell_type": "markdown",
   "metadata": {},
   "source": [
    "## Basic ```matplotlib``` example\n",
    "\n",
    "We give a list of vertices and plot them as a grid using ```triplot```."
   ]
  },
  {
   "cell_type": "code",
   "execution_count": null,
   "metadata": {},
   "outputs": [],
   "source": [
    "import numpy as np\n",
    "import matplotlib.pyplot as plt\n",
    "\n",
    "pp = np.array([[0.5,1],[2,1],[3,1.5],[3.5,2.5],[2.2,2],[1,2.2]])\n",
    "ee = np.array([[0,1,5],[1,4,5],[1,2,4],[2,3,4]])\n",
    "plt.triplot(pp[:,0],pp[:,1],ee)\n",
    "plt.show()"
   ]
  },
  {
   "cell_type": "markdown",
   "metadata": {},
   "source": [
    "## ```dolfinx```/```pyvista``` approach"
   ]
  },
  {
   "cell_type": "code",
   "execution_count": null,
   "metadata": {},
   "outputs": [],
   "source": [
    "import dolfinx\n",
    "import ufl\n",
    "from mpi4py import MPI\n",
    "import numpy as np\n",
    "\n",
    "mesh_comm = MPI.COMM_WORLD\n",
    "model_rank = 0\n",
    "\n",
    "import pyvista\n",
    "\n",
    "def plot_mesh(mesh):\n",
    "    V0 = dolfinx.fem.functionspace(mesh, (\"CG\", 1))\n",
    "\n",
    "    topology, cell_types, x = dolfinx.plot.vtk_mesh(V0)\n",
    "    grid = pyvista.UnstructuredGrid(topology, cell_types, x)\n",
    "\n",
    "    plotter = pyvista.Plotter()\n",
    "\n",
    "    plotter.add_mesh(grid, show_edges=True, show_scalar_bar=True)\n",
    "\n",
    "    plotter.show()"
   ]
  },
  {
   "cell_type": "code",
   "execution_count": null,
   "metadata": {},
   "outputs": [],
   "source": [
    "gdim = 2\n",
    "shape = \"triangle\"\n",
    "degree = 1\n",
    "\n",
    "cell = ufl.Cell(shape, geometric_dimension=gdim)\n",
    "domain = ufl.Mesh(ufl.VectorElement(\"Lagrange\", cell, degree))\n",
    "\n",
    "x = np.array(pp)\n",
    "cells = np.array(ee, dtype=np.int32)\n",
    "mesh = dolfinx.mesh.create_mesh(MPI.COMM_WORLD, cells, x, domain)\n",
    "\n",
    "# with dolfinx.io.XDMFFile(MPI.COMM_WORLD, \"mesh.xdmf\", \"w\") as xdmf:\n",
    "#     xdmf.write_mesh(mesh)"
   ]
  },
  {
   "cell_type": "markdown",
   "metadata": {},
   "source": [
    "### 3D grids\n",
    "\n",
    "First, a test of a very basic single tetroid."
   ]
  },
  {
   "cell_type": "code",
   "execution_count": null,
   "metadata": {},
   "outputs": [],
   "source": [
    "vertices = np.array([[0., 0., 0.], [1., 0., 0.], [0., 1., 0.], [0., 0., 1.]])\n",
    "cells = np.array([[0, 1, 2, 3]])\n",
    "\n",
    "gdim = 3\n",
    "shape = \"tetrahedron\"\n",
    "degree = 1\n",
    "\n",
    "cell = ufl.Cell(shape, geometric_dimension=gdim)\n",
    "domain = ufl.Mesh(ufl.VectorElement(\"Lagrange\", cell, degree))\n",
    "\n",
    "mesh = dolfinx.mesh.create_mesh(MPI.COMM_WORLD, cells[:, :4], vertices, domain)\n",
    "\n",
    "plot_mesh(mesh)"
   ]
  },
  {
   "cell_type": "markdown",
   "metadata": {},
   "source": [
    "Make it a surface grid"
   ]
  },
  {
   "cell_type": "code",
   "execution_count": null,
   "metadata": {},
   "outputs": [],
   "source": [
    "vertices = np.array([[0., 0., 0.], [1., 0., 0.], [0., 1., 0.], [0., 0., 1.]])\n",
    "cells = np.array([[0, 1, 2], [0, 1, 3], [0, 2, 3]])\n",
    "\n",
    "gdim = 3\n",
    "shape = \"triangle\"\n",
    "degree = 1\n",
    "\n",
    "cell = ufl.Cell(shape, geometric_dimension=gdim)\n",
    "domain = ufl.Mesh(ufl.VectorElement(\"Lagrange\", cell, degree))\n",
    "\n",
    "mesh = dolfinx.mesh.create_mesh(MPI.COMM_WORLD, cells[:, :4], vertices, domain)\n",
    "\n",
    "plot_mesh(mesh)"
   ]
  },
  {
   "cell_type": "markdown",
   "metadata": {},
   "source": [
    "## Grids from file\n",
    "\n",
    "Read Manuel's grid files and plot the meshes"
   ]
  },
  {
   "cell_type": "code",
   "execution_count": null,
   "metadata": {},
   "outputs": [],
   "source": [
    "vertices = np.loadtxt(\"Spherical/singleParticle_Tom1_vol.node\")\n",
    "cells = np.loadtxt(\"Spherical/singleParticle_Tom1_vol.elem\", dtype=np.int32)\n",
    "\n",
    "print(f\"# vertices : {len(vertices)}\")\n",
    "print(f\"# cell     : {len(cells)}\")"
   ]
  },
  {
   "cell_type": "code",
   "execution_count": null,
   "metadata": {},
   "outputs": [],
   "source": [
    "gdim = 3\n",
    "shape = \"tetrahedron\"\n",
    "degree = 1\n",
    "\n",
    "cell = ufl.Cell(shape, geometric_dimension=gdim)\n",
    "domain = ufl.Mesh(ufl.VectorElement(\"Lagrange\", cell, degree))\n",
    "\n",
    "# This approach leads to a kernel crash. :(\n",
    "mesh = dolfinx.mesh.create_mesh(MPI.COMM_WORLD, cells[:, :4] - 1, vertices, domain)\n",
    "\n",
    "plot_mesh(mesh)"
   ]
  },
  {
   "cell_type": "code",
   "execution_count": null,
   "metadata": {},
   "outputs": [],
   "source": [
    "V0 = dolfinx.fem.functionspace(mesh, (\"CG\", 1))\n",
    "\n",
    "topology, cell_types, x = dolfinx.plot.vtk_mesh(V0)\n",
    "grid = pyvista.UnstructuredGrid(topology, cell_types, x)\n",
    "\n",
    "clipped = grid.clip('z')\n",
    "\n",
    "plotter = pyvista.Plotter()\n",
    "\n",
    "plotter.add_mesh(clipped, show_edges=True, show_scalar_bar=True)\n",
    "plotter.add_mesh(grid, style=\"wireframe\", color=\"blue\")\n",
    "\n",
    "plotter.show()"
   ]
  },
  {
   "cell_type": "markdown",
   "metadata": {},
   "source": [
    "## The ```GMSH``` approach"
   ]
  },
  {
   "cell_type": "code",
   "execution_count": null,
   "metadata": {},
   "outputs": [],
   "source": [
    "import gmsh\n",
    "gmsh.initialize()"
   ]
  },
  {
   "cell_type": "code",
   "execution_count": null,
   "metadata": {},
   "outputs": [],
   "source": [
    "lc = 1.e-2  # Some sort of accuracy\n",
    "\n",
    "for point in vertices:\n",
    "    gmsh.model.geo.add_point(*point, lc)\n",
    "    \n",
    "gmsh.model.geo.synchronize()\n",
    "gmsh.model.mesh.generate()\n",
    "\n",
    "# gmsh.fltk.run()\n",
    "\n",
    "gmsh.finalize()"
   ]
  },
  {
   "cell_type": "markdown",
   "metadata": {},
   "source": [
    "## The ```meshio``` approach"
   ]
  },
  {
   "cell_type": "markdown",
   "metadata": {},
   "source": [
    "### Simple mesh"
   ]
  },
  {
   "cell_type": "code",
   "execution_count": null,
   "metadata": {},
   "outputs": [],
   "source": [
    "import meshio\n",
    "from pathlib import Path\n",
    "meshio.__version__"
   ]
  },
  {
   "cell_type": "code",
   "execution_count": null,
   "metadata": {},
   "outputs": [],
   "source": [
    "points = np.array([[0.5,1],[2,1],[3,1.5],[3.5,2.5],[2.2,2],[1,2.2]])\n",
    "cells = [(\"triangle\", np.array([[0,1,5],[1,4,5],[1,2,4],[2,3,4]]))]\n",
    "\n",
    "io_mesh = meshio.Mesh(points, cells)\n",
    "\n",
    "io_mesh.write(\"small_mesh.xdmf\")\n",
    "\n",
    "# write as tetgen\n",
    "points.tofile(\"small_mesh.node\")\n",
    "cells[0][1].tofile(\"small_mesh.ele\")"
   ]
  },
  {
   "cell_type": "code",
   "execution_count": null,
   "metadata": {},
   "outputs": [],
   "source": [
    "filename = Path(\".\", \"small_mesh.xdmf\")\n",
    "\n",
    "with dolfinx.io.XDMFFile(MPI.COMM_WORLD, filename, 'r') as file:\n",
    "    mesh = file.read_mesh(name=\"Grid\") # TODO: name the grid during writing\n",
    "    \n",
    "plot_mesh(mesh)"
   ]
  },
  {
   "cell_type": "markdown",
   "metadata": {},
   "source": [
    "### Cube"
   ]
  },
  {
   "cell_type": "code",
   "execution_count": null,
   "metadata": {},
   "outputs": [],
   "source": [
    "mesh = dolfinx.mesh.create_unit_cube(mesh_comm, 10, 10, 10, cell_type=dolfinx.cpp.mesh.CellType.hexahedron)\n",
    "\n",
    "topology, cell_types, x = dolfinx.plot.vtk_mesh(mesh, 3)\n",
    "grid = pyvista.UnstructuredGrid(topology, cell_types, x)\n",
    "\n",
    "plot_mesh(mesh)"
   ]
  },
  {
   "cell_type": "markdown",
   "metadata": {},
   "source": [
    "### Sphere"
   ]
  },
  {
   "cell_type": "code",
   "execution_count": null,
   "metadata": {},
   "outputs": [],
   "source": [
    "from dolfinx.io import XDMFFile, gmshio\n",
    "from pyMoBiMP.gmsh_utils import gmsh_sphere_model, model_to_file\n",
    "\n",
    "gmsh.initialize()\n",
    "gmsh.option.setNumber(\"General.Terminal\", 0)\n",
    "\n",
    "# Create model\n",
    "model = gmsh.model()\n",
    "\n",
    "try:\n",
    "    model = gmsh_sphere_model(model, \"Sphere\")\n",
    "    model.setCurrent(\"Sphere\")\n",
    "\n",
    "    mesh, ct, ft = gmshio.model_to_mesh(model, mesh_comm, rank=0)\n",
    "\n",
    "    model_to_file(MPI.COMM_SELF, model, \"sphere\", f\"out_gmsh/mesh_rank_{MPI.COMM_WORLD.rank}.xdmf\", \"w\")\n",
    "\n",
    "finally:\n",
    "    gmsh.finalize()"
   ]
  },
  {
   "cell_type": "code",
   "execution_count": null,
   "metadata": {},
   "outputs": [],
   "source": [
    "plot_mesh(mesh)"
   ]
  },
  {
   "cell_type": "code",
   "execution_count": null,
   "metadata": {},
   "outputs": [],
   "source": [
    "filename = Path(\"out_gmsh\", \"mesh_rank_0.xdmf\")\n",
    "\n",
    "if mesh_comm.rank == model_rank:\n",
    "    with dolfinx.io.XDMFFile(MPI.COMM_WORLD, filename, 'r') as file:\n",
    "        mesh = file.read_mesh(name=\"sphere\") # TODO: name the grid during writing\n",
    "\n",
    "plot_mesh(mesh)"
   ]
  },
  {
   "cell_type": "markdown",
   "metadata": {},
   "source": [
    "### A simple radial visualization"
   ]
  },
  {
   "cell_type": "code",
   "execution_count": null,
   "metadata": {},
   "outputs": [],
   "source": [
    "V_3d = dolfinx.fem.functionspace(mesh, (\"CG\", 1))\n",
    "\n",
    "# Create radial data\n",
    "mesh_1d = dolfinx.mesh.create_unit_interval(mesh_comm, 10)\n",
    "\n",
    "V_1d = dolfinx.fem.functionspace(mesh_1d, (\"CG\", 2))\n",
    "\n",
    "u_1d = dolfinx.fem.Function(V_1d)\n",
    "u_1d.interpolate(lambda r: r[0]**2)\n",
    "\n",
    "import matplotlib.pyplot as plt\n",
    "import scipy as sp\n",
    "\n",
    "plt.plot(V_1d.tabulate_dof_coordinates()[:, 0], u_1d.x.array, 'x')\n"
   ]
  },
  {
   "cell_type": "code",
   "execution_count": null,
   "metadata": {},
   "outputs": [],
   "source": [
    "x = V_1d.tabulate_dof_coordinates()[:, 0]\n",
    "y = u_1d.x.array\n",
    "\n",
    "poly = sp.interpolate.lagrange(x, y)\n",
    "\n",
    "u_3d = dolfinx.fem.Function(V_3d)\n",
    "\n",
    "u_3d.interpolate(lambda x: poly((x[0]**2 + x[1]**2 + x[2]**2)**0.5))\n"
   ]
  },
  {
   "cell_type": "code",
   "execution_count": null,
   "metadata": {},
   "outputs": [],
   "source": [
    "topology, cell_types, x = dolfinx.plot.vtk_mesh(V_3d)\n",
    "grid = pyvista.UnstructuredGrid(topology, cell_types, x)\n",
    "\n",
    "grid[\"u\"] = u_3d.x.array\n",
    "\n",
    "clipped = grid.clip_box([0., 1., 0., 1., 0., 1.], crinkle=False)\n",
    "\n",
    "plotter = pyvista.Plotter()\n",
    "\n",
    "plotter.add_mesh(clipped, show_edges=True, show_scalar_bar=True)\n",
    "# plotter.add_mesh(grid, style=\"wireframe\", color=\"blue\")\n",
    "\n",
    "plotter.show()"
   ]
  }
 ],
 "metadata": {
  "kernelspec": {
   "display_name": "fenicsx-env",
   "language": "python",
   "name": "python3"
  },
  "language_info": {
   "codemirror_mode": {
    "name": "ipython",
    "version": 3
   },
   "file_extension": ".py",
   "mimetype": "text/x-python",
   "name": "python",
   "nbconvert_exporter": "python",
   "pygments_lexer": "ipython3",
   "version": "3.12.2"
  }
 },
 "nbformat": 4,
 "nbformat_minor": 2
}
