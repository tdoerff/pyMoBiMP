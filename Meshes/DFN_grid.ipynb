{
 "cells": [
  {
   "cell_type": "code",
   "execution_count": null,
   "metadata": {},
   "outputs": [],
   "source": [
    "%load_ext autoreload\n",
    "%autoreload 2\n",
    "\n",
    "%matplotlib"
   ]
  },
  {
   "cell_type": "code",
   "execution_count": null,
   "metadata": {},
   "outputs": [],
   "source": [
    "import dolfinx as dfx\n",
    "\n",
    "import matplotlib.pyplot as plt\n",
    "\n",
    "from mpi4py.MPI import COMM_WORLD as comm\n",
    "\n",
    "import numpy as np\n",
    "\n",
    "import pyvista as pv\n",
    "\n",
    "import ufl\n",
    "\n",
    "from pyMoBiMP.cahn_hilliard_utils import (\n",
    "    c_of_y, compute_chemical_potential, _free_energy as free_energy)\n",
    "\n",
    "from pyMoBiMP.fenicsx_utils import time_stepping"
   ]
  },
  {
   "cell_type": "code",
   "execution_count": null,
   "metadata": {},
   "outputs": [],
   "source": [
    "n_rad = 64\n",
    "n_part = 12\n",
    "\n",
    "radial_grid = np.linspace(0, 1, n_rad)\n",
    "particle_grid = np.linspace(0, 1, n_part)\n",
    "\n",
    "rr, pp = np.meshgrid(radial_grid, particle_grid)\n",
    "\n",
    "coords_grid = np.stack((rr, pp)).transpose((-1, 1, 0)).copy()\n",
    "\n",
    "coords_grid.shape\n",
    "\n",
    "coords_grid_flat = coords_grid.reshape(-1, 2).copy()"
   ]
  },
  {
   "cell_type": "code",
   "execution_count": null,
   "metadata": {},
   "outputs": [],
   "source": [
    "# All the radial connections\n",
    "elements_radial = [[[n_part * i + k, n_part * (i + 1) + k] for i in range(n_rad - 1)] \n",
    "                     for k in range(n_part)]\n",
    "\n",
    "elements_radial = np.array(elements_radial).reshape(-1, 2)\n",
    "\n",
    "# Connections between particles\n",
    "elements_bc = (n_rad -1) * n_part + np.array([[k, k + 1] for k in range(n_part - 1)])\n",
    "# elements_bc = []  # With elements at the outer edge the integration fails.\n",
    "\n",
    "elements = np.array(list(elements_bc) + list(elements_radial))"
   ]
  },
  {
   "cell_type": "code",
   "execution_count": null,
   "metadata": {},
   "outputs": [],
   "source": [
    "plt.figure()\n",
    "\n",
    "for element in elements:\n",
    "    # print(coords_grid_flat[element, :], coords_grid_flat[element, :])\n",
    "    plt.plot(coords_grid_flat[element, 0], coords_grid_flat[element, 1], 'b')\n",
    "\n",
    "plt.scatter(coords_grid_flat[:, 0], coords_grid_flat[:, 1])\n",
    "\n",
    "plt.show()"
   ]
  },
  {
   "cell_type": "code",
   "execution_count": null,
   "metadata": {},
   "outputs": [],
   "source": [
    "gdim = 2\n",
    "shape = \"interval\"\n",
    "degree = 1\n",
    "\n",
    "cell = ufl.Cell(shape, geometric_dimension=gdim)\n",
    "domain = ufl.Mesh(ufl.VectorElement(\"Lagrange\", cell, degree))\n",
    "\n",
    "mesh = dfx.mesh.create_mesh(comm, elements[:, :2], coords_grid_flat, domain)"
   ]
  },
  {
   "cell_type": "code",
   "execution_count": null,
   "metadata": {},
   "outputs": [],
   "source": [
    "V = dfx.fem.FunctionSpace(mesh, (\"CG\", 1))\n",
    "\n",
    "u = dfx.fem.Function(V)\n",
    "u.interpolate(lambda x: x[0] + x[1])\n",
    "\n",
    "def plot_solution_on_grid(u):\n",
    "\n",
    "    V = u.function_space\n",
    "\n",
    "    topology, cell_types, x = dfx.plot.vtk_mesh(V)\n",
    "    grid = pv.UnstructuredGrid(topology, cell_types, x)\n",
    "\n",
    "    grid['u'] = u.x.array\n",
    "\n",
    "    plotter = pv.Plotter()\n",
    "    \n",
    "    warped = grid.warp_by_scalar('u')\n",
    "\n",
    "    plotter.add_mesh(warped, show_edges=True, show_vertices=False, )\n",
    "    plotter.add_axes()\n",
    "\n",
    "    plotter.show()\n",
    "\n",
    "plot_solution_on_grid(u)"
   ]
  },
  {
   "cell_type": "markdown",
   "metadata": {},
   "source": [
    "## Define an integral measure on the particle surface"
   ]
  },
  {
   "cell_type": "code",
   "execution_count": null,
   "metadata": {},
   "outputs": [],
   "source": [
    "fdim = mesh.topology.dim - 1\n",
    "\n",
    "facets = dfx.mesh.locate_entities(mesh, fdim, lambda x: np.isclose(x[0], 1.))\n",
    "\n",
    "facet_markers = np.full_like(facets, 1)\n",
    "\n",
    "facet_tag = dfx.mesh.meshtags(mesh, fdim, facets, facet_markers)\n",
    "\n",
    "dA = ufl.Measure(\"ds\", domain=mesh, subdomain_data=facet_tag)\n",
    "dA_R = dA(1)"
   ]
  },
  {
   "cell_type": "markdown",
   "metadata": {},
   "source": [
    "## Do some checks on the integral measures"
   ]
  },
  {
   "cell_type": "code",
   "execution_count": null,
   "metadata": {},
   "outputs": [],
   "source": [
    "form = dfx.fem.form(dfx.fem.Constant(mesh, 1.) * ufl.dx)\n",
    "value  = dfx.fem.assemble_scalar(form)\n",
    "\n",
    "print(value)\n",
    "\n",
    "form = dfx.fem.form(dfx.fem.Constant(mesh, 1.) * dA)\n",
    "value  = dfx.fem.assemble_scalar(form)\n",
    "\n",
    "print(value)\n",
    "\n",
    "form = dfx.fem.form(dfx.fem.Constant(mesh, 1.) * dA_R)\n",
    "value  = dfx.fem.assemble_scalar(form)\n",
    "\n",
    "print(value)"
   ]
  },
  {
   "cell_type": "markdown",
   "metadata": {},
   "source": [
    "## Define a PDE problem in the grid"
   ]
  },
  {
   "cell_type": "markdown",
   "metadata": {},
   "source": [
    "### Elliptic problem"
   ]
  },
  {
   "cell_type": "code",
   "execution_count": null,
   "metadata": {},
   "outputs": [],
   "source": [
    "elem1 = ufl.FiniteElement(\"Lagrange\", mesh.ufl_cell(), 1)\n",
    "\n",
    "V = dfx.fem.FunctionSpace(mesh, elem1)"
   ]
  },
  {
   "cell_type": "code",
   "execution_count": null,
   "metadata": {},
   "outputs": [],
   "source": [
    "u = ufl.TrialFunction(V)\n",
    "v = ufl.TestFunction(V)\n",
    "\n",
    "F = u.dx(0) * v.dx(0) * ufl.dx + 2 * v * ufl.dx\n",
    "\n",
    "from dolfinx.fem.petsc import LinearProblem"
   ]
  },
  {
   "cell_type": "code",
   "execution_count": null,
   "metadata": {},
   "outputs": [],
   "source": [
    "V_ex = dfx.fem.FunctionSpace(mesh, (\"Lagrange\", 2))\n",
    "u_ex = dfx.fem.Function(V_ex)\n",
    "u_ex.interpolate(lambda x: x[0]**2 + x[1])\n",
    "\n",
    "u_bc = dfx.fem.Function(V)\n",
    "u_bc.interpolate(u_ex)\n",
    "\n",
    "dofs = dfx.fem.locate_dofs_geometrical(V, lambda x: np.isclose(x[0], 1.))\n",
    "bc = dfx.fem.dirichletbc(u_bc, dofs)"
   ]
  },
  {
   "cell_type": "code",
   "execution_count": null,
   "metadata": {},
   "outputs": [],
   "source": [
    "problem = LinearProblem(ufl.lhs(F), ufl.rhs(F), [bc])\n",
    "\n",
    "u_ = problem.solve()\n",
    "\n",
    "plot_solution_on_grid(u_)"
   ]
  },
  {
   "cell_type": "code",
   "execution_count": null,
   "metadata": {},
   "outputs": [],
   "source": [
    "error = dfx.fem.assemble_scalar(dfx.fem.form((u_ - u_ex)**2 * ufl.dx))\n",
    "\n",
    "print(error)"
   ]
  },
  {
   "cell_type": "markdown",
   "metadata": {},
   "source": [
    "### Cahn-Hilliard Problem (uncoupled)"
   ]
  },
  {
   "cell_type": "code",
   "execution_count": null,
   "metadata": {},
   "outputs": [],
   "source": [
    "elem1 = ufl.FiniteElement(\"Lagrange\", mesh.ufl_cell(), 1)\n",
    "\n",
    "V = dfx.fem.FunctionSpace(mesh, elem1 * elem1)"
   ]
  },
  {
   "cell_type": "code",
   "execution_count": null,
   "metadata": {},
   "outputs": [],
   "source": [
    "u = dfx.fem.Function(V)\n",
    "u0 = dfx.fem.Function(V)\n",
    "\n",
    "y, mu = ufl.split(u)\n",
    "y0, mu0 = ufl.split(u0)\n",
    "\n",
    "v_c, v_mu = ufl.TestFunctions(V)\n",
    "\n",
    "I_charge = dfx.fem.Constant(mesh, 1e-1)\n",
    "theta = 1.0\n",
    "dt = dfx.fem.Constant(mesh, 1e-6)\n",
    "\n",
    "c = c_of_y(y)\n",
    "\n",
    "V0, dofs = V.sub(0).collapse()\n",
    "r = dfx.fem.Function(V0)\n",
    "r.interpolate(lambda x: x[0])\n",
    "\n",
    "def M(c):\n",
    "    return c * (1 - c)\n",
    "\n",
    "lam = 0.1\n",
    "\n",
    "def grad_c_bc(c):\n",
    "    return 0.\n",
    "\n",
    "s_V = 4 * np.pi * r**2\n",
    "s_A = 2 * np.pi * r**2\n",
    "\n",
    "dx = ufl.dx  # The volume element\n",
    "\n",
    "mu_chem = compute_chemical_potential(free_energy, c)\n",
    "mu_theta = theta * mu + (theta - 1.0) * mu0\n",
    "\n",
    "flux = M(c) * mu_theta.dx(0)\n",
    "\n",
    "F1 = s_V * (c_of_y(y) - c_of_y(y0)) * v_mu * dx\n",
    "F1 += s_V * flux * v_mu.dx(0) * dt * dx\n",
    "F1 -= I_charge * v_mu * dt * dA_R\n",
    "\n",
    "F2 = s_V * mu * v_c * dx\n",
    "F2 -= s_V * mu_chem * v_c * dx\n",
    "F2 -= lam * (s_V * c.dx(0) * v_c.dx(0) * dx)\n",
    "F2 += grad_c_bc(c) * (s_A * v_c * dA_R)\n",
    "\n",
    "F = F1 + F2\n",
    "\n",
    "residual = dfx.fem.form(F)\n",
    "\n",
    "from dolfinx.fem.petsc import NonlinearProblem\n",
    "from dolfinx.nls.petsc import NewtonSolver\n",
    "\n",
    "problem = NonlinearProblem(F, u)\n",
    "solver = NewtonSolver(comm, problem)"
   ]
  },
  {
   "cell_type": "code",
   "execution_count": null,
   "metadata": {},
   "outputs": [],
   "source": [
    "# Do a single step with dt = 0 to propagate the initial data of y0 into y and mu\n",
    "u0.sub(0).x.array[:] = -6  # This corresponds to roughly c = 1e-3\n",
    "\n",
    "dt.value = 0.  # This enforces the first equation to be y = y0 and solves for mu.\n",
    "\n",
    "print(dfx.fem.assemble_vector(residual).norm())\n",
    "solver.solve(u)\n",
    "print(dfx.fem.assemble_vector(residual).norm())\n",
    "\n",
    "dt.value = 1.0\n",
    "print(dfx.fem.assemble_vector(residual).norm())\n",
    "vec = dfx.fem.assemble_vector(dfx.fem.form(s_A * v_mu * dA))\n",
    "print(vec.norm())\n",
    "\n",
    "print(dfx.fem.assemble_vector(dfx.fem.form(s_A * I_charge * v_mu * dA)).norm())\n",
    "\n",
    "c = dfx.fem.Function(u.sub(0).collapse().function_space)\n",
    "c.interpolate(\n",
    "    dfx.fem.Expression(c_of_y(y), c.function_space.element.interpolation_points()))\n",
    "\n",
    "plot_solution_on_grid(c)"
   ]
  },
  {
   "cell_type": "code",
   "execution_count": null,
   "metadata": {},
   "outputs": [],
   "source": [
    "I_charge.value = 1.0\n",
    "\n",
    "dt_min = 1e-9\n",
    "dt_max = 1e-3\n",
    "\n",
    "dt.value = 1e-8\n",
    "\n",
    "T_final = 1.0\n",
    "tol = 1e-4\n",
    "\n",
    "u.x.scatter_forward()\n",
    "u0.x.scatter_forward()\n",
    "\n",
    "iterations, success = solver.solve(u)\n",
    "print(iterations, success)\n",
    "\n",
    "time_stepping(\n",
    "    solver,\n",
    "    u,\n",
    "    u0,\n",
    "    T_final,\n",
    "    dt,\n",
    "    dt_max=dt_max,\n",
    "    dt_min=dt_min,\n",
    "    tol=tol,\n",
    ")"
   ]
  },
  {
   "cell_type": "code",
   "execution_count": null,
   "metadata": {},
   "outputs": [],
   "source": [
    "y = u.sub(0)\n",
    "\n",
    "c.interpolate(\n",
    "    dfx.fem.Expression(c_of_y(y), c.function_space.element.interpolation_points()))\n",
    "\n",
    "plot_solution_on_grid(c)"
   ]
  },
  {
   "cell_type": "markdown",
   "metadata": {},
   "source": [
    "### Cahn-Hilliard (coupled)"
   ]
  },
  {
   "cell_type": "code",
   "execution_count": null,
   "metadata": {},
   "outputs": [],
   "source": [
    "# particle parameters\n",
    "V0, _ = V.sub(0).collapse()\n",
    "\n",
    "Rs = dfx.fem.Function(V0)\n",
    "Rs.x.array[:] = 1.\n",
    "\n",
    "As = 4 * np.pi * Rs**2\n",
    "\n",
    "L_mean = 10.\n",
    "L_var_rel = 0.1\n",
    "\n",
    "Ls = dfx.fem.Function(V0)\n",
    "Ls.x.array[:] = 1 + L_var_rel * (2 * np.random.random(Ls.x.array.shape) - 1)\n",
    "\n",
    "A_ufl = As * dA_R\n",
    "A = dfx.fem.assemble_scalar(dfx.fem.form(A_ufl))\n",
    "\n",
    "a_ratios = As / A\n",
    "\n",
    "L_ufl = a_ratios * Ls * dA_R\n",
    "L = dfx.fem.assemble_scalar(dfx.fem.form(L_ufl))"
   ]
  },
  {
   "cell_type": "code",
   "execution_count": null,
   "metadata": {},
   "outputs": [],
   "source": [
    "u = dfx.fem.Function(V)\n",
    "u0 = dfx.fem.Function(V)\n",
    "\n",
    "y, mu = ufl.split(u)\n",
    "y0, mu0 = ufl.split(u0)\n",
    "\n",
    "v_c, v_mu = ufl.TestFunctions(V)\n",
    "\n",
    "I_global = dfx.fem.Constant(mesh, 1e-1)\n",
    "\n",
    "I_particle = dfx.fem.Function(V0)\n",
    "OCP = dfx.fem.Function(V0)\n",
    "\n",
    "OCP_expr = dfx.fem.Expression(- Ls / L * a_ratios * mu, \n",
    "                              V0.element.interpolation_points())\n",
    "\n",
    "V_cell_form = dfx.fem.form(- (I_global / L - OCP) * dA_R)\n",
    "\n",
    "def callback():\n",
    "\n",
    "    OCP.interpolate(OCP_expr)\n",
    "\n",
    "    V_cell = dfx.fem.assemble_scalar(V_cell_form)\n",
    "\n",
    "    mu = u.sub(1).collapse()\n",
    "\n",
    "    I_particle.x.array[:] = - Ls.x.array * (mu.x.array + V_cell)\n",
    "\n",
    "theta = 1.0\n",
    "dt = dfx.fem.Constant(mesh, 1e-6)\n",
    "\n",
    "c = c_of_y(y)\n",
    "\n",
    "V0, dofs = V.sub(0).collapse()\n",
    "r = dfx.fem.Function(V0)\n",
    "r.interpolate(lambda x: x[0])\n",
    "\n",
    "def M(c):\n",
    "    return c * (1 - c)\n",
    "\n",
    "lam = 0.1\n",
    "\n",
    "def grad_c_bc(c):\n",
    "    return 0.\n",
    "\n",
    "s_V = 4 * np.pi * r**2\n",
    "s_A = 2 * np.pi * r**2\n",
    "\n",
    "dx = ufl.dx  # The volume element\n",
    "\n",
    "mu_chem = compute_chemical_potential(free_energy, c)\n",
    "mu_theta = theta * mu + (theta - 1.0) * mu0\n",
    "\n",
    "flux = M(c) * mu_theta.dx(0)\n",
    "\n",
    "F1 = s_V * (c_of_y(y) - c_of_y(y0)) * v_mu * dx\n",
    "F1 += s_V * flux * v_mu.dx(0) * dt * dx\n",
    "F1 -= s_A * I_particle * v_mu * dt * dA_R\n",
    "\n",
    "F2 = s_V * mu * v_c * dx\n",
    "F2 -= s_V * mu_chem * v_c * dx\n",
    "F2 -= lam * (s_V * c.dx(0) * v_c.dx(0) * dx)\n",
    "F2 += grad_c_bc(c) * (s_A * v_c * dA_R)\n",
    "\n",
    "F = F1 + F2\n",
    "\n",
    "residual = dfx.fem.form(F)\n",
    "\n",
    "NonlinearProblemBase = NonlinearProblem\n",
    "\n",
    "\n",
    "class NonlinearProblem(NonlinearProblemBase):\n",
    "    def form(self, x):\n",
    "        callback()\n",
    "        super().form(x)\n",
    "\n",
    "\n",
    "problem = NonlinearProblem(F, u)\n",
    "solver = NewtonSolver(comm, problem)"
   ]
  },
  {
   "cell_type": "code",
   "execution_count": null,
   "metadata": {},
   "outputs": [],
   "source": [
    "# Do a single step with dt = 0 to propagate the initial data of y0 into y and mu\n",
    "u0.sub(0).x.array[:] = -6  # This corresponds to roughly c = 1e-3"
   ]
  },
  {
   "cell_type": "code",
   "execution_count": null,
   "metadata": {},
   "outputs": [],
   "source": [
    "dt_min = 1e-9\n",
    "dt_max = 1e-3\n",
    "\n",
    "dt.value = 1e-8\n",
    "\n",
    "T_final = 1.0\n",
    "tol = 1e-4\n",
    "\n",
    "I_global.value = 0.01\n",
    "\n",
    "u.x.scatter_forward()\n",
    "u0.x.scatter_forward()\n",
    "\n",
    "iterations, success = solver.solve(u)\n",
    "print(iterations, success)\n",
    "\n",
    "time_stepping(\n",
    "    solver,\n",
    "    u,\n",
    "    u0,\n",
    "    T_final,\n",
    "    dt,\n",
    "    dt_max=dt_max,\n",
    "    dt_min=dt_min,\n",
    "    dt_increase=1.01,\n",
    "    tol=tol,\n",
    ")"
   ]
  },
  {
   "cell_type": "code",
   "execution_count": null,
   "metadata": {},
   "outputs": [],
   "source": [
    "y = u.sub(0)\n",
    "\n",
    "c = dfx.fem.Function(V0)\n",
    "c.interpolate(\n",
    "    dfx.fem.Expression(c_of_y(y), V0.element.interpolation_points()))\n",
    "\n",
    "plot_solution_on_grid(c)"
   ]
  },
  {
   "cell_type": "markdown",
   "metadata": {},
   "source": [
    "## Parallel Mesh partition"
   ]
  },
  {
   "cell_type": "code",
   "execution_count": null,
   "metadata": {},
   "outputs": [],
   "source": [
    "import ipyparallel as ipp\n",
    "cluster = ipp.Cluster(engines=\"mpi\", n=2)\n",
    "rc = cluster.start_and_connect_sync()"
   ]
  },
  {
   "cell_type": "code",
   "execution_count": null,
   "metadata": {},
   "outputs": [],
   "source": [
    "%%px\n",
    "from mpi4py import MPI as MPIpx\n",
    "import numpy as np\n",
    "import ufl\n",
    "import dolfinx as dfx\n",
    "\n",
    "print(f\"{MPIpx.COMM_WORLD.rank=} {MPIpx.COMM_WORLD.size=}\")"
   ]
  },
  {
   "cell_type": "code",
   "execution_count": null,
   "metadata": {},
   "outputs": [],
   "source": [
    "%%px\n",
    "\n",
    "n_rad = 64\n",
    "n_part = 12\n",
    "\n",
    "if MPIpx.COMM_WORLD.rank == 0:\n",
    "\n",
    "    radial_grid = np.linspace(0, 1, n_rad)\n",
    "    particle_grid = np.linspace(0, 1, n_part)\n",
    "\n",
    "    rr, pp = np.meshgrid(radial_grid, particle_grid)\n",
    "\n",
    "    coords_grid = np.stack((rr, pp)).transpose((-1, 1, 0)).copy()\n",
    "\n",
    "    coords_grid_flat = coords_grid.reshape(-1, 2).copy()\n",
    "\n",
    "    # All the radial connections\n",
    "    elements_radial = [[\n",
    "        [n_part * i + k, n_part * (i + 1) + k] for i in range(n_rad - 1)] \n",
    "                        for k in range(n_part)]\n",
    "\n",
    "    elements_radial = np.array(elements_radial).reshape(-1, 2)\n",
    "\n",
    "    elements = elements_radial\n",
    "\n",
    "else:\n",
    "    coords_grid_flat = np.empty((0, 2), dtype=np.float64)\n",
    "    elements = np.empty((0, 2), dtype=np.int64)\n"
   ]
  },
  {
   "cell_type": "code",
   "execution_count": null,
   "metadata": {},
   "outputs": [],
   "source": [
    "%%px\n",
    "\n",
    "gdim = 2\n",
    "shape = \"interval\"\n",
    "degree = 1\n",
    "\n",
    "cell = ufl.Cell(shape, geometric_dimension=gdim)\n",
    "domain = ufl.Mesh(ufl.VectorElement(\"Lagrange\", cell, degree))\n",
    "\n",
    "try:\n",
    "    mesh = dfx.mesh.create_mesh(\n",
    "        MPIpx.COMM_WORLD, elements[:, :2], coords_grid_flat, domain)\n",
    "except Exception as e:\n",
    "    print(e)"
   ]
  },
  {
   "cell_type": "code",
   "execution_count": null,
   "metadata": {},
   "outputs": [],
   "source": [
    "%%px\n",
    "\n",
    "V = dfx.fem.FunctionSpace(mesh, (\"CG\", 1))\n",
    "\n",
    "u = dfx.fem.Function(V)\n",
    "u.interpolate(lambda x: x[0] + x[1])\n",
    "\n",
    "def plot_solution_on_grid(u):\n",
    "\n",
    "    V = u.function_space\n",
    "\n",
    "    topology, cell_types, x = dfx.plot.vtk_mesh(V)\n",
    "    grid = pv.UnstructuredGrid(topology, cell_types, x)\n",
    "\n",
    "    grid['u'] = u.x.array\n",
    "\n",
    "    plotter = pv.Plotter()\n",
    "\n",
    "    warped = grid.warp_by_scalar('u')\n",
    "\n",
    "    plotter.add_mesh(warped, show_edges=True, show_vertices=False, )\n",
    "    plotter.add_axes()\n",
    "\n",
    "    plotter.show()\n",
    "\n",
    "if MPIpx.COMM_WORLD.rank == 0:\n",
    "    plot_solution_on_grid(u)"
   ]
  }
 ],
 "metadata": {
  "kernelspec": {
   "display_name": "fenicsx-env1",
   "language": "python",
   "name": "python3"
  },
  "language_info": {
   "codemirror_mode": {
    "name": "ipython",
    "version": 3
   },
   "file_extension": ".py",
   "mimetype": "text/x-python",
   "name": "python",
   "nbconvert_exporter": "python",
   "pygments_lexer": "ipython3",
   "version": "3.12.4"
  }
 },
 "nbformat": 4,
 "nbformat_minor": 2
}
