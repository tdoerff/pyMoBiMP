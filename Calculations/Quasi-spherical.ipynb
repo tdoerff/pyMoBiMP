{
 "cells": [
  {
   "cell_type": "markdown",
   "metadata": {},
   "source": [
    "# Quasi-spherical coordinate transformation\n",
    "\n",
    "We are looking for a coordinate transformation $(r, \\varphi, \\theta) = \\Phi(x)$ in which the diffusion equation\n",
    "$$\n",
    "    \\begin{aligned}\n",
    "        \\partial_t c          &= \\Delta u   & \\qquad\\text{in}\\qquad & \\Omega \\\\\n",
    "        \\vec n \\cdot \\nabla u &= f          & \\qquad\\text{on}\\qquad & \\partial\\Omega\n",
    "    \\end{aligned}\n",
    "$$\n",
    "\n",
    "takes the form\n",
    "\n",
    "$$\n",
    "    \\begin{aligned}\n",
    "        \\partial_t c          &= \\frac{1}{r^{d-1}} \\partial_{r} (r^{d-1} \\partial_{r} u)   & \\qquad\\text{in}\\qquad & [0, R] \\\\\n",
    "    \\end{aligned}\n",
    "$$\n",
    "\n",
    "in dimension $d$."
   ]
  },
  {
   "cell_type": "code",
   "execution_count": null,
   "metadata": {},
   "outputs": [],
   "source": [
    "## General document imports\n",
    "import dolfinx as dfx\n",
    "from dolfinx.fem.petsc import LinearProblem\n",
    "\n",
    "import gmsh\n",
    "\n",
    "%matplotlib widget\n",
    "import matplotlib.pyplot as plt\n",
    "\n",
    "from mpi4py import MPI\n",
    "from mpi4py.MPI import COMM_WORLD as comm\n",
    "\n",
    "import numpy as np\n",
    "\n",
    "import pyvista as pv\n",
    "\n",
    "import ufl"
   ]
  },
  {
   "cell_type": "markdown",
   "metadata": {},
   "source": [
    "### Open issues:\n",
    "\n",
    "- increasing the order of the elements leads to negative radii even for the unit circle.\n",
    "- which properties should the radial coordinate satisfy?\n",
    "    - $r \\in [0,1]$\n",
    "    - $r = 1$ on $\\partial\\Omega$"
   ]
  },
  {
   "cell_type": "markdown",
   "metadata": {},
   "source": [
    "## Compute a generalization of the radius\n",
    "\n",
    "First, we manufacture a problem and test how it behaves:\n",
    "$$\n",
    "    u = r^2 \\qquad \\Rightarrow\\qquad \\Delta u = 4 \\qquad\\text{on } \\Omega\n",
    "$$\n",
    "and in particular\n",
    "$$\n",
    "    u = r^2 \\qquad\\text{on } \\partial \\Omega\n",
    "$$\n",
    "\n",
    "The weak form of the PDE:\n",
    "$$\n",
    "    -\\int\\limits_\\Omega \\nabla u \\cdot \\nabla v \\, dV = -\\int\\limits_{\\partial\\Omega} v \\underbrace{\\nabla u \\cdot \\vec n}_{r} \\, dS + \\int\\limits_\\Omega 4 v \\, dV\n",
    "$$"
   ]
  },
  {
   "cell_type": "markdown",
   "metadata": {},
   "source": [
    "### Circular mesh\n",
    "\n",
    "As a workhorse, we create a circular mesh of which we compute the radius.\n",
    "The boundary condition $\\left. u \\right|_{\\partial \\Omega} = 1$ determines the scaling.\n"
   ]
  },
  {
   "cell_type": "code",
   "execution_count": null,
   "metadata": {},
   "outputs": [],
   "source": [
    "def create_unit_circle(comm, resolution):\n",
    "    R = 1.\n",
    "\n",
    "    gmsh.initialize()\n",
    "\n",
    "    model = gmsh.model()\n",
    "\n",
    "    model_name = \"circle\"\n",
    "\n",
    "    gmsh.option.setNumber(\"Mesh.MeshSizeFactor\", resolution)\n",
    "\n",
    "    model.add(model_name)\n",
    "    model.setCurrent(model_name)\n",
    "\n",
    "    model.occ.addCircle(0, 0, 0, R, 1)\n",
    "    model.occ.addCurveLoop([1], 2)\n",
    "    gmsh.model.occ.addPlaneSurface([2],1)\n",
    "\n",
    "    model.occ.synchronize()\n",
    "\n",
    "    model.addPhysicalGroup(dim=1, tags=[1], tag=1)\n",
    "    model.addPhysicalGroup(dim=2, tags=[1], tag=2)\n",
    "\n",
    "    model.mesh.generate(dim=2)\n",
    "\n",
    "    model.setCurrent(model_name)\n",
    "\n",
    "    mesh, ct, ft = dfx.io.gmshio.model_to_mesh(gmsh.model, comm, rank=0)\n",
    "\n",
    "    gmsh.finalize()\n",
    "\n",
    "    return mesh"
   ]
  },
  {
   "cell_type": "code",
   "execution_count": null,
   "metadata": {},
   "outputs": [],
   "source": [
    "mesh = create_unit_circle(comm, resolution=0.5)"
   ]
  },
  {
   "cell_type": "markdown",
   "metadata": {},
   "source": [
    "For later reference, information on the grid size are computed:"
   ]
  },
  {
   "cell_type": "code",
   "execution_count": null,
   "metadata": {},
   "outputs": [],
   "source": [
    "one = dfx.fem.Constant(mesh, 1.)\n",
    "\n",
    "volume = dfx.fem.assemble_scalar(dfx.fem.form(one * ufl.dx))\n",
    "\n",
    "surface = dfx.fem.assemble_scalar(dfx.fem.form(one * ufl.ds))\n",
    "\n",
    "print(f\"volume  = {volume:1.3e} (diff = {abs(volume - np.pi):1.3e})\")\n",
    "print(rf\"surface = {surface:1.3e} (diff = {abs(surface - 2 * np.pi):1.3e})\")"
   ]
  },
  {
   "cell_type": "markdown",
   "metadata": {},
   "source": [
    "For the unit circle, we reconstruct the radial coordinate by integrating the problem\n",
    "$$\n",
    "    \\Delta u = 4 \\qquad\\text{on}\\quad \\Omega\n",
    "$$\n",
    "with\n",
    "$$\n",
    "    \\left. u \\right|_{\\partial\\Omega} = r^2 = 1\\,.\n",
    "$$\n",
    "The trivial solution is $u=r^2$, i.e., the radial coordinate is retrieved through $r = \\sqrt u$."
   ]
  },
  {
   "cell_type": "code",
   "execution_count": null,
   "metadata": {},
   "outputs": [],
   "source": [
    "def solve_quasi_radial_problem(mesh, dim=3):\n",
    "\n",
    "    # The FEM space.\n",
    "    V = dfx.fem.FunctionSpace(mesh, (\"CG\", 1))\n",
    "\n",
    "    # Test and trial functions.\n",
    "    u = ufl.TrialFunction(V)\n",
    "    v = ufl.TestFunction(V)\n",
    "\n",
    "    # Construct the FEM form\n",
    "    a = -ufl.dot(ufl.grad(u), ufl.grad(v)) * ufl.dx\n",
    "    L = 2 * dim * v * ufl.dx\n",
    "\n",
    "    # Get the boundary dofs.\n",
    "    tdim = mesh.topology.dim\n",
    "    fdim = tdim - 1\n",
    "\n",
    "    mesh.topology.create_connectivity(fdim, tdim)\n",
    "\n",
    "    boundary_facets = dfx.mesh.exterior_facet_indices(mesh.topology)\n",
    "\n",
    "    # The boundary condition.\n",
    "    bcs = [\n",
    "        dfx.fem.dirichletbc(\n",
    "            1., dfx.fem.locate_dofs_topological(V, fdim, boundary_facets), V)]\n",
    "\n",
    "    # Problem and solver setup.\n",
    "    problem = LinearProblem(a, L, bcs)\n",
    "\n",
    "    # The solution.\n",
    "    u = problem.solve()\n",
    "\n",
    "    return u"
   ]
  },
  {
   "cell_type": "code",
   "execution_count": null,
   "metadata": {},
   "outputs": [],
   "source": [
    "def plot_data(V, u=None, warp_by_scalar=None, clip_box = None, **kwargs):\n",
    "\n",
    "    plotter = pv.Plotter()\n",
    "\n",
    "    grid = pv.UnstructuredGrid(*dfx.plot.vtk_mesh(V))\n",
    "\n",
    "    if u is not None:\n",
    "        grid.point_data[\"u\"] = u.x.array\n",
    "        grid.set_active_scalars(\"u\")\n",
    "\n",
    "    if warp_by_scalar is not None:\n",
    "\n",
    "        if isinstance(warp_by_scalar, dfx.fem.Function):\n",
    "\n",
    "            grid.point_data[\"dummy\"] = warp_by_scalar.x.array\n",
    "\n",
    "            warp_by_scalar = \"dummy\"\n",
    "\n",
    "        grid = grid.warp_by_scalar(warp_by_scalar)\n",
    "\n",
    "    if clip_box is not None:\n",
    "        grid = grid.clip_box(clip_box)\n",
    "\n",
    "    plotter.add_mesh(grid, **kwargs)\n",
    "\n",
    "    plotter.show()\n",
    "\n",
    "    return plotter"
   ]
  },
  {
   "cell_type": "code",
   "execution_count": null,
   "metadata": {},
   "outputs": [],
   "source": [
    "s2 = solve_quasi_radial_problem(mesh, dim=2)"
   ]
  },
  {
   "cell_type": "code",
   "execution_count": null,
   "metadata": {},
   "outputs": [],
   "source": [
    "plot_data(s2.function_space, s2, warp_by_scalar=s2, show_edges=True)"
   ]
  },
  {
   "cell_type": "code",
   "execution_count": null,
   "metadata": {},
   "outputs": [],
   "source": [
    "def get_normalized_coordinate(u, print_dagnostics=True, eps = 1e-8):\n",
    "\n",
    "    V = u.function_space\n",
    "\n",
    "    u_min_loc = u.x.array.min()\n",
    "    min_u = V.mesh.comm.allreduce(u_min_loc, op=MPI.MIN)\n",
    "\n",
    "    u_max_loc = u.x.array.max()\n",
    "    max_u = V.mesh.comm.allreduce(u_max_loc, op=MPI.MAX)\n",
    "\n",
    "    scale = (max_u - min_u)**0.5\n",
    "\n",
    "    if print_dagnostics:\n",
    "        print(f\"u_min = {min_u:1.3e}\")\n",
    "        print(f\"u_max = {max_u:1.3e}\")\n",
    "        print(f\"scale = {scale:1.3e}\")\n",
    "\n",
    "    u_tilde = (u - min_u) / (max_u - min_u) + eps\n",
    "\n",
    "    # compute the radial coordinate\n",
    "    s = dfx.fem.Function(V)\n",
    "    s.interpolate(dfx.fem.Expression(\n",
    "        u_tilde**0.5, V.element.interpolation_points()))\n",
    "\n",
    "    return s, scale"
   ]
  },
  {
   "cell_type": "code",
   "execution_count": null,
   "metadata": {},
   "outputs": [],
   "source": [
    "# Test the solution\n",
    "eps = 1e-2\n",
    "\n",
    "# We call the reconstructed coordinate `s`.\n",
    "# A small eps is necessary to avoid zero-division since round-off errors may introduce small\n",
    "# but negative numbers.\n",
    "\n",
    "s, scale = get_normalized_coordinate(s2)\n",
    "\n",
    "V = s.function_space\n",
    "\n",
    "# The actual radial coordinate.\n",
    "x, y, z = ufl.SpatialCoordinate(mesh)\n",
    "r = (x**2 + y**2)**0.5\n",
    "\n",
    "# The error.\n",
    "error = dfx.fem.Function(V)\n",
    "error.interpolate(dfx.fem.Expression(s - r, V.element.interpolation_points()))\n",
    "\n",
    "error_max = np.abs(error.x.array).max()\n",
    "\n",
    "print(f\"Error : {error_max:1.3e}\")\n"
   ]
  },
  {
   "cell_type": "markdown",
   "metadata": {},
   "source": [
    "### Stretched circular mesh"
   ]
  },
  {
   "cell_type": "markdown",
   "metadata": {},
   "source": [
    "The above problem definition relies on a consistent formulation the boundary conditions. In the spirit of a manufactured problem, we have taken the boundary values from the exact solution $u=^2$, that, obviously is affected by grid stretching. Subsequently, we want to delevop an algorithm with we can reconstrct the radial coordinate without prior knowlegde of the grid size."
   ]
  },
  {
   "cell_type": "code",
   "execution_count": null,
   "metadata": {},
   "outputs": [],
   "source": [
    "# store the unit circle mesh for later reference\n",
    "unit_circle = mesh\n",
    "\n",
    "mesh = create_unit_circle(comm, 0.1)\n",
    "\n",
    "# Stretching the grid by multiplying the coordinate values by a factor of 2\n",
    "mesh.geometry.x[:, :] *= 2"
   ]
  },
  {
   "cell_type": "code",
   "execution_count": null,
   "metadata": {},
   "outputs": [],
   "source": [
    "s2 = solve_quasi_radial_problem(mesh, dim=2)"
   ]
  },
  {
   "cell_type": "code",
   "execution_count": null,
   "metadata": {},
   "outputs": [],
   "source": [
    "plot_data(s2.function_space, s2, warp_by_scalar=s2, show_edges=True)"
   ]
  },
  {
   "cell_type": "markdown",
   "metadata": {},
   "source": [
    "The solution, forced by the boundary condition $\\left. u \\right|_{\\partial\\Omega} = r^2 = 1$, now lies within $u(\\Omega) \\in [-3, 1]$. This necessarily follows from the rhs of $\\Delta u = 4$. To obtain a meaningful physical coordinate, we might transform the solution s.t. $\\tilde u \\in [0,1]$."
   ]
  },
  {
   "cell_type": "code",
   "execution_count": null,
   "metadata": {},
   "outputs": [],
   "source": [
    "s, scale = get_normalized_coordinate(s2)\n",
    "\n",
    "plot_data(s.function_space, s, warp_by_scalar=s, show_edges=True)"
   ]
  },
  {
   "cell_type": "code",
   "execution_count": null,
   "metadata": {},
   "outputs": [],
   "source": [
    "# The actual radial coordinate.\n",
    "x, y, z = ufl.SpatialCoordinate(mesh)\n",
    "r = (x**2 + y**2)**0.5 / scale\n",
    "\n",
    "# The error.\n",
    "V = s.function_space\n",
    "error = dfx.fem.Function(V)\n",
    "error.interpolate(dfx.fem.Expression(abs(r - s), V.element.interpolation_points()))\n",
    "\n",
    "plot_data(V, error)\n",
    "\n",
    "max_loc_error = error.x.array.max()\n",
    "max_error = mesh.comm.allreduce(max_loc_error, op=MPI.MAX)\n",
    "\n",
    "print(f\"error = {max_error:1.3e}\")"
   ]
  },
  {
   "cell_type": "markdown",
   "metadata": {},
   "source": [
    "With the procedure, we are able to reconstruct a scaled radial coordinate $s$ that satisfies the conditions:\n",
    "\n",
    "- $s=1$ on $\\partial\\Omega$\n",
    "- $0 \\leq s<1$ in $\\Omega \\setminus \\partial\\Omega$\n",
    "- $s^2$ is convex"
   ]
  },
  {
   "cell_type": "markdown",
   "metadata": {},
   "source": [
    "### Distorted mesh\n",
    "\n",
    "Now, we do the same as above but for a distorted mesh. To this end, first distort the mesh by a small perturbation."
   ]
  },
  {
   "cell_type": "code",
   "execution_count": null,
   "metadata": {},
   "outputs": [],
   "source": [
    "mesh = create_unit_circle(comm, 0.1)\n",
    "\n",
    "x = mesh.geometry.x[:, :1]\n",
    "y = mesh.geometry.x[:, 1:2]\n",
    "\n",
    "r = np.sqrt(x**2 + y**2)\n",
    "\n",
    "phi = np.arctan2(x, y)\n",
    "\n",
    "e_r = np.array([\n",
    "    np.cos(phi).squeeze(),\n",
    "    np.sin(phi).squeeze()]).T\n",
    "\n",
    "mesh.geometry.x[:, :2] = r * e_r * (2 + 0.2 * np.sin(3 * phi))"
   ]
  },
  {
   "cell_type": "markdown",
   "metadata": {},
   "source": [
    "Again, we solve the problem $\\Delta u = 4$ s.t. $u = s^2$."
   ]
  },
  {
   "cell_type": "code",
   "execution_count": null,
   "metadata": {},
   "outputs": [],
   "source": [
    "s2 = solve_quasi_radial_problem(mesh, dim=2)\n",
    "\n",
    "s, scale = get_normalized_coordinate(s2)"
   ]
  },
  {
   "cell_type": "code",
   "execution_count": null,
   "metadata": {},
   "outputs": [],
   "source": [
    "plot_data(s2.function_space, s2, warp_by_scalar=s, show_edges=True)"
   ]
  },
  {
   "cell_type": "code",
   "execution_count": null,
   "metadata": {},
   "outputs": [],
   "source": [
    "def create_L_mesh(resolution=0.1):\n",
    "\n",
    "    import dolfinx as dfx\n",
    "    import gmsh\n",
    "    import meshio\n",
    "    from mpi4py.MPI import COMM_WORLD as comm\n",
    "    import pygmsh\n",
    "\n",
    "    Lc1 = resolution\n",
    "\n",
    "    L = 1.\n",
    "    H = 1.\n",
    "\n",
    "    geometry = pygmsh.geo.Geometry()\n",
    "\n",
    "    model = geometry.__enter__()\n",
    "\n",
    "    points = [\n",
    "        model.add_point((0, 0, 0), Lc1),\n",
    "        model.add_point((2 * L, 0, 0), Lc1),\n",
    "        model.add_point((2 * L, 1 * H, 0), Lc1),\n",
    "        model.add_point((0.5 * L, 0.5 * H, 0), 0.1 * Lc1),\n",
    "        model.add_point((1 * L, 2 * H, 0), Lc1),\n",
    "        model.add_point((0, 2 * H, 0), Lc1),\n",
    "    ]\n",
    "\n",
    "    # Add lines between all points creating the L shape\n",
    "    lines = [model.add_line(points[i], points[i+1])\n",
    "                    for i in range(-1, len(points)-1)]\n",
    "\n",
    "    # Create a line loop and plane surface for meshing\n",
    "    loop = model.add_curve_loop(lines)\n",
    "    plane_surface = model.add_plane_surface(loop)\n",
    "\n",
    "    # Call gmsh kernel before add physical entities\n",
    "    model.synchronize()\n",
    "\n",
    "    volume_marker = 6\n",
    "    model.add_physical([plane_surface], \"Volume\")\n",
    "    model.add_physical(lines, \"Boundary\")\n",
    "\n",
    "    geometry.generate_mesh(dim=2)\n",
    "    gmsh.write(\"mesh.msh\")\n",
    "    gmsh.clear()\n",
    "    geometry.__exit__()\n",
    "\n",
    "    mesh_from_file = meshio.read(\"mesh.msh\")\n",
    "\n",
    "    def create_mesh(mesh, cell_type, prune_z=False):\n",
    "        cells = mesh.get_cells_type(cell_type)\n",
    "        cell_data = mesh.get_cell_data(\"gmsh:physical\", cell_type)\n",
    "        points = mesh.points[:, :2] if prune_z else mesh.points\n",
    "        out_mesh = meshio.Mesh(points=points, cells={cell_type: cells}, cell_data={\n",
    "                            \"name_to_read\": [cell_data]})\n",
    "        return out_mesh\n",
    "\n",
    "    triangle_mesh = create_mesh(mesh_from_file, \"triangle\", prune_z=True)\n",
    "    meshio.write(\"mesh.xdmf\", triangle_mesh)\n",
    "\n",
    "    with dfx.io.XDMFFile(comm, \"mesh.xdmf\", 'r') as mesh_file:\n",
    "        mesh = mesh_file.read_mesh(name=\"Grid\")\n",
    "\n",
    "    return mesh"
   ]
  },
  {
   "cell_type": "code",
   "execution_count": null,
   "metadata": {},
   "outputs": [],
   "source": [
    "mesh = create_L_mesh()\n",
    "\n",
    "plot_data(dfx.fem.FunctionSpace(mesh, (\"CG\", 1)), show_edges=True)"
   ]
  },
  {
   "cell_type": "code",
   "execution_count": null,
   "metadata": {},
   "outputs": [],
   "source": [
    "s2 = solve_quasi_radial_problem(mesh, dim=2)\n",
    "\n",
    "s, scale = get_normalized_coordinate(s2)\n",
    "\n",
    "plot_data(s2.function_space, s, warp_by_scalar=s, show_edges=True)"
   ]
  },
  {
   "cell_type": "markdown",
   "metadata": {},
   "source": [
    "## Use the quasi-radial coordinate\n",
    "\n",
    "We want to use the quasi-radial coordinate $s$ computed previously to solve a quasi-symmetric boundary-value problem.\n",
    "\n",
    "Thus, we want so solve the problem\n",
    "\n",
    "$$\n",
    "    \\Delta u = f \\qquad\\text{on}\\quad \\partial \\Omega,,\n",
    "$$\n",
    "where $f = f(s)$ is a function purely dependent on the quasi-radial coordinate. We choose $f = \\exp(-s^2)$.\n",
    "\n",
    "First, we solve on the 2D grid:"
   ]
  },
  {
   "cell_type": "code",
   "execution_count": null,
   "metadata": {},
   "outputs": [],
   "source": [
    "def solve_test_problem(s, rhs_expr=lambda s: ufl.exp(-s**2)):\n",
    "\n",
    "    V = s.function_space\n",
    "    mesh = V.mesh\n",
    "\n",
    "    # The right-hand side source.\n",
    "    f = dfx.fem.Function(V)\n",
    "\n",
    "    f.interpolate(dfx.fem.Expression(\n",
    "        rhs_expr(s), V.element.interpolation_points()))\n",
    "\n",
    "    u = ufl.TrialFunction(V)\n",
    "    v = ufl.TestFunction(V)\n",
    "\n",
    "    a = -ufl.dot(ufl.grad(u), ufl.grad(v)) * ufl.dx\n",
    "    L = f * v * ufl.dx\n",
    "\n",
    "    # Get the boundary dofs.\n",
    "    tdim = mesh.topology.dim\n",
    "    fdim = tdim - 1\n",
    "\n",
    "    mesh.topology.create_connectivity(fdim, tdim)\n",
    "\n",
    "    boundary_facets = dfx.mesh.exterior_facet_indices(mesh.topology)\n",
    "\n",
    "    bcs = [\n",
    "        dfx.fem.dirichletbc(\n",
    "            np.pi, dfx.fem.locate_dofs_topological(V, fdim, boundary_facets), V)]\n",
    "\n",
    "    # a == L\n",
    "    problem = LinearProblem(a, L, bcs)\n",
    "\n",
    "    u_2d = problem.solve()\n",
    "\n",
    "    return u_2d"
   ]
  },
  {
   "cell_type": "code",
   "execution_count": null,
   "metadata": {},
   "outputs": [],
   "source": [
    "u_2d = solve_test_problem(s)\n",
    "\n",
    "plot_data(s.function_space, u_2d, warp_by_scalar=s, show_edges=True)"
   ]
  },
  {
   "cell_type": "code",
   "execution_count": null,
   "metadata": {},
   "outputs": [],
   "source": [
    "mesh_1d = dfx.mesh.create_interval(MPI.COMM_WORLD, 128, (0, 1))\n",
    "\n",
    "V_1d = dfx.fem.FunctionSpace(mesh_1d, (\"CG\", 1))\n",
    "\n",
    "r = ufl.SpatialCoordinate(mesh_1d)[0]\n",
    "\n",
    "# It is important to scale the 1D equation since we use normalize coordinates\n",
    "f = ufl.sin(-r**2) * scale**2\n",
    "\n",
    "u = ufl.TrialFunction(V_1d)\n",
    "v = ufl.TestFunction(V_1d)\n",
    "\n",
    "a = - r * ufl.dot(ufl.grad(u), ufl.grad(v)) * ufl.dx\n",
    "L = r * f * v * ufl.dx\n",
    "\n",
    "def outer(x):\n",
    "    return np.isclose(x[0], 1)\n",
    "\n",
    "dofs = dfx.fem.locate_dofs_geometrical(V_1d, outer)\n",
    "\n",
    "bcs = [dfx.fem.dirichletbc(np.pi, dofs, V_1d)]\n",
    "\n",
    "# a == L\n",
    "problem = LinearProblem(a, L, bcs)\n",
    "\n",
    "u_1d = problem.solve()\n",
    "\n",
    "# Plot the 1D solution\n",
    "plt.figure()\n",
    "\n",
    "plt.plot(mesh_1d.geometry.x[:, 0], u_1d.x.array)\n",
    "\n",
    "plt.show()"
   ]
  },
  {
   "cell_type": "code",
   "execution_count": null,
   "metadata": {},
   "outputs": [],
   "source": [
    "# Interpolate the solution to the 2D grid\n",
    "\n",
    "import scipy as sp\n",
    "\n",
    "poly = sp.interpolate.interp1d(mesh_1d.geometry.x[:, 0], u_1d.x.array, fill_value=\"extrapolate\")\n",
    "\n",
    "u_interp = dfx.fem.Function(s.function_space)\n",
    "u_interp.x.array[:] = poly(s.x.array[:])"
   ]
  },
  {
   "cell_type": "code",
   "execution_count": null,
   "metadata": {},
   "outputs": [],
   "source": [
    "error = dfx.fem.Function(u_2d.function_space)\n",
    "error.interpolate(dfx.fem.Expression(\n",
    "    u_interp - u_2d, u_2d.function_space.element.interpolation_points()\n",
    "))\n",
    "\n",
    "plot_data(u_2d.function_space, error, warp_by_scalar=s)"
   ]
  },
  {
   "cell_type": "markdown",
   "metadata": {},
   "source": [
    "## Use 3D meshes\n",
    "\n",
    "### Sphere\n",
    "\n",
    "First, we use a sphere mesh."
   ]
  },
  {
   "cell_type": "code",
   "execution_count": null,
   "metadata": {},
   "outputs": [],
   "source": [
    "from pyMoBiMP.gmsh_utils import dfx_spherical_mesh\n",
    "\n",
    "mesh, _, _ = dfx_spherical_mesh(comm, resolution=0.1, optimize=False)\n",
    "\n",
    "s2 = solve_quasi_radial_problem(mesh, dim=3)\n",
    "\n",
    "s, scale = get_normalized_coordinate(s2)"
   ]
  },
  {
   "cell_type": "code",
   "execution_count": null,
   "metadata": {},
   "outputs": [],
   "source": [
    "x, y, z = ufl.SpatialCoordinate(mesh)\n",
    "\n",
    "r = (x**2 + y**2 + z**2)**0.5\n",
    "\n",
    "error = dfx.fem.Function(s.function_space)\n",
    "error.interpolate(dfx.fem.Expression(\n",
    "    abs(r - s), s.function_space.element.interpolation_points()\n",
    "))\n",
    "\n",
    "err_max_loc = error.x.array.max()\n",
    "max_error = mesh.comm.allreduce(err_max_loc, op=MPI.MAX)\n",
    "\n",
    "print(max_error)"
   ]
  },
  {
   "cell_type": "code",
   "execution_count": null,
   "metadata": {},
   "outputs": [],
   "source": [
    "u_3d = solve_test_problem(s)\n",
    "\n",
    "clip_box = np.array([0, 20, 0, 20, -20, 20])\n",
    "# \n",
    "plot_data(u_3d.function_space, u_3d, clip_box=clip_box)"
   ]
  },
  {
   "cell_type": "code",
   "execution_count": null,
   "metadata": {},
   "outputs": [],
   "source": [
    "mesh_1d = dfx.mesh.create_interval(MPI.COMM_WORLD, 128, (0, 1))\n",
    "\n",
    "V_1d = dfx.fem.FunctionSpace(mesh_1d, (\"CG\", 1))\n",
    "\n",
    "r = ufl.SpatialCoordinate(mesh_1d)[0]\n",
    "\n",
    "# It is important to scale the 1D equation since we use normalize coordinates\n",
    "f = ufl.exp(-r**2) * scale**2\n",
    "\n",
    "u = ufl.TrialFunction(V_1d)\n",
    "v = ufl.TestFunction(V_1d)\n",
    "\n",
    "a = - r**2 * ufl.dot(ufl.grad(u), ufl.grad(v)) * ufl.dx\n",
    "L = r**2 * f * v * ufl.dx\n",
    "\n",
    "def outer(x):\n",
    "    return np.isclose(x[0], 1)\n",
    "\n",
    "dofs = dfx.fem.locate_dofs_geometrical(V_1d, outer)\n",
    "\n",
    "bcs = [dfx.fem.dirichletbc(np.pi, dofs, V_1d)]\n",
    "\n",
    "# a == L\n",
    "problem = LinearProblem(a, L, bcs)\n",
    "\n",
    "u_1d = problem.solve()\n",
    "\n",
    "# Plot the 1D solution\n",
    "plt.figure()\n",
    "\n",
    "plt.plot(mesh_1d.geometry.x[:, 0], u_1d.x.array)\n",
    "\n",
    "plt.show()"
   ]
  },
  {
   "cell_type": "markdown",
   "metadata": {},
   "source": [
    "### Particle mesh\n",
    "\n",
    "We use one of Manuel's meshes to solve the Poisson equation in 3D.\n",
    "Simultaneously, we solve in 1D using the quasi-radial coordinate according to the proposed algorithm."
   ]
  },
  {
   "cell_type": "code",
   "execution_count": null,
   "metadata": {},
   "outputs": [],
   "source": [
    "base_dir = \"../Meshes/Particles/NonSpherical/\"\n",
    "file = \"singleParticle_Tom2_vol\"\n",
    "\n",
    "vertices = np.loadtxt(base_dir + file + \".node\")\n",
    "cells = np.loadtxt(base_dir + file + \".elem\", dtype=np.int32)\n",
    "\n",
    "gdim = 3\n",
    "shape = \"tetrahedron\"\n",
    "degree = 1\n",
    "\n",
    "cell = ufl.Cell(shape, geometric_dimension=gdim)\n",
    "domain = ufl.Mesh(ufl.VectorElement(\"Lagrange\", cell, degree))\n",
    "\n",
    "mesh = dfx.mesh.create_mesh(MPI.COMM_WORLD, cells[:, :4] - 1, vertices, domain)\n",
    "\n",
    "mesh.topology.create_connectivity(mesh.topology.dim, 2)\n",
    "mesh.topology.create_entities(gdim - 2)  # dunno what that does\n",
    "\n",
    "def left(x):\n",
    "    return x[0] < 0.\n",
    "\n",
    "def all(x):\n",
    "    return x[0] == x[0]\n",
    "\n",
    "cells = dfx.mesh.locate_entities(mesh, mesh.topology.dim, all)\n",
    "edges = dfx.mesh.compute_incident_entities(mesh.topology, cells, 3, 1)  # dunno why 3, 2 args\n",
    "\n",
    "mesh2 = dfx.mesh.refine(mesh, edges)\n"
   ]
  },
  {
   "cell_type": "code",
   "execution_count": null,
   "metadata": {},
   "outputs": [],
   "source": [
    "V = dfx.fem.FunctionSpace(mesh, (\"CG\", 1))\n",
    "\n",
    "mesh.geometry.x[:, 0] += 10\n",
    "mesh.geometry.x[:, 1] -= 10\n",
    "\n",
    "mesh2.geometry.x[:, 0] -= 10\n",
    "mesh2.geometry.x[:, 1] += 10\n",
    "\n",
    "V2 = dfx.fem.FunctionSpace(mesh2, (\"CG\", 1))\n",
    "\n",
    "plotter = plot_data(V, show_edges=True)\n",
    "\n",
    "grid = pv.UnstructuredGrid(*dfx.plot.vtk_mesh(V2))\n",
    "\n",
    "plotter.add_mesh(grid, show_edges=True)\n",
    "\n",
    "plotter.update()\n"
   ]
  },
  {
   "cell_type": "markdown",
   "metadata": {},
   "source": [
    "First, we solve for the 3D quasi-radial coordinate."
   ]
  },
  {
   "cell_type": "code",
   "execution_count": null,
   "metadata": {},
   "outputs": [],
   "source": [
    "s2 = solve_quasi_radial_problem(mesh2)\n",
    "\n",
    "s, scale = get_normalized_coordinate(s2)"
   ]
  },
  {
   "cell_type": "code",
   "execution_count": null,
   "metadata": {},
   "outputs": [],
   "source": [
    "clip_box = np.array([-10., 10., 10., 30., -20, 20.])\n",
    "\n",
    "plot_data(s.function_space, s, clip_box=clip_box, show_edges=False)"
   ]
  },
  {
   "cell_type": "markdown",
   "metadata": {},
   "source": [
    "Here, we construct the 3D version of the above Poisson problem."
   ]
  },
  {
   "cell_type": "code",
   "execution_count": null,
   "metadata": {},
   "outputs": [],
   "source": [
    "u_3d = solve_test_problem(s)\n",
    "\n",
    "plot_data(u_3d.function_space, u_3d, clip_box=clip_box, show_edges=False)"
   ]
  },
  {
   "cell_type": "markdown",
   "metadata": {},
   "source": [
    "And we constuct the 1D problem in the quasi-radial coordinates according to the present scaling."
   ]
  },
  {
   "cell_type": "code",
   "execution_count": null,
   "metadata": {},
   "outputs": [],
   "source": [
    "mesh_1d = dfx.mesh.create_interval(MPI.COMM_WORLD, 128, (0, 1))\n",
    "\n",
    "V_1d = dfx.fem.FunctionSpace(mesh_1d, (\"CG\", 1))\n",
    "\n",
    "r = ufl.SpatialCoordinate(mesh_1d)[0]\n",
    "\n",
    "# It is important to scale the 1D equation since we use normalize coordinates\n",
    "f = ufl.exp(-r**2) * scale**2\n",
    "\n",
    "u = ufl.TrialFunction(V_1d)\n",
    "v = ufl.TestFunction(V_1d)\n",
    "\n",
    "a = - r**2 * ufl.dot(ufl.grad(u), ufl.grad(v)) * ufl.dx\n",
    "L = r**2 * f * v * ufl.dx\n",
    "\n",
    "def outer(x):\n",
    "    return np.isclose(x[0], 1)\n",
    "\n",
    "dofs = dfx.fem.locate_dofs_geometrical(V_1d, outer)\n",
    "\n",
    "bcs = [dfx.fem.dirichletbc(np.pi, dofs, V_1d)]\n",
    "\n",
    "# a == L\n",
    "problem = LinearProblem(a, L, bcs)\n",
    "\n",
    "u_1d = problem.solve()\n",
    "\n",
    "# Plot the 1D solution\n",
    "plt.figure()\n",
    "\n",
    "plt.plot(mesh_1d.geometry.x[:, 0], u_1d.x.array)\n",
    "\n",
    "plt.show()"
   ]
  },
  {
   "cell_type": "markdown",
   "metadata": {},
   "source": [
    "Shown below is the 3D representation of the quasi-1D solution."
   ]
  },
  {
   "cell_type": "code",
   "execution_count": null,
   "metadata": {},
   "outputs": [],
   "source": [
    "poly = sp.interpolate.interp1d(mesh_1d.geometry.x[:, 0], u_1d.x.array, fill_value=\"extrapolate\")\n",
    "\n",
    "u_interp = dfx.fem.Function(s.function_space)\n",
    "u_interp.x.array[:] = poly(s.x.array[:])"
   ]
  },
  {
   "cell_type": "code",
   "execution_count": null,
   "metadata": {},
   "outputs": [],
   "source": [
    "plot_data(s.function_space, u_interp, clip_box=clip_box, show_edges=True)"
   ]
  },
  {
   "cell_type": "markdown",
   "metadata": {},
   "source": [
    "Also show the difference between the two approaches."
   ]
  },
  {
   "cell_type": "code",
   "execution_count": null,
   "metadata": {},
   "outputs": [],
   "source": [
    "error = dfx.fem.Function(s.function_space)\n",
    "\n",
    "error.interpolate(dfx.fem.Expression(\n",
    "    u_interp - u_3d, s.function_space.element.interpolation_points()\n",
    "))\n",
    "\n",
    "plot_data(s.function_space, error, clip_box=clip_box)"
   ]
  }
 ],
 "metadata": {
  "kernelspec": {
   "display_name": "fenicsx-env1",
   "language": "python",
   "name": "python3"
  },
  "language_info": {
   "codemirror_mode": {
    "name": "ipython",
    "version": 3
   },
   "file_extension": ".py",
   "mimetype": "text/x-python",
   "name": "python",
   "nbconvert_exporter": "python",
   "pygments_lexer": "ipython3",
   "version": "3.12.2"
  }
 },
 "nbformat": 4,
 "nbformat_minor": 2
}
