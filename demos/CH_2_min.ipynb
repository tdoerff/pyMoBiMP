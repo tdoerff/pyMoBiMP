{
 "cells": [
  {
   "cell_type": "code",
   "execution_count": null,
   "metadata": {},
   "outputs": [],
   "source": [
    "%load_ext autoreload\n",
    "%autoreload 2"
   ]
  },
  {
   "cell_type": "code",
   "execution_count": null,
   "metadata": {},
   "outputs": [],
   "source": [
    "import basix\n",
    "\n",
    "import dolfinx as dfx\n",
    "\n",
    "from dolfinx.fem.petsc import NonlinearProblem\n",
    "\n",
    "%matplotlib widget\n",
    "from matplotlib import pyplot as plt\n",
    "# plt.style.use('fivethirtyeight')\n",
    "\n",
    "from mpi4py import MPI\n",
    "\n",
    "import numpy as np\n",
    "\n",
    "import ufl\n",
    "\n",
    "from pyMoBiMP.cahn_hilliard_utils import (\n",
    "    cahn_hilliard_form,\n",
    "    charge_discharge_stop, \n",
    "    AnalyzeOCP,\n",
    "    c_of_y,\n",
    "    populate_initial_data)\n",
    "\n",
    "from pyMoBiMP.fenicsx_utils import (evaluation_points_and_cells,\n",
    "                           get_mesh_spacing,\n",
    "                           time_stepping,\n",
    "                           NewtonSolver,\n",
    "                           FileOutput,\n",
    "                           Fenicx1DOutput)\n",
    "\n",
    "from pyMoBiMP.plotting_utils import (\n",
    "    plot_charging_cycle, \n",
    "    plot_time_sequence,\n",
    "    animate_time_series)\n",
    "\n",
    "comm_world = MPI.COMM_WORLD"
   ]
  },
  {
   "cell_type": "code",
   "execution_count": null,
   "metadata": {},
   "outputs": [],
   "source": [
    "# Discretization\n",
    "# --------------\n",
    "\n",
    "# Set up the mesh\n",
    "n_elem = 128\n",
    "\n",
    "mesh = dfx.mesh.create_unit_interval(comm_world, n_elem)\n",
    "\n",
    "dx_cell = get_mesh_spacing(mesh)\n",
    "\n",
    "print(f\"Cell spacing: h = {dx_cell}\")\n",
    "\n",
    "# For later plotting use\n",
    "x = np.linspace(0, 1, 101)\n",
    "points_on_proc, cells = evaluation_points_and_cells(mesh, x)\n",
    "\n",
    "T = 10.  # ending time\n",
    "\n",
    "# Initial timestep size\n",
    "dt = dfx.fem.Constant(mesh, dx_cell * 0.01)"
   ]
  },
  {
   "cell_type": "code",
   "execution_count": null,
   "metadata": {},
   "outputs": [],
   "source": [
    "elem1 = basix.ufl.element(\"Lagrange\", mesh.basix_cell(), 1)\n",
    "\n",
    "elem_c = elem1\n",
    "elem_mu = elem1\n",
    "\n",
    "\n",
    "V = dfx.fem.functionspace(mesh, basix.ufl.mixed_element([elem1, elem1]))  # A mixed two-component function space"
   ]
  },
  {
   "cell_type": "code",
   "execution_count": null,
   "metadata": {},
   "outputs": [],
   "source": [
    "# The mixed-element functions\n",
    "u = dfx.fem.Function(V)\n",
    "u0 = dfx.fem.Function(V)"
   ]
  },
  {
   "cell_type": "code",
   "execution_count": null,
   "metadata": {},
   "outputs": [],
   "source": [
    "# Compute the chemical potential df/dc\n",
    "a = 6. / 4\n",
    "b = 0.2\n",
    "cc = 5\n",
    "\n",
    "a = 5. # 6. / 4\n",
    "b = 0. # 0.2\n",
    "cc = 0 # 5\n",
    "\n",
    "free_energy = lambda u, log, sin: u * log(u) + (1-u) * log(1-u) + a * u * (1 - u) + b * sin(cc * np.pi * u)\n",
    "\n",
    "fig, ax = plt.subplots()\n",
    "\n",
    "eps = 1e-3\n",
    "\n",
    "c_plot = np.linspace(eps, 1-eps, 200)\n",
    "\n",
    "ax.plot(c_plot, free_energy(c_plot, np.log, np.sin))\n",
    "\n",
    "plt.show()"
   ]
  },
  {
   "cell_type": "code",
   "execution_count": null,
   "metadata": {},
   "outputs": [],
   "source": [
    "# Experimental setup\n",
    "# ------------------\n",
    "\n",
    "# charging current\n",
    "I_charge = dfx.fem.Constant(mesh, 1.0)\n",
    "\n",
    "coords = ufl.SpatialCoordinate(mesh)\n",
    "r2 = ufl.dot(coords, coords)\n",
    "\n",
    "y, mu = u.split()\n",
    "c = c_of_y(y)\n",
    "\n",
    "c_bc_form = dfx.fem.form(r2 * c * ufl.ds)\n",
    "\n",
    "def experiment(t, I_charge, **kwargs):\n",
    "\n",
    "    return charge_discharge_stop(t, u, I_charge, c_bc_form, c_of_y=lambda y: c_of_y(y))\n",
    "\n",
    "event_params = dict(I_charge=I_charge)"
   ]
  },
  {
   "cell_type": "code",
   "execution_count": null,
   "metadata": {},
   "outputs": [],
   "source": [
    "# The variational form\n",
    "# --------------------\n",
    "\n",
    "params = dict(I_charge=I_charge)\n",
    "\n",
    "F = cahn_hilliard_form(\n",
    "    u,\n",
    "    u0,\n",
    "    dt,\n",
    "    free_energy=lambda c: free_energy(c, ufl.ln, ufl.sin),\n",
    "    theta=0.75,\n",
    "    c_of_y=c_of_y,\n",
    "    M=lambda c: 1. * c * (1 - c),\n",
    "    lam=0.1,\n",
    "    **params\n",
    ")"
   ]
  },
  {
   "cell_type": "code",
   "execution_count": null,
   "metadata": {},
   "outputs": [],
   "source": [
    "# Initial data\n",
    "# ------------\n",
    "\n",
    "u_ini = dfx.fem.Function(V)\n",
    "\n",
    "# Constant\n",
    "c_ini_fun = lambda x: eps * np.ones_like(x[0])\n",
    "\n",
    "# Initial charge distribution.\n",
    "# c_ini_fun = lambda x: eps + 0.5 * np.sin(np.pi * x[0])\n",
    "\n",
    "populate_initial_data(u_ini, c_ini_fun, lambda c: free_energy(c, ufl.ln, ufl.sin))\n",
    "\n",
    "W, _ = V.sub(0).collapse()\n",
    "\n",
    "c = dfx.fem.Function(W)\n",
    "c.interpolate(dfx.fem.Expression(c_of_y(u_ini.sub(0)), W.element.interpolation_points()))\n",
    "\n",
    "plt.figure()\n",
    "\n",
    "plt.plot(x, u_ini.sub(0).eval(points_on_proc, cells), label=\"y\")\n",
    "plt.plot(x, c.eval(points_on_proc, cells), label=\"c\")\n",
    "plt.plot(x, u_ini.sub(1).eval(points_on_proc, cells), label=r\"$\\mu$\")\n",
    "\n",
    "plt.legend()\n",
    "\n",
    "plt.show()"
   ]
  },
  {
   "cell_type": "code",
   "execution_count": null,
   "metadata": {},
   "outputs": [],
   "source": [
    "problem = NonlinearProblem(F, u)\n",
    "\n",
    "solver = NewtonSolver(comm_world, problem)"
   ]
  },
  {
   "cell_type": "code",
   "execution_count": null,
   "metadata": {},
   "outputs": [],
   "source": [
    "u.interpolate(u_ini)\n",
    "\n",
    "n_out = 501\n",
    "\n",
    "output = Fenicx1DOutput(u, np.linspace(0, T, n_out), x)\n",
    "\n",
    "rt_analysis = AnalyzeOCP(u, c_of_y = lambda y: c_of_y(y))\n",
    "\n",
    "time_stepping(\n",
    "    solver,\n",
    "    u,\n",
    "    u0,\n",
    "    T,\n",
    "    dt,\n",
    "    dt_increase=1.1,\n",
    "    dt_max=1e-3,\n",
    "    event_handler=experiment,\n",
    "    output=output,\n",
    "    runtime_analysis=rt_analysis,\n",
    "    **event_params,\n",
    ")"
   ]
  },
  {
   "cell_type": "code",
   "execution_count": null,
   "metadata": {},
   "outputs": [],
   "source": [
    "fig, ax = plot_time_sequence(output, lambda y: np.exp(y) / (np.exp(y) + 1))\n",
    "\n",
    "plt.show()"
   ]
  },
  {
   "cell_type": "code",
   "execution_count": null,
   "metadata": {},
   "outputs": [],
   "source": [
    "animate_time_series(output, lambda y: np.exp(y) / (np.exp(y) + 1))"
   ]
  },
  {
   "cell_type": "code",
   "execution_count": null,
   "metadata": {},
   "outputs": [],
   "source": [
    "q, f_bar, mu_bc = np.array(rt_analysis.data).T\n",
    "t = rt_analysis.t\n",
    "\n",
    "dFdc = lambda q_plot: np.log(q_plot / (1 - q_plot)) + a * (1 - 2 * q_plot)\n",
    "\n",
    "ax = plot_charging_cycle([(I_charge.value, q, mu_bc)], dFdc, eps)\n",
    "\n",
    "plt.show()"
   ]
  }
 ],
 "metadata": {
  "kernelspec": {
   "display_name": "fenicsx-env",
   "language": "python",
   "name": "python3"
  },
  "language_info": {
   "codemirror_mode": {
    "name": "ipython",
    "version": 3
   },
   "file_extension": ".py",
   "mimetype": "text/x-python",
   "name": "python",
   "nbconvert_exporter": "python",
   "pygments_lexer": "ipython3",
   "version": "3.10.14"
  }
 },
 "nbformat": 4,
 "nbformat_minor": 2
}
