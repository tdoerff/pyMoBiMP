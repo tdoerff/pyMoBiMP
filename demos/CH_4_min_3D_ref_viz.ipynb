{
 "cells": [
  {
   "cell_type": "code",
   "execution_count": null,
   "metadata": {},
   "outputs": [],
   "source": [
    "import dolfinx as dfx\n",
    "\n",
    "import h5py\n",
    "\n",
    "from mpi4py import MPI\n",
    "\n",
    "import numpy as np\n",
    "\n",
    "import pyvista as pv\n",
    "\n",
    "from pyMoBiMP.plotting_utils import PyvistaAnimation"
   ]
  },
  {
   "cell_type": "code",
   "execution_count": null,
   "metadata": {},
   "outputs": [],
   "source": [
    "file = \"../simulation_output/CH_4_true_3d\"\n",
    "\n",
    "with h5py.File(file + \".h5\", 'r') as f:\n",
    "    print(f.keys())\n",
    "\n",
    "    # grid coordinates\n",
    "    x_data = f[\"Mesh/mesh/geometry\"][()]\n",
    "\n",
    "    # time steps (convert from string to float)\n",
    "    t = [float(t.replace(\"_\", \".\")) for t in f[\"Function/y\"].keys()]\n",
    "\n",
    "    # list of data stored as numpy arrays\n",
    "    u_data = [(f[\"Function/y\"][u_key][()].squeeze(),\n",
    "               f[\"Function/mu\"][u_key][()].squeeze())\n",
    "              for u_key in f[\"Function/y\"]]\n",
    "\n",
    "sorted_indx = np.argsort(t)\n",
    "\n",
    "t = np.array(t)[sorted_indx]\n",
    "u_data = np.array(u_data)[sorted_indx]\n",
    "\n",
    "# rt_data  = np.loadtxt(results_folder / \"CH_4_min_1D_rt.txt\")"
   ]
  },
  {
   "cell_type": "code",
   "execution_count": null,
   "metadata": {},
   "outputs": [],
   "source": [
    "with dfx.io.XDMFFile(MPI.COMM_WORLD, file + \".xdmf\", 'r') as xdmf:\n",
    "    mesh = xdmf.read_mesh()"
   ]
  },
  {
   "cell_type": "code",
   "execution_count": null,
   "metadata": {},
   "outputs": [],
   "source": [
    "plotter = pv.Plotter()\n",
    "\n",
    "V = dfx.fem.FunctionSpace(mesh, (\"Lagrange\", 1))\n",
    "\n",
    "topo, ct, x = dfx.plot.vtk_mesh(V)\n",
    "\n",
    "grid = pv.UnstructuredGrid(topo, ct, x)\n",
    "\n",
    "y = u_data[2, 0, :]\n",
    "c = np.exp(y) / (1 + np.exp(y))\n",
    "\n",
    "grid[\"u\"] = c\n",
    "\n",
    "x0 = (0, 0, 0)\n",
    "grid = grid.clip_box([x0[0], x0[0]+1, x0[1], x0[1]+1, 0, 0+1])\n",
    "\n",
    "plotter.add_mesh(grid)\n",
    "\n",
    "plotter.show()"
   ]
  }
 ],
 "metadata": {
  "kernelspec": {
   "display_name": "fenicsx-env1",
   "language": "python",
   "name": "python3"
  },
  "language_info": {
   "codemirror_mode": {
    "name": "ipython",
    "version": 3
   },
   "file_extension": ".py",
   "mimetype": "text/x-python",
   "name": "python",
   "nbconvert_exporter": "python",
   "pygments_lexer": "ipython3",
   "version": "3.12.2"
  }
 },
 "nbformat": 4,
 "nbformat_minor": 2
}
