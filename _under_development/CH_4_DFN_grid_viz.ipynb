{
 "cells": [
  {
   "cell_type": "code",
   "execution_count": null,
   "metadata": {},
   "outputs": [],
   "source": [
    "%matplotlib widget\n",
    "import matplotlib.pyplot as plt\n",
    "import numpy as np\n",
    "\n",
    "from pyMoBiMP.fenicsx_utils import read_data"
   ]
  },
  {
   "cell_type": "code",
   "execution_count": null,
   "metadata": {},
   "outputs": [],
   "source": [
    "data = np.loadtxt(\"../CH_4_DFN_rt.txt\")"
   ]
  },
  {
   "cell_type": "code",
   "execution_count": null,
   "metadata": {},
   "outputs": [],
   "source": [
    "fig, ax = plt.subplots()\n",
    "\n",
    "t = data[:, 0]\n",
    "dt = np.diff(t)\n",
    "q = data[:, 1]\n",
    "dq = np.diff(q)\n",
    "V = data[:, 2]\n",
    "\n",
    "ax.plot(t, q, 'x-')\n",
    "\n",
    "ax = ax.twinx()\n",
    "\n",
    "ax.plot(t[:-1], dq / dt, 'r')\n",
    "\n",
    "plt.show()"
   ]
  },
  {
   "cell_type": "code",
   "execution_count": null,
   "metadata": {},
   "outputs": [],
   "source": [
    "# (inverse) C-rate\n",
    "((data[-1, 1] - data[0, 1]) / (data[-1, 0] - data[0, 0]))**-1"
   ]
  },
  {
   "cell_type": "code",
   "execution_count": null,
   "metadata": {},
   "outputs": [],
   "source": [
    "plt.figure()\n",
    "\n",
    "plt.plot(q, V)\n",
    "# 0.00\n",
    "\n",
    "plt.show()"
   ]
  },
  {
   "cell_type": "code",
   "execution_count": null,
   "metadata": {},
   "outputs": [],
   "source": [
    "data_rst = np.loadtxt(\"../CH_4_DFN_restarted_rt.txt\")\n",
    "\n",
    "fig, ax = plt.subplots()\n",
    "\n",
    "ax.plot(q, V)\n",
    "\n",
    "t = data_rst[:, 0]\n",
    "q = data_rst[:, 1]\n",
    "V = data_rst[:, 2]\n",
    "\n",
    "ax.plot(q, V)\n",
    "\n",
    "plt.show()"
   ]
  },
  {
   "cell_type": "code",
   "execution_count": null,
   "metadata": {},
   "outputs": [],
   "source": [
    "t = data[:, 0]\n",
    "dt = np.diff(t)\n",
    "\n",
    "fig, ax = plt.subplots()\n",
    "\n",
    "ax.semilogy(t[:-1], dt)\n",
    "\n",
    "ax = ax.twinx()\n",
    "ax.plot(data[:, 0], -data[:, 2], 'r')\n",
    "\n",
    "plt.show()"
   ]
  },
  {
   "cell_type": "code",
   "execution_count": null,
   "metadata": {},
   "outputs": [],
   "source": [
    "num_particles, t, x_data, u_data, rt_data = read_data(\"../CH_4_DFN.h5\")\n",
    "\n",
    "num_particles = 1024\n",
    "n_radius = 16\n",
    "\n",
    "u_data = u_data.reshape(len(t), 2, num_particles, n_radius)\n",
    "x_data = x_data.reshape(num_particles, n_radius, 2).transpose((-1, 0, 1))\n",
    "\n",
    "print(t.shape)\n",
    "print(x_data.shape)\n",
    "print(u_data.shape)\n",
    "\n",
    "\n",
    "sorted_indx = np.argsort(x_data[1, :, 0])\n",
    "\n",
    "x_data = x_data[:, sorted_indx, :]\n",
    "u_data = u_data[:, :, sorted_indx, :]"
   ]
  },
  {
   "cell_type": "code",
   "execution_count": null,
   "metadata": {},
   "outputs": [],
   "source": [
    "fig, ax = plt.subplots(1, 2, sharey=True)\n",
    "\n",
    "pc = ax[0].pcolor(x_data[0])\n",
    "fig.colorbar(pc, ax=ax[0])\n",
    "\n",
    "pc = ax[1].pcolor(x_data[1])\n",
    "fig.colorbar(pc, ax=ax[1])\n",
    "\n",
    "plt.show()"
   ]
  },
  {
   "cell_type": "code",
   "execution_count": null,
   "metadata": {},
   "outputs": [],
   "source": [
    "def c_of_y(y): return np.exp(y) / (1 + np.exp(y))\n",
    "\n",
    "\n",
    "c = c_of_y(u_data[:, 0, :, :])\n",
    "\n",
    "import matplotlib.pyplot as plt\n",
    "\n",
    "plt.figure()\n",
    "\n",
    "plt.pcolor(c[-1, :, :])\n",
    "plt.colorbar()\n",
    "\n",
    "plt.show()"
   ]
  },
  {
   "cell_type": "code",
   "execution_count": null,
   "metadata": {},
   "outputs": [],
   "source": [
    "plt.figure()\n",
    "\n",
    "plt.plot(c[-1, :, -1])\n",
    "\n",
    "plt.show()"
   ]
  },
  {
   "cell_type": "code",
   "execution_count": null,
   "metadata": {},
   "outputs": [],
   "source": [
    "r = x_data.reshape(-1, 16, 2)[0, :, 0]"
   ]
  },
  {
   "cell_type": "code",
   "execution_count": null,
   "metadata": {},
   "outputs": [],
   "source": [
    "plt.figure()\n",
    "\n",
    "q = 3 * np.sum(c * r[None, None, :]**2, axis=(-2, -1)) / num_particles\n",
    "\n",
    "plt.plot(t, q)\n",
    "\n",
    "plt.show()"
   ]
  }
 ],
 "metadata": {
  "kernelspec": {
   "display_name": "fenicsx-env1",
   "language": "python",
   "name": "python3"
  },
  "language_info": {
   "codemirror_mode": {
    "name": "ipython",
    "version": 3
   },
   "file_extension": ".py",
   "mimetype": "text/x-python",
   "name": "python",
   "nbconvert_exporter": "python",
   "pygments_lexer": "ipython3",
   "version": "3.10.14"
  }
 },
 "nbformat": 4,
 "nbformat_minor": 2
}
