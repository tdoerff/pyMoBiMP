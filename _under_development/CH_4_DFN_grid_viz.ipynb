{
 "cells": [
  {
   "cell_type": "code",
   "execution_count": null,
   "metadata": {},
   "outputs": [],
   "source": [
    "%matplotlib widget\n",
    "import matplotlib.pyplot as plt\n",
    "import numpy as np\n",
    "\n",
    "from pyMoBiMP.fenicsx_utils import read_data"
   ]
  },
  {
   "cell_type": "code",
   "execution_count": null,
   "metadata": {},
   "outputs": [],
   "source": [
    "data = np.loadtxt(\"../CH_4_DFN_rt.txt\")"
   ]
  },
  {
   "cell_type": "code",
   "execution_count": null,
   "metadata": {},
   "outputs": [],
   "source": [
    "fig, ax = plt.subplots()\n",
    "\n",
    "ax.plot(data[:, 0], data[:, 1], 'x-')\n",
    "\n",
    "ax = ax.twinx()\n",
    "\n",
    "t = data[:, 0]\n",
    "dt = np.diff(t)\n",
    "q = data[:, 1]\n",
    "dq = np.diff(q)\n",
    "\n",
    "ax.semilogy(t[:-1], dq / dt)\n",
    "\n",
    "plt.show()"
   ]
  },
  {
   "cell_type": "code",
   "execution_count": null,
   "metadata": {},
   "outputs": [],
   "source": [
    "# (inverse) C-rate\n",
    "((data[-1, 1] - data[0, 1]) / (data[-1, 0] - data[0, 0]))**-1"
   ]
  },
  {
   "cell_type": "code",
   "execution_count": null,
   "metadata": {},
   "outputs": [],
   "source": [
    "plt.figure()\n",
    "\n",
    "plt.plot(data[:, 1], data[:, 2])\n",
    "# 0.00\n",
    "\n",
    "plt.show()"
   ]
  },
  {
   "cell_type": "code",
   "execution_count": null,
   "metadata": {},
   "outputs": [],
   "source": [
    "t = data[:, 0]\n",
    "dt = np.diff(t)\n",
    "\n",
    "fig, ax = plt.subplots()\n",
    "\n",
    "ax.semilogy(t[:-1], dt)\n",
    "\n",
    "ax = ax.twinx()\n",
    "ax.plot(data[:, 0], -data[:, 2], 'r')\n",
    "\n",
    "plt.show()"
   ]
  },
  {
   "cell_type": "code",
   "execution_count": null,
   "metadata": {},
   "outputs": [],
   "source": [
    "num_particles, t, x_data, u_data, rt_data = read_data(\"../CH_4_DFN.h5\")\n",
    "\n",
    "print(x_data.shape)\n",
    "print(u_data.shape)"
   ]
  },
  {
   "cell_type": "code",
   "execution_count": null,
   "metadata": {},
   "outputs": [],
   "source": [
    "def c_of_y(y): return np.exp(y) / (1 + np.exp(y))\n",
    "\n",
    "u_data = u_data.reshape(len(t), 2, 129, -1)\n",
    "u_data[:, 0, :, :] = c_of_y(u_data[:, 0, :, :])\n",
    "\n",
    "import matplotlib.pyplot as plt\n",
    "\n",
    "plt.figure()\n",
    "\n",
    "plt.pcolor(u_data[-1, 0, :])\n",
    "plt.colorbar()\n",
    "\n",
    "plt.show()"
   ]
  },
  {
   "cell_type": "code",
   "execution_count": null,
   "metadata": {},
   "outputs": [],
   "source": [
    "plt.figure()\n",
    "\n",
    "plt.plot(u_data[-1, 0, :, -1])\n",
    "\n",
    "plt.show()"
   ]
  },
  {
   "cell_type": "code",
   "execution_count": null,
   "metadata": {},
   "outputs": [],
   "source": []
  }
 ],
 "metadata": {
  "kernelspec": {
   "display_name": "fenicsx-env1",
   "language": "python",
   "name": "python3"
  },
  "language_info": {
   "codemirror_mode": {
    "name": "ipython",
    "version": 3
   },
   "file_extension": ".py",
   "mimetype": "text/x-python",
   "name": "python",
   "nbconvert_exporter": "python",
   "pygments_lexer": "ipython3",
   "version": "3.10.14"
  }
 },
 "nbformat": 4,
 "nbformat_minor": 2
}
