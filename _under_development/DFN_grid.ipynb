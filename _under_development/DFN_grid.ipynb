{
 "cells": [
  {
   "cell_type": "code",
   "execution_count": null,
   "metadata": {},
   "outputs": [],
   "source": [
    "%load_ext autoreload\n",
    "%autoreload 2\n",
    "\n",
    "%matplotlib"
   ]
  },
  {
   "cell_type": "code",
   "execution_count": null,
   "metadata": {},
   "outputs": [],
   "source": [
    "import basix\n",
    "\n",
    "import dolfinx as dfx\n",
    "\n",
    "import matplotlib.pyplot as plt\n",
    "\n",
    "from mpi4py.MPI import COMM_WORLD as comm, SUM\n",
    "\n",
    "import numpy as np\n",
    "\n",
    "import pyvista as pv\n",
    "\n",
    "import ufl\n",
    "\n",
    "from pyMoBiMP.cahn_hilliard_utils import (\n",
    "    c_of_y, compute_chemical_potential, _free_energy as free_energy)\n",
    "\n",
    "from CH_4_DFN_grid import (AnalyzeOCP,\n",
    "                           DFN_function_space,\n",
    "                           DFN_FEM_form,\n",
    "                           create_particle_summation_measure,\n",
    "                           FileOutput,\n",
    "                           plot_solution_on_grid,\n",
    "                           physical_setup,\n",
    "                           TestCurrent,\n",
    "                           time_stepping,\n",
    "                           Voltage\n",
    "                           )"
   ]
  },
  {
   "cell_type": "markdown",
   "metadata": {},
   "source": [
    "## Create the mesh and function space"
   ]
  },
  {
   "cell_type": "code",
   "execution_count": null,
   "metadata": {},
   "outputs": [],
   "source": [
    "n_radial = 16\n",
    "n_particles = 128\n",
    "\n",
    "mesh = dfx.mesh.create_rectangle(comm, \n",
    "                                 ((0., 0.), \n",
    "                                  (1., n_particles)), \n",
    "                                 (n_radial, n_particles),\n",
    "                                 cell_type=dfx.mesh.CellType.quadrilateral)\n",
    "\n",
    "V = DFN_function_space(mesh)\n",
    "\n",
    "dA = create_particle_summation_measure(mesh)"
   ]
  },
  {
   "cell_type": "markdown",
   "metadata": {},
   "source": [
    "## Physical properties"
   ]
  },
  {
   "cell_type": "code",
   "execution_count": null,
   "metadata": {},
   "outputs": [],
   "source": [
    "A, a_ratios, L, Ls = physical_setup(V)"
   ]
  },
  {
   "cell_type": "code",
   "execution_count": null,
   "metadata": {},
   "outputs": [],
   "source": [
    "u = dfx.fem.Function(V)\n",
    "u0 = dfx.fem.Function(V)\n",
    "\n",
    "y, mu = ufl.split(u)\n",
    "y0, mu0 = ufl.split(u0)"
   ]
  },
  {
   "cell_type": "code",
   "execution_count": null,
   "metadata": {},
   "outputs": [],
   "source": [
    "I_global = dfx.fem.Constant(mesh, 0.01)\n",
    "V_cell = Voltage(u, I_global)\n",
    "\n",
    "Ls = V_cell.Ls\n",
    "\n",
    "I_particle = - Ls * (mu + V_cell)"
   ]
  },
  {
   "cell_type": "markdown",
   "metadata": {},
   "source": [
    "## The FEM form"
   ]
  },
  {
   "cell_type": "code",
   "execution_count": null,
   "metadata": {},
   "outputs": [],
   "source": [
    "v = ufl.TestFunction(V)\n",
    "\n",
    "dt = dfx.fem.Constant(mesh, 0.0)\n",
    "\n",
    "F = DFN_FEM_form(u, u0, v, dt, V_cell)\n"
   ]
  },
  {
   "cell_type": "code",
   "execution_count": null,
   "metadata": {},
   "outputs": [],
   "source": [
    "# du = ufl.TrialFunction(V)\n",
    "\n",
    "# dc, dmu = ufl.split(du)\n",
    "\n",
    "# J0 = ufl.derivative(F, u, du)\n",
    "\n",
    "# dVdu = Ls / L * dmu * v_c * a_ratios * dA\n",
    "# dFdV = Ls * v_c * dt * dA"
   ]
  },
  {
   "cell_type": "code",
   "execution_count": null,
   "metadata": {},
   "outputs": [],
   "source": [
    "# dfx.fem.petsc.assemble_vector(dfx.fem.form(dFdV))[:].shape"
   ]
  },
  {
   "cell_type": "code",
   "execution_count": null,
   "metadata": {},
   "outputs": [],
   "source": [
    "# mat = dfx.fem.petsc.assemble_vector(dfx.fem.form(dVdu))"
   ]
  },
  {
   "cell_type": "markdown",
   "metadata": {},
   "source": [
    "## Solver"
   ]
  },
  {
   "cell_type": "code",
   "execution_count": null,
   "metadata": {},
   "outputs": [],
   "source": [
    "from dolfinx.fem.petsc import NonlinearProblem as NonlinearProblemBase\n",
    "from pyMoBiMP.fenicsx_utils import NewtonSolver\n",
    "from petsc4py import PETSc\n",
    "\n",
    "class NonlinearProblem(NonlinearProblemBase):\n",
    "    def __init__(self, *args, callback=lambda: None, **kwargs):\n",
    "        super().__init__(*args, **kwargs)\n",
    "\n",
    "        self.callback = callback\n",
    "\n",
    "    def form(self, x):\n",
    "        super().form(x)\n",
    "\n",
    "        self.callback()\n",
    "\n",
    "problem = NonlinearProblem(F, u, callback=V_cell.update)\n",
    "solver = NewtonSolver(comm, problem)\n",
    "\n",
    "solver.error_on_nonconvergence = False\n",
    "solver.convergence_criterion = \"incremental\"\n",
    "solver.rtol = 1e-7\n",
    "solver.max_it = 50\n",
    "\n",
    "ksp = solver.krylov_solver\n",
    "opts = PETSc.Options()\n",
    "option_prefix = ksp.getOptionsPrefix()\n",
    "opts[f\"{option_prefix}ksp_type\"] = \"preonly\"\n",
    "opts[f\"{option_prefix}pc_type\"] = \"lu\"\n",
    "ksp.setFromOptions()"
   ]
  },
  {
   "cell_type": "code",
   "execution_count": null,
   "metadata": {},
   "outputs": [],
   "source": [
    "u0.sub(0).x.array[:] = -6  # This corresponds to roughly c = 1e-3\n",
    "\n",
    "dt.value = 0.\n",
    "\n",
    "# u.interpolate(u0)  # Initial guess\n",
    "\n",
    "residual = dfx.fem.form(F)\n",
    "\n",
    "print(dfx.fem.petsc.assemble_vector(residual).norm())\n",
    "its, success = solver.solve(u)\n",
    "error = dfx.fem.petsc.assemble_vector(residual).norm()\n",
    "print(its, error)\n",
    "assert np.isclose(error, 0.)"
   ]
  },
  {
   "cell_type": "markdown",
   "metadata": {},
   "source": [
    "## Simulation setup and output"
   ]
  },
  {
   "cell_type": "code",
   "execution_count": null,
   "metadata": {},
   "outputs": [],
   "source": [
    "T_final = 650.\n",
    "\n",
    "dt_min = 1e-9\n",
    "dt_max = 1e-2"
   ]
  },
  {
   "cell_type": "code",
   "execution_count": null,
   "metadata": {},
   "outputs": [],
   "source": [
    "rt_analysis = AnalyzeOCP(u,\n",
    "                         c_of_y,\n",
    "                         V_cell,\n",
    "                         filename=\"CH_4_DFN_rt.txt\")\n",
    "\n",
    "output = FileOutput(u,\n",
    "                    np.linspace(0, T_final, 101),\n",
    "                    filename=\"CH_4_DFN.xdmf\",\n",
    "                    variable_transform=c_of_y)\n",
    "\n",
    "callback = TestCurrent(u, V_cell, I_global)"
   ]
  },
  {
   "cell_type": "code",
   "execution_count": null,
   "metadata": {},
   "outputs": [],
   "source": [
    "time_stepping(\n",
    "    solver,\n",
    "    u,\n",
    "    u0,\n",
    "    T_final,\n",
    "    dt,\n",
    "    V_cell,\n",
    "    dt_max=dt_max,\n",
    "    dt_min=dt_min,\n",
    "    dt_increase=1.1,\n",
    "    tol=1e-4,\n",
    "    runtime_analysis=rt_analysis,\n",
    "    output=output,\n",
    "    callback=callback\n",
    ")"
   ]
  },
  {
   "cell_type": "code",
   "execution_count": null,
   "metadata": {},
   "outputs": [],
   "source": [
    "y = u.sub(0)\n",
    "\n",
    "c = dfx.fem.Function(u.sub(0).collapse().function_space)\n",
    "c.interpolate(\n",
    "    dfx.fem.Expression(c_of_y(y), c.function_space.element.interpolation_points()))\n",
    "\n",
    "plot_solution_on_grid(c)"
   ]
  },
  {
   "cell_type": "code",
   "execution_count": null,
   "metadata": {},
   "outputs": [],
   "source": []
  }
 ],
 "metadata": {
  "kernelspec": {
   "display_name": "fenicsx-env",
   "language": "python",
   "name": "python3"
  },
  "language_info": {
   "codemirror_mode": {
    "name": "ipython",
    "version": 3
   },
   "file_extension": ".py",
   "mimetype": "text/x-python",
   "name": "python",
   "nbconvert_exporter": "python",
   "pygments_lexer": "ipython3",
   "version": "3.10.14"
  }
 },
 "nbformat": 4,
 "nbformat_minor": 2
}
