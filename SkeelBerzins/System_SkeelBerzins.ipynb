{
 "cells": [
  {
   "cell_type": "code",
   "execution_count": null,
   "metadata": {},
   "outputs": [],
   "source": [
    "using DifferentialEquations\n",
    "using Plots\n",
    "using SkeelBerzins"
   ]
  },
  {
   "cell_type": "code",
   "execution_count": null,
   "metadata": {},
   "outputs": [],
   "source": [
    "N_x = 21\n",
    "\n",
    "L = 1\n",
    "T = 10\n",
    "\n",
    "x_mesh = collect(range(0, L; length=N_x))\n",
    "tspan = (0, T)\n",
    "\n",
    "m = 0\n",
    "\n",
    "function pdefun(x, t, u, dudx)\n",
    "    c = SVector(1, 1)\n",
    "    c = SVector(1, 0) # Mod TD\n",
    "    f = SVector(0.5, 0.1) .* dudx\n",
    "    y = u[1] - u[2]\n",
    "    s = SVector(-y, y)\n",
    "\n",
    "    return c, f, s\n",
    "end\n",
    "\n",
    "function icfun(x)\n",
    "    u0 = SVector(0.0, 0.0)\n",
    "\n",
    "    return u0\n",
    "end\n",
    "\n",
    "function bdfun(xl, ul, xr, ur, t)\n",
    "\n",
    "    # Dirichlet-1 for first, Neumann-0 for second species\n",
    "    pl = SVector(ul[1] - 1.0, 0)\n",
    "    ql = SVector(0, 1)\n",
    "\n",
    "    # Neumann-0 for first, Dirichlet-0 for second species\n",
    "    pr = SVector(0, ur[2])\n",
    "    pr = SVector(-1, ur[2]) # mod TD\n",
    "    qr = SVector(1, 0)\n",
    "\n",
    "    return pl, ql, pr, qr\n",
    "end"
   ]
  },
  {
   "cell_type": "code",
   "execution_count": null,
   "metadata": {},
   "outputs": [],
   "source": [
    "params_diffEq = SkeelBerzins.Params(; solver=:DiffEq)\n",
    "\n",
    "pb = pdepe(m, pdefun, icfun, bdfun, x_mesh, tspan; params=params_diffEq)\n",
    "problem = DifferentialEquations.ODEProblem(pb)\n",
    "sol_diffEq = DifferentialEquations.solve(problem, Rosenbrock23())\n",
    "sol_reshaped_diffEq = reshape(sol_diffEq, pb)"
   ]
  },
  {
   "cell_type": "code",
   "execution_count": null,
   "metadata": {},
   "outputs": [],
   "source": [
    "c1 = sol_reshaped_diffEq.u[end][1, :]\n",
    "c2 = sol_reshaped_diffEq.u[end][2, :]\n",
    "\n",
    "plot(x_mesh, c1)\n",
    "plot!(x_mesh, c2)"
   ]
  },
  {
   "cell_type": "code",
   "execution_count": null,
   "metadata": {},
   "outputs": [],
   "source": []
  }
 ],
 "metadata": {
  "kernelspec": {
   "display_name": "Julia 1.10.0",
   "language": "julia",
   "name": "julia-1.10"
  },
  "language_info": {
   "file_extension": ".jl",
   "mimetype": "application/julia",
   "name": "julia",
   "version": "1.10.0"
  }
 },
 "nbformat": 4,
 "nbformat_minor": 2
}
