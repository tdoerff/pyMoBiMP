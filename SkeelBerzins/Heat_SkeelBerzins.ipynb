{
 "cells": [
  {
   "cell_type": "markdown",
   "metadata": {},
   "source": [
    "# Using Skeel-Berzins integrator to solve for the heat equation"
   ]
  },
  {
   "cell_type": "code",
   "execution_count": null,
   "metadata": {},
   "outputs": [],
   "source": [
    "using Plots\n",
    "using ForwardDiff\n",
    "using SkeelBerzins1\n",
    "using DifferentialEquations"
   ]
  },
  {
   "cell_type": "markdown",
   "metadata": {},
   "source": [
    "## The heat equation in standard formulation\n",
    "\n",
    "$$\n",
    "\\partial_t u = D \\partial_x^2 u \\qquad \\text{on} \\quad \\Omega \\in [0,1]\n",
    "$$\n",
    "For the sake of simplicity, let $D=1$. In flux form, we have\n",
    "$$\n",
    "\\partial_t u = (\\partial_x u)_x =: f(x, t, u, \\partial_x u)_x\n",
    "$$"
   ]
  },
  {
   "cell_type": "code",
   "execution_count": null,
   "metadata": {},
   "outputs": [],
   "source": [
    "# Define the mesh\n",
    "\n",
    "N_x = 21\n",
    "L = 1\n",
    "T = 1\n",
    "\n",
    "x_mesh = collect(LinRange(0, L, N_x));"
   ]
  },
  {
   "cell_type": "markdown",
   "metadata": {},
   "source": [
    "The differential equation in the form\n",
    "\n",
    "$$\n",
    "c(x,t,u, \\partial_x u) \\partial_t u = f(x, t, u, \\partial_x u)_x + s(x, t, u)\n",
    "$$\n",
    "\n",
    "Here, we have\n",
    "\n",
    "$$\n",
    "m = 0 \\\\\n",
    "c = 1 \\\\\n",
    "f = \\partial_x u \\\\\n",
    "s = 0\n",
    "$$"
   ]
  },
  {
   "cell_type": "code",
   "execution_count": null,
   "metadata": {},
   "outputs": [],
   "source": [
    "function diff_eq(x, t, u, dudx)\n",
    "\n",
    "    c = 0u + 1\n",
    "    f = dudx\n",
    "    s = 0u\n",
    "\n",
    "    return c, f, s\n",
    "end;"
   ]
  },
  {
   "cell_type": "markdown",
   "metadata": {},
   "source": [
    "Boundary conditions may be given through the expression\n",
    "\n",
    "$$\n",
    "p(x, t, u) + q(x, t) f (x, t, u, \\partial_x u) = 0\n",
    "$$\n",
    "\n",
    "for $x = 0, 1\\,$.\n",
    "E.g., $u(x=0) = 1$ and $\\partial_x u(x=1) = f(x, t, u, \\partial_x u) =-2$ translates into\n",
    "\n",
    "$$\n",
    "p_L = u_L - 1 \\quad \\text{and}\\quad q_L = 0 \\\\\n",
    "p_R = 2 \\quad\\text{and}\\quad q_R = 1\n",
    "$$"
   ]
  },
  {
   "cell_type": "code",
   "execution_count": null,
   "metadata": {},
   "outputs": [],
   "source": [
    "function bdfun(xl, ul, xr, ur, t)\n",
    "\n",
    "    pl = ul - 1\n",
    "    ql = 0\n",
    "\n",
    "    pr = 2\n",
    "    qr = 1\n",
    "\n",
    "    return pl, ql, pr, qr\n",
    "end;"
   ]
  },
  {
   "cell_type": "markdown",
   "metadata": {},
   "source": [
    "Set Gaussian initial data."
   ]
  },
  {
   "cell_type": "code",
   "execution_count": null,
   "metadata": {},
   "outputs": [],
   "source": [
    "icfun(x) = exp(-100 * x^2);"
   ]
  },
  {
   "cell_type": "code",
   "execution_count": null,
   "metadata": {},
   "outputs": [],
   "source": [
    "# Solve by the explicit Euler method implemented into SkeelBerzins.jl.\n",
    "\n",
    "params_diffEq = SkeelBerzins.Params(; solver=:DiffEq)\n",
    "\n",
    "t_span = (0, 1.0)\n",
    "m = 0\n",
    "\n",
    "sol_euler = pdepe(m, diff_eq, icfun, bdfun, x_mesh, t_span);"
   ]
  },
  {
   "cell_type": "code",
   "execution_count": null,
   "metadata": {},
   "outputs": [],
   "source": [
    "# Use DifferentialEquations to solve the problem.\n",
    "\n",
    "pb = pdepe(m, diff_eq, icfun, bdfun, x_mesh, t_span; params=params_diffEq)\n",
    "\n",
    "problem = DifferentialEquations.ODEProblem(pb)\n",
    "sol_diffEq = DifferentialEquations.solve(problem, Rosenbrock23())\n",
    "sol_reshaped_diffEq = reshape(sol_diffEq, pb);"
   ]
  },
  {
   "cell_type": "code",
   "execution_count": null,
   "metadata": {},
   "outputs": [],
   "source": [
    "plot(x_mesh, sol_euler[end])\n",
    "plot!(x_mesh, sol_diffEq.u[end])"
   ]
  },
  {
   "cell_type": "markdown",
   "metadata": {},
   "source": [
    "### Mixed formulation of the diffusion equation\n",
    "\n",
    "For testing the implementation of a higher-than-second-order-in-space equation, artificially inflate the equation to a system of two equations.\n",
    "\n",
    "$$\n",
    "\\partial_t u = -\\mu \\\\\n",
    "0 = - \\partial^2_x u - \\mu\n",
    "$$\n",
    "\n",
    "We define $\\psi:=(u, \\mu)$. Hence, for the standard form $c(x,t,\\psi, \\partial_x \\psi) \\partial_t \\psi = f(x, t, \\psi, \\partial_x \\psi)_x + s(x, t, \\psi)$, we have\n",
    "\n",
    "$$\n",
    "c(x,t,\\psi,\\partial_x \\psi) \\partial_t \\psi = (\\partial_t u, 0)^T \\\\\n",
    "f(x, t, \\psi, \\partial_x \\psi) = (0, -\\partial_x u)^T \\\\\n",
    "s(x, t, u) = (-\\mu, -\\mu)^T\n",
    "$$"
   ]
  },
  {
   "cell_type": "code",
   "execution_count": null,
   "metadata": {},
   "outputs": [],
   "source": [
    "function diff_eq(x, t, u, dudx)\n",
    "\n",
    "    c = SVector(1, 0)\n",
    "    f = SVector(0, -dudx[1])\n",
    "    s = SVector(-u[2], -u[2])\n",
    "\n",
    "    return c, f, s\n",
    "end;"
   ]
  },
  {
   "cell_type": "markdown",
   "metadata": {},
   "source": [
    "Boundary conditions $u(x=0) = 1$ and $\\partial_x u(x=1) = -f(x, t, \\psi, \\partial_x \\psi)_2 =-2$ translate into\n",
    "\n",
    "$$\n",
    "p_{L,1} = u_L - 1 \\quad\\text{and}\\quad q_L = 0 \\\\\n",
    "p_{R,2} = 2 \\quad\\text{and}\\quad q_{R,2} = 1 \n",
    "$$"
   ]
  },
  {
   "cell_type": "code",
   "execution_count": null,
   "metadata": {},
   "outputs": [],
   "source": [
    "function bdfun(xl, ul, xr, ur, t)\n",
    "\n",
    "    pl = SVector(ul[1] - 1.0, ul[1] - 1.0)\n",
    "    ql = SVector(0., 0.)\n",
    "\n",
    "    pr = SVector(0, 2)\n",
    "    qr = SVector(0, 1)\n",
    "\n",
    "    return pl, ql, pr, qr\n",
    "end;"
   ]
  },
  {
   "cell_type": "code",
   "execution_count": null,
   "metadata": {},
   "outputs": [],
   "source": [
    "icfun(x) = SVector(exp(-100 * x^2), 0 * x);"
   ]
  },
  {
   "cell_type": "code",
   "execution_count": null,
   "metadata": {},
   "outputs": [],
   "source": [
    "params_diffEq = SkeelBerzins.Params(; solver=:DiffEq)\n",
    "\n",
    "pb = pdepe(m, diff_eq, icfun, bdfun, x_mesh, t_span; params=params_diffEq)\n",
    "problem = DifferentialEquations.ODEProblem(pb)\n",
    "sol_diffEq = DifferentialEquations.solve(problem, Rosenbrock23())\n",
    "sol_reshaped_diffEq = reshape(sol_diffEq, pb)"
   ]
  },
  {
   "cell_type": "code",
   "execution_count": null,
   "metadata": {},
   "outputs": [],
   "source": []
  }
 ],
 "metadata": {
  "kernelspec": {
   "display_name": "Julia 1.10.0",
   "language": "julia",
   "name": "julia-1.10"
  },
  "language_info": {
   "file_extension": ".jl",
   "mimetype": "application/julia",
   "name": "julia",
   "version": "1.10.0"
  }
 },
 "nbformat": 4,
 "nbformat_minor": 2
}
