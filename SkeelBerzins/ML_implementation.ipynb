{
 "cells": [
  {
   "cell_type": "markdown",
   "metadata": {},
   "source": [
    "# Julia implementation of Manuel's code"
   ]
  },
  {
   "cell_type": "code",
   "execution_count": null,
   "metadata": {},
   "outputs": [],
   "source": [
    "using Plots\n",
    "using ForwardDiff\n",
    "using SkeelBerzins\n",
    "using DifferentialEquations"
   ]
  },
  {
   "cell_type": "code",
   "execution_count": null,
   "metadata": {},
   "outputs": [],
   "source": [
    "a = 6\n",
    "\n",
    "function free_energy_2w(u)\n",
    "\n",
    "    return u * log(u) + (1 - u) * log(1 - u) + a * u * (1 - u)\n",
    "end\n",
    "\n",
    "dFdu = (u) -> ForwardDiff.derivative(free_energy_2w, u)\n",
    "\n",
    "d2Fdu2 = (u) -> ForwardDiff.derivative(dFdu, u)\n"
   ]
  },
  {
   "cell_type": "code",
   "execution_count": null,
   "metadata": {},
   "outputs": [],
   "source": [
    "eps = 1e-3\n",
    "\n",
    "u = range(eps, 1-eps, 200)\n",
    "\n",
    "F = free_energy_2w.(u)\n",
    "\n",
    "f = dFdu.(u)\n",
    "fp = d2Fdu2.(u)\n",
    "\n",
    "plot(u,  F)\n",
    "plot!(u, f * eps^0.5)\n",
    "plot!(u, fp * eps)"
   ]
  },
  {
   "cell_type": "markdown",
   "metadata": {},
   "source": [
    "## Skeel-Berzins implementation of Cahn-Hilliard\n",
    "\n",
    "We have the set of equations\n",
    "\n",
    "$$\n",
    "\\frac{\\partial c}{\\partial t} = \\nabla \\cdot (M(c) \\cdot \\nabla \\mu) \\\\\n",
    "\\mu = f(c) - \\gamma \\nabla^2 c\n",
    "$$\n",
    "\n",
    "After a variable transform $y = \\ln(\\frac{c}{1-c})$, we get the equations\n",
    "\n",
    "$$\n",
    "\\frac{dc}{dy}\\frac{\\partial y}{\\partial t} = \\nabla \\cdot (M(c(y)) \\cdot \\nabla \\mu) \\\\\n",
    "\\mu = \\tilde f(y) + y - \\gamma \\nabla \\left( \\frac{dc}{dy} \\nabla y \\right)\n",
    "$$\n",
    "\n",
    "For the specific tranform, we have\n",
    "\n",
    "$$\n",
    "\\frac{dc}{dy} = c(1-c) = \\frac{e^y}{(1+e^y)^2}\n",
    "$$\n",
    "\n",
    "and \n",
    "\n",
    "$$\n",
    "f(c) = \\tilde f(y) + y\n",
    "$$\n",
    "\n",
    "In radial coordinates, we have\n",
    "\n",
    "$$\n",
    "\\frac{dc}{dy}\\frac{\\partial y}{\\partial t} = \\frac{1}{r^2} \\partial_r (r^2 M(c(y)) \\partial_r \\mu) \\\\\n",
    "\\mu = \\tilde f(y) + y - \\gamma \\frac{1}{r^2} \\partial_r \\left( r^2 \\frac{dc}{dy} \\partial_r y \\right)\n",
    "$$\n"
   ]
  },
  {
   "cell_type": "markdown",
   "metadata": {},
   "source": [
    "For the Skeel-Berzins integrator, we have\n",
    "\n",
    "$$\n",
    "\\hat m = 2 \\\\\n",
    "\\hat c = \\left[\\frac{dc}{dy}, 0 \\right]^T \\\\\n",
    "\\hat f(r, t, (y, \\mu), \\partial_r (y, \\mu)) = \\left[M(c(y)) \\partial_r \\mu, - \\gamma \\frac{dc}{dy} \\partial_r y\\right] \\\\\n",
    "\\hat s(r, t, (y, \\mu), \\partial_r (y, \\mu)) = [0, \\tilde f(y)  + y - \\mu]\n",
    "$$"
   ]
  },
  {
   "cell_type": "code",
   "execution_count": null,
   "metadata": {},
   "outputs": [],
   "source": [
    "# Define the mesh\n",
    "\n",
    "N_x = 100\n",
    "\n",
    "R = 1\n",
    "T = 10\n",
    "\n",
    "r_mesh = collect(range(0, R; length=N_x));"
   ]
  },
  {
   "cell_type": "code",
   "execution_count": null,
   "metadata": {},
   "outputs": [],
   "source": [
    "gamma = 1\n",
    "\n",
    "mobility = (c) -> c * (1 - c)\n",
    "\n",
    "m = 2\n",
    "\n",
    "# y_of_u = (u) -> log(u / (1 - u))\n",
    "# u_of_y = (y) -> exp(y) / (1 + exp(y))\n",
    "\n",
    "# y_of_u = (u) -> u\n",
    "# u_of_y = (y) -> y\n",
    "\n",
    "dudy = (y) -> ForwardDiff.derivative(u_of_y, y)\n",
    "du2dy2 = (y) -> ForwardDiff.derivative(dudy, y)\n",
    "\n",
    "ft = (u) -> a * u * (1 - u)\n",
    "\n",
    "function pdefun(r, t, u_state, dudx)\n",
    "\n",
    "    # Unpack variables.\n",
    "    y = u_state[1]\n",
    "    mu = u_state[2]\n",
    "\n",
    "    dydr = dudx[1]\n",
    "    dmudr = dudx[2]\n",
    "\n",
    "    # physical concentration.\n",
    "    u = u_of_y(y)\n",
    "\n",
    "    # Construct the Skeel-Berzkins functions.\n",
    "    c = SVector(dudy.(y), 0)\n",
    "\n",
    "    f = SVector(mobility.(u) * dmudr,\n",
    "                - gamma * dydr * dudy.(y))\n",
    "    s = SVector(0,\n",
    "                (y + ft.(u) - mu))\n",
    "\n",
    "    return c, f, s\n",
    "end\n",
    "\n",
    "# test the function evaluation\n",
    "pdefun(0.5, 0.5, SVector(0.5, 0.5), SVector(0.5, 0.5))"
   ]
  },
  {
   "cell_type": "code",
   "execution_count": null,
   "metadata": {},
   "outputs": [],
   "source": [
    "function icfun(x)\n",
    "\n",
    "    u00 = eps .+ 0. * x\n",
    "\n",
    "    u0 = SVector(y_of_u.(u00), dFdu.(u00))\n",
    "\n",
    "    # u0 = SVector(0., 0.)\n",
    "\n",
    "    return u0\n",
    "end\n",
    "\n",
    "# Test the function e.valuation\n",
    "icfun(r_mesh)"
   ]
  },
  {
   "cell_type": "code",
   "execution_count": null,
   "metadata": {},
   "outputs": [],
   "source": [
    "function bdfun(rl, u_state_l, r_r, u_state_r, t)\n",
    "\n",
    "    pl = SVector(0, 0)\n",
    "    ql = SVector(1, 1)  # Neumann-0 BC at inner radius\n",
    "\n",
    "    pr = SVector(0.1, 0)\n",
    "    qr = -SVector(1, 1)\n",
    "\n",
    "    return pl, ql, pr, qr\n",
    "end"
   ]
  },
  {
   "cell_type": "code",
   "execution_count": null,
   "metadata": {},
   "outputs": [],
   "source": [
    "params_diffEq = SkeelBerzins.Params(; solver=:DiffEq)\n",
    "\n",
    "t_span = (0, T)\n",
    "\n",
    "pb = pdepe(m, pdefun, icfun, bdfun, r_mesh, t_span; params=params_diffEq)"
   ]
  },
  {
   "cell_type": "code",
   "execution_count": null,
   "metadata": {},
   "outputs": [],
   "source": [
    "problem = DifferentialEquations.ODEProblem(pb)\n",
    "sol_diffEq = DifferentialEquations.solve(problem, Rosenbrock23(), abstol=1e-9)\n",
    "sol_reshaped_diffEq = reshape(sol_diffEq, pb)"
   ]
  },
  {
   "cell_type": "code",
   "execution_count": null,
   "metadata": {},
   "outputs": [],
   "source": [
    "plot(r_mesh, u_of_y.(sol_reshaped_diffEq.u[end][1, :]))\n",
    "# plot!(r_mesh, sol_reshaped_diffEq.u[end][2, :])"
   ]
  },
  {
   "cell_type": "code",
   "execution_count": null,
   "metadata": {},
   "outputs": [],
   "source": []
  }
 ],
 "metadata": {
  "kernelspec": {
   "display_name": "Julia 1.10.0",
   "language": "julia",
   "name": "julia-1.10"
  },
  "language_info": {
   "file_extension": ".jl",
   "mimetype": "application/julia",
   "name": "julia",
   "version": "1.10.0"
  }
 },
 "nbformat": 4,
 "nbformat_minor": 2
}
