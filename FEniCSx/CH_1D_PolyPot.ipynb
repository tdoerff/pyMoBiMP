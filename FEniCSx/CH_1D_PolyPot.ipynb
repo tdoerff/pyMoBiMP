{
 "cells": [
  {
   "cell_type": "code",
   "execution_count": null,
   "metadata": {},
   "outputs": [],
   "source": [
    "%load_ext autoreload\n",
    "%autoreload 2"
   ]
  },
  {
   "cell_type": "code",
   "execution_count": null,
   "metadata": {},
   "outputs": [],
   "source": [
    "import dolfinx as dfx\n",
    "\n",
    "from dolfinx.fem.petsc import NonlinearProblem\n",
    "from dolfinx.nls.petsc import NewtonSolver\n",
    "\n",
    "from matplotlib import pyplot as plt\n",
    "\n",
    "from mpi4py import MPI\n",
    "\n",
    "import numpy as np\n",
    "\n",
    "from petsc4py import PETSc\n",
    "\n",
    "import pyvista\n",
    "\n",
    "import random\n",
    "\n",
    "import ufl\n",
    "\n",
    "from fenicsx_utils import evaluation_points_and_cells, get_mesh_spacing\n",
    "\n",
    "# Below is a workaround to get the pyvista viz. running.\n",
    "# https://github.com/pyvista/pyvista/issues/4776 (accessed: 2024/01/16)\n",
    "from trame.app import get_server\n",
    "\n",
    "CLIENT_TYPE = get_server().client_type\n",
    "\n",
    "if CLIENT_TYPE == 'vue2':\n",
    "# if True:  # <- Strangely, the workaround does not work. Force vuetify2.\n",
    "    from trame.widgets import vuetify2\n",
    "else:\n",
    "    from trame.widgets import vuetify3 as vuetify"
   ]
  },
  {
   "cell_type": "code",
   "execution_count": null,
   "metadata": {},
   "outputs": [],
   "source": [
    "comm_world = MPI.COMM_WORLD"
   ]
  },
  {
   "cell_type": "code",
   "execution_count": null,
   "metadata": {},
   "outputs": [],
   "source": [
    "# Set up the mesh\n",
    "\n",
    "n_elem = 64\n",
    "\n",
    "mesh = dfx.mesh.create_unit_interval(comm_world, n_elem)\n",
    "\n",
    "dx_cell = get_mesh_spacing(mesh)\n",
    "\n",
    "print(f\"Cell spacing: h = {dx_cell}\")\n",
    "\n",
    "# For later plotting use\n",
    "x = np.linspace(0, 1, 101)\n",
    "points_on_proc, cells = evaluation_points_and_cells(mesh, x)"
   ]
  },
  {
   "cell_type": "code",
   "execution_count": null,
   "metadata": {},
   "outputs": [],
   "source": [
    "elem1 = ufl.FiniteElement(\"Lagrange\", mesh.ufl_cell(), 1)\n",
    "\n",
    "V = dfx.fem.FunctionSpace(mesh, elem1 * elem1)  # A mixed two-component function space"
   ]
  },
  {
   "cell_type": "code",
   "execution_count": null,
   "metadata": {},
   "outputs": [],
   "source": [
    "# The mixed-element functions\n",
    "u = dfx.fem.Function(V)\n",
    "u0 = dfx.fem.Function(V)"
   ]
  },
  {
   "cell_type": "code",
   "execution_count": null,
   "metadata": {},
   "outputs": [],
   "source": [
    "# Compute the chemical potential df/dc\n",
    "free_energy = lambda u: 0.25 * (u**2 -1)**2 - 0.25\n",
    "\n",
    "fig, ax = plt.subplots()\n",
    "\n",
    "c_plot = np.linspace(-2, 2, 200)\n",
    "\n",
    "ax.plot(c_plot, free_energy(c_plot))\n",
    "\n",
    "plt.show()"
   ]
  },
  {
   "cell_type": "code",
   "execution_count": null,
   "metadata": {},
   "outputs": [],
   "source": [
    "dt = dfx.fem.Constant(mesh, dx_cell * 0.1)"
   ]
  },
  {
   "cell_type": "code",
   "execution_count": null,
   "metadata": {},
   "outputs": [],
   "source": [
    "# The variational form\n",
    "# --------------------\n",
    "from cahn_hilliard_utils import cahn_hilliard_form\n",
    "\n",
    "F = cahn_hilliard_form(u, u0, dt, free_energy=free_energy, theta=0.75, I_charge=0., lam=1.0)"
   ]
  },
  {
   "cell_type": "code",
   "execution_count": null,
   "metadata": {},
   "outputs": [],
   "source": [
    "# Initial data\n",
    "# ------------\n",
    "\n",
    "u_ini = dfx.fem.Function(V)\n",
    "\n",
    "# Random\n",
    "u_ini.sub(0).interpolate(lambda x: 0.01 * np.random.randn(*x[0].shape))\n",
    "\n",
    "# Zero-mean\n",
    "u_ini.sub(0).interpolate(lambda x: np.cos(np.pi * x[0]))\n",
    "\n",
    "# Constant\n",
    "# u_ini.sub(0).interpolate(lambda x: 1e-3 * np.ones_like(x[0]))\n",
    "u_ini.sub(1).interpolate(lambda x: np.zeros_like(x[0]))\n",
    "\n",
    "u_ini.x.scatter_forward()\n",
    "\n",
    "u_ini_vals = u_ini.sub(0).eval(points_on_proc, cells)\n",
    "\n",
    "plt.figure()\n",
    "\n",
    "plt.plot(x, u_ini_vals)\n",
    "\n",
    "plt.show()"
   ]
  },
  {
   "cell_type": "code",
   "execution_count": null,
   "metadata": {},
   "outputs": [],
   "source": [
    "problem = NonlinearProblem(F, u)\n",
    "\n",
    "solver = NewtonSolver(comm_world, problem)\n",
    "\n",
    "solver.convergence_criterion = \"incremental\"\n",
    "solver.rtol = 1e-6\n",
    "\n",
    "# # We can customize the linear solver used inside the NewtonSolver by\n",
    "# # modifying the PETSc options\n",
    "ksp = solver.krylov_solver\n",
    "opts = PETSc.Options()  # type: ignore\n",
    "option_prefix = ksp.getOptionsPrefix()\n",
    "opts[f\"{option_prefix}ksp_type\"] = \"preonly\"\n",
    "opts[f\"{option_prefix}pc_type\"] = \"lu\"\n",
    "ksp.setFromOptions()"
   ]
  },
  {
   "cell_type": "code",
   "execution_count": null,
   "metadata": {},
   "outputs": [],
   "source": [
    "# The time loop\n",
    "t = 0.\n",
    "\n",
    "T = 10.  # ending time\n",
    "\n",
    "u.interpolate(u_ini)\n",
    "\n",
    "u_out = []\n",
    "t_out = []\n",
    "\n",
    "n_out = 11\n",
    "it_out = 0\n",
    "\n",
    "# Write the initial data.\n",
    "u_out.append(u.sub(0).eval(points_on_proc, cells))\n",
    "t_out.append(t)\n",
    "it_out += 1\n",
    "\n",
    "while t < T:\n",
    "# for it in range(1):\n",
    "\n",
    "    u0.x.array[:] = u.x.array[:]\n",
    "\n",
    "    if float(dt) < 1e-6:\n",
    "\n",
    "        u_out.append(u.sub(0).eval(points_on_proc, cells))\n",
    "        t_out.append(t)\n",
    "\n",
    "        raise RuntimeError(f\"Timestep too small (dt={dt.value})!\")\n",
    "\n",
    "    try:\n",
    "        iterations, success = solver.solve(u)\n",
    "    except RuntimeError as e:\n",
    "        print(e)\n",
    "\n",
    "        # reset and continue with smaller time step.\n",
    "        u.x.array[:] = u0.x.array[:]\n",
    "\n",
    "        dt.value *= 0.5\n",
    "\n",
    "        print(f\"Decrease timestep to dt={dt.value:1.3e}\")\n",
    "\n",
    "        continue\n",
    "\n",
    "    t += float(dt)\n",
    "\n",
    "    if t > it_out / n_out * T:\n",
    "\n",
    "        print(f\">>> output #{it_out:>4}\")\n",
    "\n",
    "        u_out.append(u.sub(0).eval(points_on_proc, cells))\n",
    "        t_out.append(t)\n",
    "        it_out += 1\n",
    "\n",
    "    dt.value *= 1.01\n",
    "\n",
    "    print(f\"t = {t:1.6f} : dt = {dt.value:1.3e}, its = {iterations}\")"
   ]
  },
  {
   "cell_type": "code",
   "execution_count": null,
   "metadata": {},
   "outputs": [],
   "source": [
    "fig, ax = plt.subplots()\n",
    "\n",
    "for it_out, (u, t) in enumerate(zip(u_out, t_out)):\n",
    "\n",
    "    color = (it_out / len(t_out), 0, 0)\n",
    "\n",
    "    ax.plot(x, u, color=color)\n",
    "\n",
    "plt.show()"
   ]
  },
  {
   "cell_type": "code",
   "execution_count": null,
   "metadata": {},
   "outputs": [],
   "source": []
  }
 ],
 "metadata": {
  "kernelspec": {
   "display_name": "fenicsx-env",
   "language": "python",
   "name": "python3"
  },
  "language_info": {
   "codemirror_mode": {
    "name": "ipython",
    "version": 3
   },
   "file_extension": ".py",
   "mimetype": "text/x-python",
   "name": "python",
   "nbconvert_exporter": "python",
   "pygments_lexer": "ipython3",
   "version": "3.11.7"
  }
 },
 "nbformat": 4,
 "nbformat_minor": 2
}
