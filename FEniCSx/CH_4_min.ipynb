{
 "cells": [
  {
   "cell_type": "code",
   "execution_count": null,
   "metadata": {},
   "outputs": [],
   "source": [
    "%load_ext autoreload\n",
    "%autoreload 2"
   ]
  },
  {
   "cell_type": "code",
   "execution_count": null,
   "metadata": {},
   "outputs": [],
   "source": [
    "import dolfinx as dfx\n",
    "\n",
    "from dolfinx.fem.petsc import NonlinearProblem\n",
    "\n",
    "%matplotlib widget\n",
    "from matplotlib import pyplot as plt\n",
    "# plt.style.use('fivethirtyeight')\n",
    "\n",
    "from mpi4py import MPI\n",
    "\n",
    "import numpy as np\n",
    "\n",
    "from petsc4py import PETSc\n",
    "\n",
    "import random\n",
    "\n",
    "import ufl\n",
    "\n",
    "from cahn_hilliard_utils import (\n",
    "    charge_discharge_stop, \n",
    "    AnalyzeOCP,\n",
    "    y_of_c,\n",
    "    c_of_y,\n",
    "    populate_initial_data)\n",
    "\n",
    "from fenicsx_utils import (evaluation_points_and_cells,\n",
    "                           get_mesh_spacing,\n",
    "                           time_stepping,\n",
    "                           NewtonSolver,\n",
    "                           Fenicx1DOutput)\n",
    "\n",
    "from gmsh_utils import dfx_spherical_mesh\n",
    "\n",
    "from plotting_utils import (\n",
    "    add_arrow, \n",
    "    plot_charging_cycle, \n",
    "    plot_time_sequence,\n",
    "    animate_time_series)\n",
    "\n",
    "comm_world = MPI.COMM_WORLD"
   ]
  },
  {
   "cell_type": "code",
   "execution_count": null,
   "metadata": {},
   "outputs": [],
   "source": [
    "# Discretization\n",
    "# --------------\n",
    "\n",
    "# Set up the mesh\n",
    "n_elem = 128\n",
    "\n",
    "mesh = dfx.mesh.create_unit_interval(comm_world, n_elem)\n",
    "\n",
    "dx_cell = get_mesh_spacing(mesh)\n",
    "\n",
    "print(f\"Cell spacing: h = {dx_cell}\")\n",
    "\n",
    "# For later plotting use\n",
    "x = np.linspace(0, 1, 101)\n",
    "points_on_proc, cells = evaluation_points_and_cells(mesh, x)\n",
    "\n",
    "# Initial timestep size\n",
    "dt = dfx.fem.Constant(mesh, dx_cell * 0.01)"
   ]
  },
  {
   "cell_type": "code",
   "execution_count": null,
   "metadata": {},
   "outputs": [],
   "source": [
    "elem1 = ufl.FiniteElement(\"Lagrange\", mesh.ufl_cell(), 1)\n",
    "\n",
    "mixed_element = elem1 * elem1\n",
    "\n",
    "V = dfx.fem.FunctionSpace(mesh, mixed_element)  # A mixed two-component function space"
   ]
  },
  {
   "cell_type": "code",
   "execution_count": null,
   "metadata": {},
   "outputs": [],
   "source": [
    "# The mixed-element functions\n",
    "u = dfx.fem.Function(V)\n",
    "u0 = dfx.fem.Function(V)"
   ]
  },
  {
   "cell_type": "code",
   "execution_count": null,
   "metadata": {},
   "outputs": [],
   "source": [
    "# Compute the chemical potential df/dc\n",
    "a = 6. / 4\n",
    "b = 0.2\n",
    "cc = 5\n",
    "\n",
    "# a = 5. # 6. / 4\n",
    "# b = 0. # 0.2\n",
    "# cc = 0 # 5\n",
    "\n",
    "free_energy = lambda u, log, sin: u * log(u) + (1-u) * log(1-u) + a * u * (1 - u) + b * sin(cc * np.pi * u)\n",
    "\n",
    "fig, ax = plt.subplots()\n",
    "\n",
    "eps = 1e-3\n",
    "\n",
    "c_plot = np.linspace(eps, 1-eps, 200)\n",
    "\n",
    "ax.plot(c_plot, free_energy(c_plot, np.log, np.sin))\n",
    "\n",
    "plt.show()"
   ]
  },
  {
   "cell_type": "code",
   "execution_count": null,
   "metadata": {},
   "outputs": [],
   "source": [
    "# Experimental setup\n",
    "# ------------------\n",
    "\n",
    "T_final = 2.  # ending time\n",
    "\n",
    "# charging current\n",
    "I_charge = dfx.fem.Constant(mesh, 1.0)\n",
    "\n",
    "def experiment(t, u, I_charge, **kwargs):\n",
    "\n",
    "    return charge_discharge_stop(t, u, I_charge, c_of_y=lambda y: c_of_y(y, ufl.exp), **kwargs)\n",
    "\n",
    "event_params = dict(I_charge=I_charge, stop_at_empty=False, cycling=False)"
   ]
  },
  {
   "cell_type": "code",
   "execution_count": null,
   "metadata": {},
   "outputs": [],
   "source": [
    "# The variational form\n",
    "# --------------------\n",
    "from cahn_hilliard_utils import cahn_hilliard_form\n",
    "\n",
    "c_of_y1 = lambda y: c_of_y(y, ufl.exp)\n",
    "# c_of_y=lambda y: y\n",
    "\n",
    "params = dict(I_charge=I_charge)\n",
    "\n",
    "F = cahn_hilliard_form(\n",
    "    u,\n",
    "    u0,\n",
    "    dt,\n",
    "    free_energy=lambda c: free_energy(c, ufl.ln, ufl.sin),\n",
    "    theta=0.75,\n",
    "    c_of_y=c_of_y1,\n",
    "    M=lambda c: 1. * c * (1 - c),\n",
    "    lam=0.1,\n",
    "    **params\n",
    ")"
   ]
  },
  {
   "cell_type": "code",
   "execution_count": null,
   "metadata": {},
   "outputs": [],
   "source": [
    "# Initial data\n",
    "# ------------\n",
    "\n",
    "u_ini = dfx.fem.Function(V)\n",
    "\n",
    "# Constant\n",
    "c_ini_fun = lambda x: eps * np.ones_like(x[0])\n",
    "\n",
    "# Initial charge distribution.\n",
    "# c_ini_fun = lambda x: eps + 0.5 * np.sin(np.pi * x[0])\n",
    "\n",
    "populate_initial_data(u_ini, c_ini_fun, lambda c: free_energy(c, ufl.ln, ufl.sin))\n",
    "\n",
    "plt.figure()\n",
    "\n",
    "plt.plot(x, c_of_y(u_ini.sub(0).eval(points_on_proc, cells), np.exp))\n",
    "plt.plot(x, u_ini.sub(1).eval(points_on_proc, cells))\n",
    "\n",
    "plt.show()"
   ]
  },
  {
   "cell_type": "code",
   "execution_count": null,
   "metadata": {},
   "outputs": [],
   "source": [
    "problem = NonlinearProblem(F, u)\n",
    "\n",
    "solver = NewtonSolver(comm_world, problem)"
   ]
  },
  {
   "cell_type": "code",
   "execution_count": null,
   "metadata": {},
   "outputs": [],
   "source": [
    "u.interpolate(u_ini)\n",
    "\n",
    "n_out = 501\n",
    "\n",
    "output = Fenicx1DOutput(u, np.linspace(0, T_final, n_out), x)\n",
    "\n",
    "rt_analysis = AnalyzeOCP(c_of_y = lambda y: c_of_y(y, ufl.exp))\n",
    "\n",
    "time_stepping(\n",
    "    solver,\n",
    "    u,\n",
    "    u0,\n",
    "    T_final,\n",
    "    dt,\n",
    "    dt_increase=1.0,\n",
    "    dt_max=1e-3,\n",
    "    event_handler=experiment,\n",
    "    output=output,\n",
    "    runtime_analysis=rt_analysis,\n",
    "    **event_params,\n",
    ")"
   ]
  },
  {
   "cell_type": "code",
   "execution_count": null,
   "metadata": {},
   "outputs": [],
   "source": [
    "fig, ax = plot_time_sequence(output, lambda y: c_of_y(y, np.exp))\n",
    "\n",
    "plt.show()"
   ]
  },
  {
   "cell_type": "code",
   "execution_count": null,
   "metadata": {},
   "outputs": [],
   "source": [
    "mesh_3d, _, _ = dfx_spherical_mesh(resolution=1.)"
   ]
  },
  {
   "cell_type": "code",
   "execution_count": null,
   "metadata": {},
   "outputs": [],
   "source": [
    "from plotting_utils import PyvistaAnimation\n",
    "\n",
    "anim = PyvistaAnimation(\n",
    "    output,\n",
    "    mesh_3d=mesh_3d,\n",
    "    c_of_y=lambda y: c_of_y(y, np.exp),\n",
    "    res=1.0,\n",
    "    clim=[0.0, 1.0],\n",
    "    cmap=\"hot\",\n",
    ")\n",
    "\n",
    "widget = anim.get_slider_widget()"
   ]
  },
  {
   "cell_type": "code",
   "execution_count": null,
   "metadata": {},
   "outputs": [],
   "source": [
    "anim.get_gif_animation()"
   ]
  },
  {
   "cell_type": "code",
   "execution_count": null,
   "metadata": {},
   "outputs": [],
   "source": [
    "q, f_bar, mu_bc = np.array(rt_analysis.data).T\n",
    "t = rt_analysis.t\n",
    "\n",
    "fig, ax = plot_charging_cycle(q, mu_bc, eps)\n",
    "\n",
    "# TODO: use AD or something else to generalize\n",
    "q_plot = np.linspace(eps, 1-eps, 101)\n",
    "dFdc = np.log(q_plot / (1 - q_plot)) + a * (1 - 2 * q_plot) + b * np.cos(cc * np.pi * q_plot)\n",
    "\n",
    "ax.plot(q_plot, -dFdc, 'r--', label=r\"$f(q)$\")\n",
    "\n",
    "fig.savefig(\"pp_output/CH_4_min_charging_cycle.pdf\")\n",
    "\n",
    "plt.show()"
   ]
  }
 ],
 "metadata": {
  "kernelspec": {
   "display_name": "fenicsx-env",
   "language": "python",
   "name": "python3"
  },
  "language_info": {
   "codemirror_mode": {
    "name": "ipython",
    "version": 3
   },
   "file_extension": ".py",
   "mimetype": "text/x-python",
   "name": "python",
   "nbconvert_exporter": "python",
   "pygments_lexer": "ipython3",
   "version": "3.12.2"
  }
 },
 "nbformat": 4,
 "nbformat_minor": 2
}
