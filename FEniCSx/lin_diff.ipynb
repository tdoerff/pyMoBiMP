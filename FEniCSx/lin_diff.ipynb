{
 "cells": [
  {
   "cell_type": "code",
   "execution_count": null,
   "metadata": {},
   "outputs": [],
   "source": [
    "%load_ext autoreload\n",
    "%autoreload 2"
   ]
  },
  {
   "cell_type": "code",
   "execution_count": null,
   "metadata": {},
   "outputs": [],
   "source": [
    "import dolfinx as dfx\n",
    "\n",
    "from dolfinx.fem.petsc import NonlinearProblem\n",
    "\n",
    "%matplotlib widget\n",
    "from matplotlib import pyplot as plt\n",
    "# plt.style.use('fivethirtyeight')\n",
    "\n",
    "from mpi4py import MPI\n",
    "\n",
    "import numpy as np\n",
    "\n",
    "from petsc4py import PETSc\n",
    "\n",
    "import random\n",
    "\n",
    "import ufl\n",
    "\n",
    "from cahn_hilliard_utils import charge_discharge_stop, AnalyzeOCP\n",
    "\n",
    "from fenicsx_utils import (evaluation_points_and_cells,\n",
    "                           get_mesh_spacing,\n",
    "                           time_stepping,\n",
    "                           NewtonSolver,\n",
    "                           Fenicx1DOutput)\n",
    "\n",
    "from plotting_utils import add_arrow"
   ]
  },
  {
   "cell_type": "code",
   "execution_count": null,
   "metadata": {},
   "outputs": [],
   "source": [
    "comm_world = MPI.COMM_WORLD"
   ]
  },
  {
   "cell_type": "code",
   "execution_count": null,
   "metadata": {},
   "outputs": [],
   "source": [
    "# Set up the mesh\n",
    "\n",
    "n_elem = 128\n",
    "\n",
    "mesh = dfx.mesh.create_unit_interval(comm_world, n_elem)\n",
    "\n",
    "dx_cell = get_mesh_spacing(mesh)\n",
    "\n",
    "print(f\"Cell spacing: h = {dx_cell}\")\n",
    "\n",
    "# For later plotting use\n",
    "x = np.linspace(0, 1, 101)\n",
    "points_on_proc, cells = evaluation_points_and_cells(mesh, x)"
   ]
  },
  {
   "cell_type": "code",
   "execution_count": null,
   "metadata": {},
   "outputs": [],
   "source": [
    "elem1 = ufl.FiniteElement(\"Lagrange\", mesh.ufl_cell(), 1)\n",
    "\n",
    "V = dfx.fem.FunctionSpace(mesh, elem1 * elem1)  # A mixed two-component function space"
   ]
  },
  {
   "cell_type": "code",
   "execution_count": null,
   "metadata": {},
   "outputs": [],
   "source": [
    "# The mixed-element functions\n",
    "u = dfx.fem.Function(V)\n",
    "u0 = dfx.fem.Function(V)"
   ]
  },
  {
   "cell_type": "code",
   "execution_count": null,
   "metadata": {},
   "outputs": [],
   "source": [
    "# Compute the chemical potential df/dc\n",
    "\n",
    "free_energy = lambda c, log: c * log(c) + (1 - c) * log(1 - c)\n",
    "\n",
    "fig, ax = plt.subplots()\n",
    "\n",
    "eps = 1e-3\n",
    "\n",
    "c_plot = np.linspace(eps, 1-eps, 200)\n",
    "\n",
    "ax.plot(c_plot, free_energy(c_plot, np.log))\n",
    "\n",
    "plt.show()"
   ]
  },
  {
   "cell_type": "code",
   "execution_count": null,
   "metadata": {},
   "outputs": [],
   "source": [
    "c_of_y = lambda y, exp: exp(y) / (1 + exp(y))"
   ]
  },
  {
   "cell_type": "code",
   "execution_count": null,
   "metadata": {},
   "outputs": [],
   "source": [
    "# Test the transformation\n",
    "\n",
    "y_of_c = lambda c, log: log(c / (1 - c))\n",
    "\n",
    "assert np.allclose(np.abs(c_of_y(y_of_c(c_plot, np.log), np.exp) - c_plot), 0.)"
   ]
  },
  {
   "cell_type": "code",
   "execution_count": null,
   "metadata": {},
   "outputs": [],
   "source": [
    "dt = dfx.fem.Constant(mesh, dx_cell * 0.01)"
   ]
  },
  {
   "cell_type": "code",
   "execution_count": null,
   "metadata": {},
   "outputs": [],
   "source": [
    "# Experimental setup\n",
    "# ------------------\n",
    "\n",
    "# charging current\n",
    "I_charge = dfx.fem.Constant(mesh, 1.0)\n",
    "\n",
    "def experiment(t, u, I_charge):\n",
    "\n",
    "    return charge_discharge_stop(t, u, I_charge, c_of_y=lambda y: c_of_y(y, ufl.exp))\n",
    "\n",
    "event_params = dict(I_charge=I_charge)"
   ]
  },
  {
   "cell_type": "code",
   "execution_count": null,
   "metadata": {},
   "outputs": [],
   "source": [
    "# The variational form\n",
    "# --------------------\n",
    "from cahn_hilliard_utils import cahn_hilliard_form\n",
    "\n",
    "F = cahn_hilliard_form(\n",
    "    u,\n",
    "    u0,\n",
    "    dt,\n",
    "    free_energy=lambda c: free_energy(c, ufl.ln),\n",
    "    theta=0.75,\n",
    "    c_of_y=lambda y: c_of_y(y, ufl.exp),\n",
    "    M=lambda c: 1. * c * (1 - c),\n",
    "    lam=0.01,\n",
    "    **event_params\n",
    ")"
   ]
  },
  {
   "cell_type": "code",
   "execution_count": null,
   "metadata": {},
   "outputs": [],
   "source": [
    "# Initial data\n",
    "# ------------\n",
    "\n",
    "u_ini = dfx.fem.Function(V)\n",
    "\n",
    "# Random\n",
    "c_ini_fun = lambda x: 0.01 * np.random.randn(*x[0].shape)\n",
    "\n",
    "# Zero-mean\n",
    "c_ini_fun = lambda x: np.cos(np.pi * x[0])\n",
    "\n",
    "# Constant\n",
    "c_ini_fun = lambda x: eps * np.ones_like(x[0])\n",
    "\n",
    "# Initial charge distribution.\n",
    "# c_ini_fun = lambda x: eps + 0.5 * np.sin(np.pi * x[0])\n",
    "\n",
    "\n",
    "# Store concentration-like quantity into state vector\n",
    "# ---------------------------------------------------\n",
    "\n",
    "W = V.sub(1).collapse()[0]\n",
    "c_ini = dfx.fem.Function(W)\n",
    "c_ini.interpolate(c_ini_fun)\n",
    "\n",
    "y_ini = dfx.fem.Expression(y_of_c(c_ini, ufl.ln), W.element.interpolation_points())\n",
    "\n",
    "u_ini.sub(0).interpolate(y_ini)\n",
    "\n",
    "\n",
    "# Store chemical potential into state vector\n",
    "# ------------------------------------------\n",
    "\n",
    "W = u_ini.sub(1).function_space.element\n",
    "c_ini = ufl.variable(c_ini)\n",
    "dFdc = ufl.diff(free_energy(c_ini, ufl.ln), c_ini)\n",
    "\n",
    "u_ini.sub(1).interpolate(dfx.fem.Expression(dFdc, W.interpolation_points()))\n",
    "\n",
    "u_ini.x.scatter_forward()\n",
    "\n",
    "plt.figure()\n",
    "\n",
    "plt.plot(x, c_of_y(u_ini.sub(0).eval(points_on_proc, cells), np.exp))\n",
    "plt.plot(x, u_ini.sub(1).eval(points_on_proc, cells))\n",
    "\n",
    "plt.show()"
   ]
  },
  {
   "cell_type": "code",
   "execution_count": null,
   "metadata": {},
   "outputs": [],
   "source": [
    "problem = NonlinearProblem(F, u)\n",
    "\n",
    "solver = NewtonSolver(comm_world, problem)"
   ]
  },
  {
   "cell_type": "code",
   "execution_count": null,
   "metadata": {},
   "outputs": [],
   "source": [
    "T = 10.  # ending time\n",
    "\n",
    "u.interpolate(u_ini)\n",
    "\n",
    "n_out = 501\n",
    "\n",
    "output = Fenicx1DOutput(u, np.linspace(0, T, n_out), x)\n",
    "\n",
    "rt_analysis = AnalyzeOCP(y_of_c = lambda c: y_of_c(c, ufl.ln))\n",
    "\n",
    "time_stepping(\n",
    "    solver,\n",
    "    u,\n",
    "    u0,\n",
    "    T,\n",
    "    dt,\n",
    "    dt_increase=1.01,\n",
    "    dt_max=1e-3,\n",
    "    event_handler=experiment,\n",
    "    output=output,\n",
    "    runtime_analysis=rt_analysis,\n",
    "    **event_params,\n",
    ")"
   ]
  },
  {
   "cell_type": "code",
   "execution_count": null,
   "metadata": {},
   "outputs": [],
   "source": [
    "fig, axs = plt.subplots(2, 1, sharex=True)\n",
    "\n",
    "x, t_out, data_out = output.get_output(return_time=True, return_coords=True)\n",
    "\n",
    "data_out = np.array(data_out).squeeze()\n",
    "\n",
    "for it_out, (data_t, t) in enumerate(zip(data_out, t_out)):\n",
    "\n",
    "    y_t = data_t[0]\n",
    "    mu_t = data_t[1]\n",
    "\n",
    "    c_t = c_of_y(y_t, np.exp)\n",
    "\n",
    "    ax = axs[0]\n",
    "\n",
    "    color = (it_out / len(t_out), 0, 0)\n",
    "\n",
    "    ax.plot(x, c_t, color=color)\n",
    "\n",
    "    ax = axs[1]\n",
    "\n",
    "    color = (0, 0, it_out / len(t_out))\n",
    "\n",
    "    ax.plot(x, mu_t, color=color)\n",
    "\n",
    "plt.show()"
   ]
  },
  {
   "cell_type": "code",
   "execution_count": null,
   "metadata": {},
   "outputs": [],
   "source": [
    "fig, ax = plt.subplots()\n",
    "\n",
    "line, _, _ = ax.plot(x, c_of_y(data_out[0][0], np.exp))\n",
    "\n",
    "ax.set_ybound(0, 1)\n",
    "\n",
    "it_max = len(data_out)\n",
    "\n",
    "def update(it = 10):\n",
    "    \n",
    "    c = c_of_y(data_out[it][0], np.exp)\n",
    "    \n",
    "    line.set_ydata(c)\n",
    "    fig.canvas.draw_idle()\n",
    "\n",
    "import ipywidgets\n",
    "\n",
    "ipywidgets.interact(update, it=ipywidgets.IntSlider(min=0, max=it_max - 1, step=1, value=0))"
   ]
  },
  {
   "cell_type": "code",
   "execution_count": null,
   "metadata": {},
   "outputs": [],
   "source": [
    "fig, ax = plt.subplots()\n",
    "\n",
    "c = c_of_y(u.sub(0), ufl.exp)\n",
    "mu = u.sub(1).eval(points_on_proc, cells)\n",
    "\n",
    "W = V.sub(1).collapse()[0]\n",
    "\n",
    "c = ufl.variable(c)\n",
    "dFdc = ufl.diff(free_energy(c, ufl.ln), c)\n",
    "\n",
    "chem_pot = dfx.fem.Function(W)\n",
    "chem_pot.interpolate(dfx.fem.Expression(dFdc, W.element.interpolation_points()))\n",
    "chem_pot = chem_pot.eval(points_on_proc, cells)\n",
    "\n",
    "ax.plot(x, mu)\n",
    "ax.plot(x, chem_pot)\n",
    "\n",
    "plt.show()"
   ]
  },
  {
   "cell_type": "code",
   "execution_count": null,
   "metadata": {},
   "outputs": [],
   "source": [
    "q, f_bar, mu = np.array(rt_analysis.data).T\n",
    "t = rt_analysis.t\n",
    "\n",
    "fig, ax = plt.subplots()\n",
    "\n",
    "ax1 = ax.twinx()\n",
    "\n",
    "(p1,) = ax1.plot(t, q, '--', label=r\"$q$\")\n",
    "ax1.set_ylabel(r\"$q$\")\n",
    "\n",
    "(p2,) = ax.plot(t, mu, label=r\"$\\left. \\mu \\right|_{\\partial \\omega_I}$\")\n",
    "(p3,) = ax.plot(t, f_bar, label=r\"$\\bar f$\")\n",
    "\n",
    "labs = [l.get_label() for l in [p1, p2, p3]]\n",
    "\n",
    "ax.legend([p1, p2, p3], labs, loc=\"lower right\")\n",
    "\n",
    "plt.show()"
   ]
  },
  {
   "cell_type": "code",
   "execution_count": null,
   "metadata": {},
   "outputs": [],
   "source": [
    "fig, ax = plt.subplots()\n",
    "\n",
    "line_mu, = ax.plot(q, -mu, label=r\"$\\left. \\mu \\right|_{\\partial \\omega_I}$\")\n",
    "# line_f, = ax.plot(q, -f_bar, label=r\"$\\overline{f(c)}$\")\n",
    "\n",
    "# TODO: use AD or something else to generalize\n",
    "\n",
    "q = np.linspace(eps, 1-eps, 101)\n",
    "dFdc = np.log(q / (1 - q))\n",
    "\n",
    "ax.plot(q, -dFdc, label=r\"$f(q)$\")\n",
    "\n",
    "ax.set_xlabel(r\"q\")\n",
    "\n",
    "ax.legend()\n",
    "\n",
    "add_arrow(line_mu, position=0.4002)\n",
    "\n",
    "plt.show()"
   ]
  }
 ],
 "metadata": {
  "kernelspec": {
   "display_name": "fenicsx-env",
   "language": "python",
   "name": "python3"
  },
  "language_info": {
   "codemirror_mode": {
    "name": "ipython",
    "version": 3
   },
   "file_extension": ".py",
   "mimetype": "text/x-python",
   "name": "python",
   "nbconvert_exporter": "python",
   "pygments_lexer": "ipython3",
   "version": "3.12.2"
  }
 },
 "nbformat": 4,
 "nbformat_minor": 2
}
