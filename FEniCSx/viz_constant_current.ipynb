{
 "cells": [
  {
   "cell_type": "markdown",
   "metadata": {},
   "source": [
    "# Constant current experiment"
   ]
  },
  {
   "cell_type": "code",
   "execution_count": null,
   "metadata": {},
   "outputs": [],
   "source": [
    "%load_ext autoreload\n",
    "%autoreload 2"
   ]
  },
  {
   "cell_type": "code",
   "execution_count": null,
   "metadata": {},
   "outputs": [],
   "source": [
    "import dolfinx as dfx\n",
    "\n",
    "%matplotlib widget\n",
    "import matplotlib.pyplot as plt\n",
    "import numpy as np\n",
    "\n",
    "import os\n",
    "\n",
    "from pathlib import Path\n",
    "\n",
    "import pyvista as pv\n",
    "\n",
    "import re\n",
    "\n",
    "from plotting_utils import add_arrow"
   ]
  },
  {
   "cell_type": "code",
   "execution_count": null,
   "metadata": {},
   "outputs": [],
   "source": [
    "base_dir = Path(\"../simulation_output\")\n",
    "exp_dir = Path(\"const_current\")"
   ]
  },
  {
   "cell_type": "code",
   "execution_count": null,
   "metadata": {},
   "outputs": [],
   "source": [
    "def get_files_in_dir(data_dir):\n",
    "    return [file for file in os.listdir(data_dir) if file.endswith(\".txt\")]\n",
    "\n",
    "\n",
    "def get_current_from_file_name(filename):\n",
    "\n",
    "    number_pattern = r\"[+-]?((\\d+\\.\\d*)|(\\.\\d+)|(\\d+))([eE][+-]?\\d+)?\"\n",
    "\n",
    "    return float(re.search(number_pattern, filename).group())\n",
    "\n",
    "\n",
    "def sort_files(files):\n",
    "\n",
    "    currents = [get_current_from_file_name(file) for file in files]\n",
    "\n",
    "    indexes = np.argsort(currents)\n",
    "\n",
    "    sorted_files = [files[ind] for ind in indexes]\n",
    "\n",
    "    return sorted_files"
   ]
  },
  {
   "cell_type": "markdown",
   "metadata": {},
   "source": [
    "## Ideal material"
   ]
  },
  {
   "cell_type": "code",
   "execution_count": null,
   "metadata": {},
   "outputs": [],
   "source": [
    "material_dir = Path(\"ideal_material\")\n",
    "\n",
    "free_energy = lambda q: np.log(q / (1 - q))\n",
    "\n",
    "data_dir = base_dir / material_dir / exp_dir\n",
    "\n",
    "files = get_files_in_dir(data_dir)"
   ]
  },
  {
   "cell_type": "code",
   "execution_count": null,
   "metadata": {},
   "outputs": [],
   "source": [
    "plot = plot_charging_cycle(sort_files(files), free_energy)\n",
    "\n",
    "plot.show()"
   ]
  },
  {
   "cell_type": "markdown",
   "metadata": {},
   "source": [
    "## Non-Linear Single-Phase Material"
   ]
  },
  {
   "cell_type": "code",
   "execution_count": null,
   "metadata": {},
   "outputs": [],
   "source": [
    "material_dir = Path(\"non_linear_material\")\n",
    "\n",
    "free_energy = lambda c: np.log(c / (1 - c)) + \\\n",
    "    (2. * c - 1.) + 0.5 * (6. * c * (1. - c) - 1. / 3. * (8. * c * (1. - c) - 1) * (2 * c - 1.))\n",
    "\n",
    "data_dir = base_dir / material_dir / exp_dir\n",
    "\n",
    "files = get_files_in_dir(data_dir)"
   ]
  },
  {
   "cell_type": "code",
   "execution_count": null,
   "metadata": {},
   "outputs": [],
   "source": [
    "plot = plot_charging_cycle(sort_files(files), free_energy)\n",
    "\n",
    "plot.show()"
   ]
  },
  {
   "cell_type": "markdown",
   "metadata": {},
   "source": [
    "## 2-Phase Material"
   ]
  },
  {
   "cell_type": "code",
   "execution_count": null,
   "metadata": {},
   "outputs": [],
   "source": [
    "material_dir = Path(\"two_phase_material\")\n",
    "\n",
    "a = 5.\n",
    "b = 0.0\n",
    "c = 1.0\n",
    "\n",
    "free_energy = lambda q: np.log(q / (1 - q)) + a * (1 - 2 * q) + b * np.sin(np.pi * c * q)\n",
    "\n",
    "data_dir = base_dir / material_dir / exp_dir\n",
    "\n",
    "files = [file for file in os.listdir(data_dir) if file.endswith(\".txt\")]"
   ]
  },
  {
   "cell_type": "code",
   "execution_count": null,
   "metadata": {},
   "outputs": [],
   "source": [
    "plot = plot_charging_cycle(sort_files(files), free_energy)\n",
    "\n",
    "plot.show()"
   ]
  },
  {
   "cell_type": "markdown",
   "metadata": {},
   "source": [
    "## 4-Phase Material"
   ]
  },
  {
   "cell_type": "code",
   "execution_count": null,
   "metadata": {},
   "outputs": [],
   "source": [
    "material_dir = Path(\"four_phase_material\")\n",
    "\n",
    "a = 6/4\n",
    "b = 0.2\n",
    "c = 5.0\n",
    "\n",
    "free_energy = lambda q: np.log(q / (1 - q)) + a * (1 - 2 * q) + b * np.sin(np.pi * c * q)\n",
    "\n",
    "data_dir = base_dir / material_dir / exp_dir\n",
    "\n",
    "files = [file for file in os.listdir(data_dir) if file.endswith(\".txt\")]"
   ]
  },
  {
   "cell_type": "code",
   "execution_count": null,
   "metadata": {},
   "outputs": [],
   "source": [
    "plot = plot_charging_cycle(sort_files(files), free_energy)\n",
    "\n",
    "plot.show()"
   ]
  }
 ],
 "metadata": {
  "kernelspec": {
   "display_name": "fenicsx-env",
   "language": "python",
   "name": "python3"
  },
  "language_info": {
   "codemirror_mode": {
    "name": "ipython",
    "version": 3
   },
   "file_extension": ".py",
   "mimetype": "text/x-python",
   "name": "python",
   "nbconvert_exporter": "python",
   "pygments_lexer": "ipython3",
   "version": "3.12.2"
  }
 },
 "nbformat": 4,
 "nbformat_minor": 2
}
