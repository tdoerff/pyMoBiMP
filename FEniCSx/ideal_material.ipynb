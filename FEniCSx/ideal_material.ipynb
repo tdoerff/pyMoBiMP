{
 "cells": [
  {
   "cell_type": "code",
   "execution_count": null,
   "metadata": {},
   "outputs": [],
   "source": [
    "%load_ext autoreload\n",
    "%autoreload 2"
   ]
  },
  {
   "cell_type": "markdown",
   "metadata": {},
   "source": [
    "# Ideal Material experiment"
   ]
  },
  {
   "cell_type": "code",
   "execution_count": null,
   "metadata": {},
   "outputs": [],
   "source": [
    "import dolfinx as dfx\n",
    "\n",
    "import h5py\n",
    "\n",
    "%matplotlib widget\n",
    "from matplotlib import pyplot as plt\n",
    "\n",
    "from mpi4py import MPI\n",
    "\n",
    "import numpy as np\n",
    "\n",
    "from pathlib import Path\n",
    "\n",
    "from ideal_material_const_current import free_energy, experiment\n",
    "\n",
    "from cahn_hilliard_utils import AnalyzeOCP, Simulation\n",
    "\n",
    "from plotting_utils import (\n",
    "    dfx_spherical_mesh, \n",
    "    plot_time_sequence, \n",
    "    plot_charging_cycle, \n",
    "    PyvistaAnimation)"
   ]
  },
  {
   "cell_type": "markdown",
   "metadata": {},
   "source": [
    "## Setup and run the Simulation"
   ]
  },
  {
   "cell_type": "code",
   "execution_count": null,
   "metadata": {},
   "outputs": [],
   "source": [
    "comm_world = MPI.COMM_WORLD\n",
    "\n",
    "mesh = dfx.mesh.create_unit_interval(comm_world, 128)\n",
    "\n",
    "I_charge = 1.\n",
    "\n",
    "rt_analysis = AnalyzeOCP(free_energy=free_energy)\n",
    "\n",
    "sim = Simulation(\n",
    "    mesh,\n",
    "    free_energy=free_energy,\n",
    "    T_final=2. / I_charge,\n",
    "    I=I_charge,\n",
    "    experiment=experiment,\n",
    "    output_file=\"simulation_output/ideal_material/reference.xdmf\",\n",
    "    runtime_analysis=rt_analysis,\n",
    "    gamma=0.0,\n",
    ")"
   ]
  },
  {
   "cell_type": "code",
   "execution_count": null,
   "metadata": {},
   "outputs": [],
   "source": [
    "sim.run()"
   ]
  },
  {
   "cell_type": "markdown",
   "metadata": {},
   "source": [
    "## Read back the data"
   ]
  },
  {
   "cell_type": "code",
   "execution_count": null,
   "metadata": {},
   "outputs": [],
   "source": [
    "with h5py.File(\"simulation_output/ideal_material/reference.h5\", 'r+') as f:\n",
    "    print(f.keys())\n",
    "\n",
    "    # grid coordinates\n",
    "    x_data = f[\"Mesh/mesh/geometry\"][()]\n",
    "\n",
    "    # time steps (convert from string to float)\n",
    "    t = [float(t.replace(\"_\", \".\")) for t in f[\"Function/comp_0\"].keys()]\n",
    "\n",
    "    # list of data stored as numpy arrays\n",
    "    u_data = [(f[\"Function/comp_0\"][u_key][()].squeeze(),\n",
    "               f[\"Function/comp_1\"][u_key][()].squeeze())\n",
    "              for u_key in f[\"Function/comp_0\"]]\n",
    "\n",
    "u_data = np.array(u_data)"
   ]
  },
  {
   "cell_type": "markdown",
   "metadata": {},
   "source": [
    "## Visualizations"
   ]
  },
  {
   "cell_type": "code",
   "execution_count": null,
   "metadata": {},
   "outputs": [],
   "source": [
    "plot_time_sequence((x_data, t, u_data), lambda y: y, plot_mu=False)\n",
    "# plot_time_sequence(sim.output, lambda y: np.exp(y) / (np.exp(y) + 1))"
   ]
  },
  {
   "cell_type": "code",
   "execution_count": null,
   "metadata": {},
   "outputs": [],
   "source": [
    "mesh_3d, _, _ = dfx_spherical_mesh(comm_world, resolution=0.1, optimize=False)"
   ]
  },
  {
   "cell_type": "code",
   "execution_count": null,
   "metadata": {},
   "outputs": [],
   "source": [
    "output = sim.output\n",
    "\n",
    "anim = PyvistaAnimation(\n",
    "    sim.output,\n",
    "    # rt_analysis,\n",
    "    mesh_3d=mesh_3d,\n",
    "    c_of_y=lambda y: np.exp(y) / (1 + np.exp(y)),\n",
    "    res=1.0,\n",
    "    clim=[0.0, 1.0],\n",
    "    cmap=\"hot\",\n",
    ")\n",
    "\n",
    "widget = anim.get_slider_widget()"
   ]
  },
  {
   "cell_type": "code",
   "execution_count": null,
   "metadata": {},
   "outputs": [],
   "source": [
    "pp_dir = Path(\"../post_processing/\")\n",
    "exp_dir = Path(\"const_current\")\n",
    "material_dir = Path(\"ideal_material\")\n",
    "\n",
    "output_path = pp_dir / material_dir / exp_dir\n",
    "output_path.mkdir(exist_ok=True, parents=True)\n",
    "\n",
    "anim.get_gif_animation(output_path / \"anim.gif\")"
   ]
  },
  {
   "cell_type": "code",
   "execution_count": null,
   "metadata": {},
   "outputs": [],
   "source": [
    "q, f_bar, mu_bc = np.array(rt_analysis.data).T\n",
    "\n",
    "eps = 1e-3\n",
    "\n",
    "chart = plot_charging_cycle([(I_charge, q, mu_bc)], lambda q: np.log(q / (1 - q)))"
   ]
  },
  {
   "cell_type": "code",
   "execution_count": null,
   "metadata": {},
   "outputs": [],
   "source": []
  }
 ],
 "metadata": {
  "kernelspec": {
   "display_name": "fenicsx-env",
   "language": "python",
   "name": "python3"
  },
  "language_info": {
   "codemirror_mode": {
    "name": "ipython",
    "version": 3
   },
   "file_extension": ".py",
   "mimetype": "text/x-python",
   "name": "python",
   "nbconvert_exporter": "python",
   "pygments_lexer": "ipython3",
   "version": "3.12.2"
  }
 },
 "nbformat": 4,
 "nbformat_minor": 2
}
